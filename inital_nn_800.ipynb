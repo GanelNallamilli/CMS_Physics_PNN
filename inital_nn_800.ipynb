{
 "cells": [
  {
   "cell_type": "code",
   "execution_count": 1,
   "metadata": {},
   "outputs": [
    {
     "name": "stderr",
     "output_type": "stream",
     "text": [
      "d:\\Languages\\Python\\Python39\\lib\\site-packages\\scipy\\__init__.py:146: UserWarning: A NumPy version >=1.16.5 and <1.23.0 is required for this version of SciPy (detected version 1.26.1\n",
      "  warnings.warn(f\"A NumPy version >={np_minversion} and <{np_maxversion}\"\n"
     ]
    }
   ],
   "source": [
    "import pandas as pd\n",
    "import json\n",
    "import matplotlib.pyplot as plt\n",
    "import mplhep as hep\n",
    "import numpy as np\n",
    "import csv\n",
    "import torch\n",
    "from sklearn.model_selection import train_test_split\n",
    "import torch.nn as nn\n",
    "import torch.optim as optim\n",
    "from sklearn.metrics import confusion_matrix, ConfusionMatrixDisplay"
   ]
  },
  {
   "cell_type": "code",
   "execution_count": 2,
   "metadata": {},
   "outputs": [],
   "source": [
    "#Loads in the dataset\n",
    "df = pd.read_parquet(\"merged_nominal.parquet\")\n",
    "\n",
    "#Loads in the process names\n",
    "with open(\"summary.json\", \"r\") as f:\n",
    "  proc_dict = json.load(f)[\"sample_id_map\"]"
   ]
  },
  {
   "cell_type": "code",
   "execution_count": 3,
   "metadata": {},
   "outputs": [],
   "source": [
    "#Creates the background and signal datasets.\n",
    "background = pd.concat((df[df.process_id == proc_dict[\"DiPhoton\"]],df[df.process_id == proc_dict[\"TTGG\"]],df[df.process_id == proc_dict[\"TTGamma\"]],\n",
    "                        df[df.process_id == proc_dict[\"TTJets\"]],df[df.process_id == proc_dict[\"VBFH_M125\"]],df[df.process_id == proc_dict[\"WGamma\"]],\n",
    "                        df[df.process_id == proc_dict[\"ZGamma\"]],df[df.process_id == proc_dict[\"ggH_M125\"]],df[df.process_id == proc_dict[\"ttH_M125\"]],\n",
    "                        df[df.process_id == proc_dict[\"GJets\"]]), ignore_index=True, axis=0)\n",
    "signal = df[df.process_id == proc_dict[\"GluGluToRadionToHHTo2G2Tau_M-800\"]]"
   ]
  },
  {
   "cell_type": "code",
   "execution_count": null,
   "metadata": {},
   "outputs": [],
   "source": [
    "background = background[['Diphoton_mass', 'Diphoton_pt_mgg', 'Diphoton_dPhi',\n",
    "       'LeadPhoton_pt_mgg', 'SubleadPhoton_pt_mgg', 'MET_pt',\n",
    "       'diphoton_met_dPhi', 'ditau_met_dPhi', 'ditau_deta', 'lead_lepton_pt',\n",
    "       'lead_lepton_mass', 'jet_1_pt', 'ditau_pt', 'ditau_mass',\n",
    "       'ditau_dR', 'ditau_dphi', 'Diphoton_ditau_dphi', 'dilep_leadpho_mass', 'reco_MX_mgg',\n",
    "       'Diphoton_ditau_deta', 'Diphoton_lead_lepton_deta',\n",
    "       'Diphoton_lead_lepton_dR', 'Diphoton_sublead_lepton_deta',\n",
    "       'Diphoton_sublead_lepton_dR', 'LeadPhoton_ditau_dR',\n",
    "       'LeadPhoton_lead_lepton_dR', 'SubleadPhoton_lead_lepton_dR']]\n",
    "\n",
    "signal = signal[['Diphoton_mass', 'Diphoton_pt_mgg', 'Diphoton_dPhi',\n",
    "       'LeadPhoton_pt_mgg', 'SubleadPhoton_pt_mgg', 'MET_pt',\n",
    "       'diphoton_met_dPhi', 'ditau_met_dPhi', 'ditau_deta', 'lead_lepton_pt',\n",
    "       'lead_lepton_mass', 'jet_1_pt', 'ditau_pt', 'ditau_mass',\n",
    "       'ditau_dR', 'ditau_dphi', 'Diphoton_ditau_dphi', 'dilep_leadpho_mass', 'reco_MX_mgg',\n",
    "       'Diphoton_ditau_deta', 'Diphoton_lead_lepton_deta',\n",
    "       'Diphoton_lead_lepton_dR', 'Diphoton_sublead_lepton_deta',\n",
    "       'Diphoton_sublead_lepton_dR', 'LeadPhoton_ditau_dR',\n",
    "       'LeadPhoton_lead_lepton_dR', 'SubleadPhoton_lead_lepton_dR']]"
   ]
  },
  {
   "cell_type": "code",
   "execution_count": 4,
   "metadata": {},
   "outputs": [],
   "source": [
    "background_subset = background[['reco_MX_mgg', 'Diphoton_pt_mgg', 'LeadPhoton_pt_mgg','ditau_pt', 'Diphoton_dPhi','dilep_leadpho_mass','lead_lepton_pt','MET_pt','ditau_dR','SubleadPhoton_pt_mgg','Diphoton_lead_lepton_deta','weight_central']]\n",
    "signal_subset = signal[['reco_MX_mgg', 'Diphoton_pt_mgg', 'LeadPhoton_pt_mgg','ditau_pt', 'Diphoton_dPhi','dilep_leadpho_mass','lead_lepton_pt','MET_pt','ditau_dR','SubleadPhoton_pt_mgg','Diphoton_lead_lepton_deta','weight_central']]"
   ]
  },
  {
   "cell_type": "code",
   "execution_count": 5,
   "metadata": {},
   "outputs": [],
   "source": [
    "background_subset = background_subset.loc[(background_subset['reco_MX_mgg'] >= 0)]\n",
    "background_subset = background_subset.loc[(background_subset['Diphoton_pt_mgg'] >= 0)]\n",
    "background_subset = background_subset.loc[(background_subset['LeadPhoton_pt_mgg'] >= 0)]\n",
    "background_subset = background_subset.loc[(background_subset['ditau_pt'] >= 0)]\n",
    "background_subset = background_subset.loc[(background_subset['Diphoton_dPhi'] >= -4)]\n",
    "background_subset = background_subset.loc[(background_subset['dilep_leadpho_mass'] >= 0)]\n",
    "background_subset = background_subset.loc[(background_subset['lead_lepton_pt'] >= 0)]\n",
    "background_subset = background_subset.loc[(background_subset['MET_pt'] >= 0)]\n",
    "background_subset = background_subset.loc[(background_subset['ditau_dR'] >= 0)]\n",
    "background_subset = background_subset.loc[(background_subset['SubleadPhoton_pt_mgg'] >= 0)]\n",
    "background_subset = background_subset.loc[(background_subset['Diphoton_lead_lepton_deta'] >= -7)]"
   ]
  },
  {
   "cell_type": "code",
   "execution_count": 6,
   "metadata": {},
   "outputs": [],
   "source": [
    "signal_subset = signal_subset.loc[(signal_subset['reco_MX_mgg'] >= 0)]\n",
    "signal_subset = signal_subset.loc[(signal_subset['Diphoton_pt_mgg'] >= 0)]\n",
    "signal_subset = signal_subset.loc[(signal_subset['LeadPhoton_pt_mgg'] >= 0)]\n",
    "signal_subset = signal_subset.loc[(signal_subset['ditau_pt'] >= 0)]\n",
    "signal_subset = signal_subset.loc[(signal_subset['Diphoton_dPhi'] >= -4)]\n",
    "signal_subset = signal_subset.loc[(signal_subset['dilep_leadpho_mass'] >= 0)]\n",
    "signal_subset = signal_subset.loc[(signal_subset['lead_lepton_pt'] >= 0)]\n",
    "signal_subset = signal_subset.loc[(signal_subset['MET_pt'] >= 0)]\n",
    "signal_subset = signal_subset.loc[(signal_subset['ditau_dR'] >= 0)]\n",
    "signal_subset = signal_subset.loc[(signal_subset['SubleadPhoton_pt_mgg'] >= 0)]\n",
    "signal_subset = signal_subset.loc[(signal_subset['Diphoton_lead_lepton_deta'] >= -7)]"
   ]
  },
  {
   "cell_type": "code",
   "execution_count": 7,
   "metadata": {},
   "outputs": [],
   "source": [
    "background_subset_y = pd.DataFrame(np.zeros(len(background_subset)))\n",
    "signal_subset_y = pd.DataFrame(np.ones(len(signal_subset)))"
   ]
  },
  {
   "cell_type": "code",
   "execution_count": 8,
   "metadata": {},
   "outputs": [],
   "source": [
    "x = pd.concat((signal_subset,background_subset), ignore_index=True, axis=0)\n",
    "y = pd.concat((signal_subset_y,background_subset_y), ignore_index=True, axis=0)"
   ]
  },
  {
   "cell_type": "code",
   "execution_count": 9,
   "metadata": {},
   "outputs": [],
   "source": [
    "X_train, X_test, y_train, y_test = train_test_split(x, y, test_size=0.30, random_state=42)"
   ]
  },
  {
   "cell_type": "code",
   "execution_count": 10,
   "metadata": {},
   "outputs": [
    {
     "data": {
      "text/plain": [
       "74467     0.045661\n",
       "54899     0.000521\n",
       "88550     0.080499\n",
       "172316    0.000254\n",
       "152041    0.000171\n",
       "            ...   \n",
       "119879    0.000132\n",
       "103694    0.001481\n",
       "131932    0.000123\n",
       "146867    0.000123\n",
       "121958    0.000122\n",
       "Name: weight_central, Length: 127704, dtype: float32"
      ]
     },
     "execution_count": 10,
     "metadata": {},
     "output_type": "execute_result"
    }
   ],
   "source": [
    "X_train['weight_central']"
   ]
  },
  {
   "cell_type": "code",
   "execution_count": 11,
   "metadata": {},
   "outputs": [],
   "source": [
    "X_train_weight = X_train['weight_central']\n",
    "X_train.drop(\"weight_central\", axis='columns', inplace=True)\n",
    "X_train = torch.tensor(X_train.to_numpy(), dtype=torch.float32)\n",
    "y_train = torch.tensor(y_train.to_numpy(), dtype=torch.float32).reshape(-1, 1)\n",
    "x_train_weight = torch.tensor(X_train_weight.to_numpy(), dtype=torch.float32).reshape(-1, 1)\n",
    "\n",
    "X_test_weight = X_test['weight_central']\n",
    "X_test.drop(\"weight_central\", axis='columns', inplace=True)\n",
    "X_test = torch.tensor(X_test.to_numpy(), dtype=torch.float32)\n",
    "y_test = torch.tensor(y_test.to_numpy(), dtype=torch.float32).reshape(-1, 1)\n",
    "x_test_weight = torch.tensor(X_test_weight.to_numpy(), dtype=torch.float32).reshape(-1, 1)"
   ]
  },
  {
   "cell_type": "code",
   "execution_count": 12,
   "metadata": {},
   "outputs": [],
   "source": [
    "class SimpleClassifier(nn.Module):\n",
    "    def __init__(self):\n",
    "        super().__init__()\n",
    "        self.hidden1 = nn.Linear(11, 20)\n",
    "        self.act1 = nn.ReLU()\n",
    "        self.hidden2 = nn.Linear(20, 8)\n",
    "        self.act2 = nn.ReLU()\n",
    "        self.output = nn.Linear(8, 1)\n",
    "        self.act_output = nn.Sigmoid()\n",
    " \n",
    "    def forward(self, x):\n",
    "        x = self.act1(self.hidden1(x))\n",
    "        x = self.act2(self.hidden2(x))\n",
    "        x = self.act_output(self.output(x))\n",
    "        return x"
   ]
  },
  {
   "cell_type": "code",
   "execution_count": 13,
   "metadata": {},
   "outputs": [],
   "source": [
    "model = SimpleClassifier()"
   ]
  },
  {
   "cell_type": "code",
   "execution_count": 14,
   "metadata": {},
   "outputs": [],
   "source": [
    "def weightedBCELoss(input, target, weight):\n",
    "  x, y, w = input, target, weight\n",
    "  log = lambda x: torch.log(x*(1-1e-8) + 1e-8)\n",
    "  return torch.mean(-w * (y*log(x) + (1-y)*log(1-x)))"
   ]
  },
  {
   "cell_type": "code",
   "execution_count": 15,
   "metadata": {},
   "outputs": [],
   "source": [
    "optimizer = optim.Adam(model.parameters(), lr=0.001)\n",
    " \n",
    "n_epochs = 10\n",
    "batch_size = 10"
   ]
  },
  {
   "cell_type": "code",
   "execution_count": 16,
   "metadata": {},
   "outputs": [
    {
     "name": "stdout",
     "output_type": "stream",
     "text": [
      "Finished epoch 0, latest loss 1.2815633454010822e-05\n",
      "Finished epoch 1, latest loss 1.8138984160032123e-05\n",
      "Finished epoch 2, latest loss 1.622692434466444e-05\n",
      "Finished epoch 3, latest loss 5.7510183069098275e-06\n",
      "Finished epoch 4, latest loss 1.8871211068471894e-05\n",
      "Finished epoch 5, latest loss 1.7708798623061739e-06\n",
      "Finished epoch 6, latest loss 6.0352194850565866e-06\n",
      "Finished epoch 7, latest loss 9.2051209321653e-07\n",
      "Finished epoch 8, latest loss 1.2143830190325389e-06\n",
      "Finished epoch 9, latest loss 5.6772005336824805e-06\n"
     ]
    }
   ],
   "source": [
    "for epoch in range(n_epochs):\n",
    "    for i in range(0, len(X_train), batch_size):\n",
    "        Xbatch = X_train[i:i+batch_size]\n",
    "        y_pred = model(Xbatch)\n",
    "        ybatch = y_train[i:i+batch_size]\n",
    "        loss = weightedBCELoss(y_pred, ybatch,x_train_weight[i:i+batch_size])\n",
    "        optimizer.zero_grad()\n",
    "        loss.backward()\n",
    "        optimizer.step()\n",
    "    print(f'Finished epoch {epoch}, latest loss {loss}')"
   ]
  },
  {
   "cell_type": "code",
   "execution_count": 17,
   "metadata": {},
   "outputs": [],
   "source": [
    "model.eval()\n",
    "with torch.no_grad():\n",
    "    y_pred = model(X_test)"
   ]
  },
  {
   "cell_type": "code",
   "execution_count": 18,
   "metadata": {},
   "outputs": [
    {
     "name": "stdout",
     "output_type": "stream",
     "text": [
      "Accuracy 0.9314647912979126\n"
     ]
    }
   ],
   "source": [
    "y_pred = model(X_test)\n",
    "y_pred_r = y_pred.round()\n",
    "accuracy = (y_pred.round() == y_test).float().mean()\n",
    "print(f\"Accuracy {accuracy}\")"
   ]
  },
  {
   "cell_type": "code",
   "execution_count": 19,
   "metadata": {},
   "outputs": [
    {
     "data": {
      "text/plain": [
       "<sklearn.metrics._plot.confusion_matrix.ConfusionMatrixDisplay at 0x1dfa225eb20>"
      ]
     },
     "execution_count": 19,
     "metadata": {},
     "output_type": "execute_result"
    },
    {
     "data": {
      "image/png": "[encoded data removed]",
      "text/plain": [
       "<Figure size 432x288 with 2 Axes>"
      ]
     },
     "metadata": {
      "needs_background": "light"
     },
     "output_type": "display_data"
    }
   ],
   "source": [
    "cm = confusion_matrix(y_test.detach().numpy(), y_pred.round().detach().numpy())\n",
    "ConfusionMatrixDisplay(cm).plot()"
   ]
  },
  {
   "cell_type": "code",
   "execution_count": null,
   "metadata": {},
   "outputs": [],
   "source": []
  }
 ],
 "metadata": {
  "kernelspec": {
   "display_name": "Python 3",
   "language": "python",
   "name": "python3"
  },
  "language_info": {
   "codemirror_mode": {
    "name": "ipython",
    "version": 3
   },
   "file_extension": ".py",
   "mimetype": "text/x-python",
   "name": "python",
   "nbconvert_exporter": "python",
   "pygments_lexer": "ipython3",
   "version": "3.9.10"
  }
 },
 "nbformat": 4,
 "nbformat_minor": 2
}
