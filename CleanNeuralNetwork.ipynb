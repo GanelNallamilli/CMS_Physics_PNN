{
 "cells": [
  {
   "cell_type": "code",
   "execution_count": 29,
   "id": "4a5c0ad5",
   "metadata": {
    "scrolled": true
   },
   "outputs": [
    {
     "name": "stderr",
     "output_type": "stream",
     "text": [
      "C:\\Users\\drpla\\AppData\\Local\\Temp\\ipykernel_32744\\970617314.py:22: SettingWithCopyWarning: \n",
      "A value is trying to be set on a copy of a slice from a DataFrame.\n",
      "Try using .loc[row_indexer,col_indexer] = value instead\n",
      "\n",
      "See the caveats in the documentation: https://pandas.pydata.org/pandas-docs/stable/user_guide/indexing.html#returning-a-view-versus-a-copy\n",
      "  sig['Classification']=np.ones(sig['Diphoton_mass'].size)\n"
     ]
    }
   ],
   "source": [
    "import torch\n",
    "#%matplotlib nbagg\n",
    "import torch.nn as nn\n",
    "import torch.optim as optim\n",
    "import json\n",
    "import matplotlib.pyplot as plt\n",
    "import pandas as pd\n",
    "from sklearn.model_selection import train_test_split\n",
    "import numpy as np\n",
    "import mplhep as hep\n",
    "\n",
    "hep.style.use(\"CMS\")\n",
    "\n",
    "\n",
    "df = pd.read_parquet(r'C:\\Users\\drpla\\Desktop\\ICL-PHYSICS-YEAR-4\\Masters Project\\Data\\New folder\\merged_nominal.parquet')\n",
    "\n",
    "with open(r'C:\\Users\\drpla\\Desktop\\ICL-PHYSICS-YEAR-4\\Masters Project\\Data\\New folder\\summary.json', \"r\") as f:\n",
    "  proc_dict = json.load(f)[\"sample_id_map\"]\n",
    "  \n",
    "signalname=\"GluGluToRadionToHHTo2G2Tau_M-1000\"\n",
    "sig = df[df.process_id == proc_dict[f\"{signalname}\"]] # just one signal process, mass of X is 1000 GeV\n",
    "sig['Classification']=np.ones(sig['Diphoton_mass'].size)\n"
   ]
  },
  {
   "cell_type": "code",
   "execution_count": 30,
   "id": "3db4ce5e",
   "metadata": {},
   "outputs": [
    {
     "data": {
      "text/plain": [
       "{'Data': 0,\n",
       " 'DiPhoton': 3,\n",
       " 'GluGluToRadionToHHTo2G2Tau_M-1000': -195,\n",
       " 'GluGluToRadionToHHTo2G2Tau_M-250': -196,\n",
       " 'GluGluToRadionToHHTo2G2Tau_M-260': -197,\n",
       " 'GluGluToRadionToHHTo2G2Tau_M-270': -198,\n",
       " 'GluGluToRadionToHHTo2G2Tau_M-280': -199,\n",
       " 'GluGluToRadionToHHTo2G2Tau_M-290': -200,\n",
       " 'GluGluToRadionToHHTo2G2Tau_M-300': -201,\n",
       " 'GluGluToRadionToHHTo2G2Tau_M-320': -202,\n",
       " 'GluGluToRadionToHHTo2G2Tau_M-350': -203,\n",
       " 'GluGluToRadionToHHTo2G2Tau_M-400': -204,\n",
       " 'GluGluToRadionToHHTo2G2Tau_M-450': -205,\n",
       " 'GluGluToRadionToHHTo2G2Tau_M-500': -206,\n",
       " 'GluGluToRadionToHHTo2G2Tau_M-550': -207,\n",
       " 'GluGluToRadionToHHTo2G2Tau_M-600': -208,\n",
       " 'GluGluToRadionToHHTo2G2Tau_M-650': -209,\n",
       " 'GluGluToRadionToHHTo2G2Tau_M-700': -210,\n",
       " 'GluGluToRadionToHHTo2G2Tau_M-750': -211,\n",
       " 'GluGluToRadionToHHTo2G2Tau_M-800': -212,\n",
       " 'GluGluToRadionToHHTo2G2Tau_M-900': -213,\n",
       " 'TTGG': 7,\n",
       " 'TTGamma': 6,\n",
       " 'TTJets': 5,\n",
       " 'VBFH_M125': 12,\n",
       " 'VH_M125': 9,\n",
       " 'WGamma': 4,\n",
       " 'ZGamma': 2,\n",
       " 'ggH_M125': 11,\n",
       " 'ttH_M125': 10,\n",
       " 'GJets': 8}"
      ]
     },
     "execution_count": 30,
     "metadata": {},
     "output_type": "execute_result"
    }
   ],
   "source": [
    "proc_dict"
   ]
  },
  {
   "cell_type": "code",
   "execution_count": 31,
   "id": "c9b40823",
   "metadata": {},
   "outputs": [],
   "source": [
    "\"\"\"Concatenating the background data\"\"\"\n",
    "background_list=['Data','DiPhoton', 'TTGG', 'TTGamma',#list of each bkgs for concatenation\n",
    " 'TTJets',\n",
    " 'VBFH_M125',\n",
    " 'VH_M125',\n",
    " 'WGamma',\n",
    " 'ZGamma',\n",
    " 'ggH_M125', \n",
    " 'ttH_M125',\n",
    " 'GJets']\n",
    "\n",
    "listforconc=[]\n",
    "for i in background_list:                               #creating a concatenated list of bkg\n",
    "    bkgg = df[df.process_id == proc_dict[i]]\n",
    "    listforconc.append(bkgg)\n",
    "    \n",
    "background = pd.concat(listforconc)\n",
    "background['Classification']=np.zeros(background['Diphoton_mass'].size)"
   ]
  },
  {
   "cell_type": "code",
   "execution_count": 32,
   "id": "4b21af8a",
   "metadata": {},
   "outputs": [],
   "source": [
    "\"\"\"The features requiring exclusion of -9 values\"\"\"\n",
    "MinusNineBinning=['ditau_met_dPhi',\n",
    "                  'ditau_deta',\n",
    "                  'ditau_dR',\n",
    "                  'ditau_dphi',\n",
    "                  'ditau_pt',\n",
    "                  'Diphoton_ditau_dphi',\n",
    "                  'dilep_leadpho_mass',\n",
    "                  'reco_MX_mgg',\n",
    "                  'Diphoton_ditau_deta',\n",
    "                  'Diphoton_sublead_lepton_deta',\n",
    "                  'Diphoton_sublead_lepton_dR',\n",
    "                  'LeadPhoton_ditau_dR',\n",
    "                  'ditau_mass']\n"
   ]
  },
  {
   "cell_type": "code",
   "execution_count": 33,
   "id": "d51544e0",
   "metadata": {},
   "outputs": [],
   "source": [
    "\"\"\"Concatenating Signal and Background\"\"\"\n",
    "\"\"\"Choosing Best Features given the M=1000 AUC scores\"\"\"\n",
    "FullSignalBackground=pd.concat([sig,background])\n",
    "\n",
    "df_TopFeatures=pd.DataFrame()\n",
    "\n",
    "TopFeatures=['reco_MX_mgg','Diphoton_pt_mgg','LeadPhoton_pt_mgg','ditau_pt','Diphoton_dPhi','dilep_leadpho_mass','lead_lepton_pt','MET_pt','ditau_dR','SubleadPhoton_pt_mgg','Diphoton_lead_lepton_deta','ditau_met_dPhi','ditau_deta','Diphoton_sublead_lepton_deta','Diphoton_ditau_deta','ditau_mass','weight_central','Classification']\n",
    "# includes classification and weights\n",
    "#TopFeatures=['reco_MX_mgg','Diphoton_pt_mgg','LeadPhoton_pt_mgg','ditau_pt','Diphoton_dPhi','dilep_leadpho_mass','lead_lepton_pt','MET_pt','ditau_dR','SubleadPhoton_pt_mgg','weight_central','Classification']\n",
    "\n",
    "\"\"\"A dataset consisting of only the essential features\"\"\"\n",
    "for feature in TopFeatures:\n",
    "    df_TopFeatures[feature]=FullSignalBackground[feature]\n",
    "    \n",
    "\"\"\"Removal of the values that are binned at -9 from the necessary features\"\"\"\n",
    "for columns in df_TopFeatures.columns:\n",
    "    if columns in MinusNineBinning:\n",
    "        df_TopFeatures = df_TopFeatures.loc[(df_TopFeatures[columns] > -8)]\n"
   ]
  },
  {
   "cell_type": "code",
   "execution_count": 34,
   "id": "a11d31d9",
   "metadata": {},
   "outputs": [],
   "source": [
    "df_TopFeatures = df_TopFeatures.sample(frac=1, random_state=42)  # Setting frac=1 shuffles all rows\n",
    "\n",
    "features = df_TopFeatures # Extracting features\n",
    "\n",
    "labels = df_TopFeatures['Classification']  # Extracting labels\n",
    "\n",
    "# Split the data into training and testing sets\n",
    "train_features, test_features, train_labels, test_labels = train_test_split(features, labels, test_size=(1/3), random_state=42)\n",
    "test_weights=pd.DataFrame()\n",
    "train_weights=pd.DataFrame()\n",
    "\n",
    "weightofsignal=train_features[train_features['Classification']==1]['weight_central'].sum()\n",
    "weightofbackground=train_features[train_features['Classification']==0]['weight_central'].sum()\n",
    "scale=weightofsignal/weightofbackground\n",
    "\n",
    "\"\"\"reweighting the weight_central column in entire data \n",
    "set such that for background and signal \"\"\"\n",
    "train_features.loc[train_features['Classification'] == 0, 'weight_central'] *= scale\n",
    "test_features.loc[test_features['Classification'] == 0, 'weight_central'] *= scale\n",
    "\n",
    "\n",
    "train_weights['weight_central']=train_features['weight_central']\n",
    "test_weights['weight_central']=test_features['weight_central']\n",
    "\n",
    "\n",
    "\n",
    "train_features = train_features.drop(columns=['weight_central'])\n",
    "train_features = train_features.drop(columns=['Classification'])\n",
    "test_features=test_features.drop(columns=['weight_central'])\n",
    "\n",
    "train_features_tensor = torch.tensor(train_features.values, dtype=torch.float32)\n",
    "train_weights_tensor = torch.tensor(train_weights.values,dtype=torch.float32)\n",
    "train_labels_tensor = torch.tensor(train_labels.values,dtype=torch.float32)\n",
    "\n"
   ]
  },
  {
   "cell_type": "code",
   "execution_count": 35,
   "id": "fd2f448d",
   "metadata": {},
   "outputs": [],
   "source": [
    "class SimpleNN(nn.Module):\n",
    "    def __init__(self):\n",
    "        super(SimpleNN,self).__init__()\n",
    "#         self.hidden1 = nn.Linear(16, 20)\n",
    "#         self.act1 = nn.ReLU()\n",
    "#         self.hidden2 = nn.Linear(20, 8)\n",
    "#         self.act2 = nn.ReLU()\n",
    "#         self.output = nn.Linear(8, 1)\n",
    "        self.hidden1 = nn.Linear(16, 20)\n",
    "        self.act1 = nn.ReLU()\n",
    "        self.hidden2 = nn.Linear(20, 40)\n",
    "        self.act2 = nn.ReLU()\n",
    "        self.hidden3 = nn.Linear(40, 16)\n",
    "        self.act3 = nn.ReLU()\n",
    "        self.hidden4 = nn.Linear(16, 8)\n",
    "        self.act4 = nn.ReLU()\n",
    "        self.output = nn.Linear(8, 1)\n",
    "        self.act_output = nn.Sigmoid()\n",
    "\n",
    "    def forward(self, x):\n",
    "        x = self.hidden1(x)\n",
    "        x = self.act1(x)\n",
    "        x = self.hidden2(x)\n",
    "        x = self.act2(x)\n",
    "        x = self.hidden3(x)\n",
    "        x = self.act3(x)\n",
    "        x = self.hidden4(x)\n",
    "        x = self.act4(x)\n",
    "        x = self.output(x)\n",
    "        x = self.act_output(x)\n",
    "        return x\n",
    "\n",
    "\n",
    "    def weightedBCELoss(self, input, target, weight):\n",
    "      x, y, w = input, target, weight\n",
    "      log = lambda x: torch.log(x*(1-1e-8) + 1e-8)\n",
    "      #return torch.mean(-w * (y*log(x) + (1-y)*log(1-x)))\n",
    "      return -w * (y*log(x) + (1-y)*log(1-x))\n",
    "    \n",
    "    def batch_weightedBCELoss(self, input, target, weight, batch_size):\n",
    "#batch_weightedBCELoss(self, train, train_labels_tensor, train_weights_tensor, batch_size)\n",
    "        self.batch_size=batch_size\n",
    "\n",
    "        target=target.unsqueeze(1)\n",
    "        \n",
    "        \n",
    "       # train=model.forward(input)\n",
    "\n",
    "        total_batch_err=torch.empty(0,1)\n",
    "        output_length=input.shape[0]\n",
    "        batch_remainder=output_length%batch_size\n",
    "\n",
    "        for i in range(0, output_length//batch_size):\n",
    "            weights = weight[i*(batch_size):(i+1)*(batch_size), :]\n",
    "            labels = target[i*(batch_size):(i+1)*(batch_size), :]\n",
    "            inputs = input[i*(batch_size):(i+1)*(batch_size), :]\n",
    "\n",
    "            loss=self.weightedBCELoss(inputs, labels, weights)\n",
    "\n",
    "            total_batch_err=torch.cat((total_batch_err,loss)) \n",
    "        #    print(total_batch_err.shape[0])\n",
    "\n",
    "        if batch_remainder > 0:\n",
    "            weights = weight[(output_length//batch_size)*batch_size:, :]\n",
    "            labels = target[(output_length//batch_size)*batch_size:, :]\n",
    "            inputs = input[(output_length//batch_size)*batch_size:, :]\n",
    "\n",
    "            loss=self.weightedBCELoss(inputs, labels, weights)\n",
    "\n",
    "            #weights = train_weights_tensor[(train_weights_tensor.shape[0]//batch_size)*batch_size:, :]\n",
    "            total_batch_err=torch.cat((total_batch_err,loss))\n",
    "        #    print(total_batch_err.shape[0])\n",
    "            \n",
    "        return torch.mean(total_batch_err)\n"
   ]
  },
  {
   "cell_type": "code",
   "execution_count": 36,
   "id": "bbe4a467",
   "metadata": {},
   "outputs": [
    {
     "name": "stdout",
     "output_type": "stream",
     "text": [
      "For Epoch 1: Loss = 0.0002388564171269536\n",
      "For Epoch 2: Loss = 0.0002216491848230362\n",
      "For Epoch 3: Loss = 0.00020809995476156473\n",
      "For Epoch 4: Loss = 0.00019779543799813837\n",
      "For Epoch 5: Loss = 0.0001897942420328036\n",
      "For Epoch 6: Loss = 0.00018288478895556182\n",
      "For Epoch 7: Loss = 0.00017673739057499915\n",
      "For Epoch 8: Loss = 0.00017105140432249755\n",
      "For Epoch 9: Loss = 0.00016554933972656727\n",
      "For Epoch 10: Loss = 0.00016050980775617063\n",
      "For Epoch 11: Loss = 0.00015611911658197641\n",
      "For Epoch 12: Loss = 0.00015224576054606587\n",
      "For Epoch 13: Loss = 0.00014875906344968826\n",
      "For Epoch 14: Loss = 0.00014545167505275458\n",
      "For Epoch 15: Loss = 0.00014213762187864631\n",
      "For Epoch 16: Loss = 0.000138696632348001\n",
      "For Epoch 17: Loss = 0.00013502899673767388\n",
      "For Epoch 18: Loss = 0.00013113558816257864\n",
      "For Epoch 19: Loss = 0.00012690109724644572\n",
      "For Epoch 20: Loss = 0.000122604236821644\n",
      "For Epoch 21: Loss = 0.00011835611803689972\n",
      "For Epoch 22: Loss = 0.0001144238849519752\n",
      "For Epoch 23: Loss = 0.00011069906031480059\n",
      "For Epoch 24: Loss = 0.0001075180116458796\n",
      "For Epoch 25: Loss = 0.00010484161612112075\n",
      "For Epoch 26: Loss = 0.00010234268120257184\n",
      "For Epoch 27: Loss = 9.990056423703209e-05\n",
      "For Epoch 28: Loss = 9.739740926306695e-05\n",
      "For Epoch 29: Loss = 9.494182449998334e-05\n",
      "For Epoch 30: Loss = 9.276108903577551e-05\n",
      "For Epoch 31: Loss = 9.082159522222355e-05\n",
      "For Epoch 32: Loss = 8.912978955777362e-05\n",
      "For Epoch 33: Loss = 8.766476821620017e-05\n",
      "For Epoch 34: Loss = 8.63551686052233e-05\n",
      "For Epoch 35: Loss = 8.513311331626028e-05\n",
      "For Epoch 36: Loss = 8.395218901569024e-05\n",
      "For Epoch 37: Loss = 8.279304893221706e-05\n",
      "For Epoch 38: Loss = 8.164768223650753e-05\n",
      "For Epoch 39: Loss = 8.05271411081776e-05\n",
      "For Epoch 40: Loss = 7.94306251918897e-05\n",
      "For Epoch 41: Loss = 7.835766882635653e-05\n",
      "For Epoch 42: Loss = 7.731102232355624e-05\n",
      "For Epoch 43: Loss = 7.630410982528701e-05\n",
      "For Epoch 44: Loss = 7.534434553235769e-05\n",
      "For Epoch 45: Loss = 7.44132703403011e-05\n",
      "For Epoch 46: Loss = 7.349749648710713e-05\n",
      "For Epoch 47: Loss = 7.259256381075829e-05\n",
      "For Epoch 48: Loss = 7.169521268224344e-05\n",
      "For Epoch 49: Loss = 7.080088835209608e-05\n",
      "For Epoch 50: Loss = 6.989279063418508e-05\n",
      "For Epoch 51: Loss = 6.898061838001013e-05\n",
      "For Epoch 52: Loss = 6.8107750848867e-05\n",
      "For Epoch 53: Loss = 6.731549365213141e-05\n",
      "For Epoch 54: Loss = 6.667600246146321e-05\n",
      "For Epoch 55: Loss = 6.620936619583517e-05\n",
      "For Epoch 56: Loss = 6.571460835402831e-05\n",
      "For Epoch 57: Loss = 6.520569149870425e-05\n",
      "For Epoch 58: Loss = 6.481775199063122e-05\n",
      "For Epoch 59: Loss = 6.451088847825304e-05\n",
      "For Epoch 60: Loss = 6.416975520551205e-05\n",
      "For Epoch 61: Loss = 6.377788668032736e-05\n",
      "For Epoch 62: Loss = 6.341231346596032e-05\n",
      "For Epoch 63: Loss = 6.312976620392874e-05\n",
      "For Epoch 64: Loss = 6.287384894676507e-05\n",
      "For Epoch 65: Loss = 6.257092172745615e-05\n",
      "For Epoch 66: Loss = 6.22619190835394e-05\n",
      "For Epoch 67: Loss = 6.201386713655666e-05\n",
      "For Epoch 68: Loss = 6.180824857437983e-05\n",
      "For Epoch 69: Loss = 6.1579848988913e-05\n",
      "For Epoch 70: Loss = 6.133615534054115e-05\n",
      "For Epoch 71: Loss = 6.11274444963783e-05\n",
      "For Epoch 72: Loss = 6.094919808674604e-05\n",
      "For Epoch 73: Loss = 6.075390047044493e-05\n",
      "For Epoch 74: Loss = 6.054477853467688e-05\n",
      "For Epoch 75: Loss = 6.035607657395303e-05\n",
      "For Epoch 76: Loss = 6.0176393162691966e-05\n",
      "For Epoch 77: Loss = 5.9973208408337086e-05\n",
      "For Epoch 78: Loss = 5.9767273342004046e-05\n",
      "For Epoch 79: Loss = 5.958093606750481e-05\n",
      "For Epoch 80: Loss = 5.9393631090642884e-05\n",
      "For Epoch 81: Loss = 5.9192334447288886e-05\n",
      "For Epoch 82: Loss = 5.9001773479394615e-05\n",
      "For Epoch 83: Loss = 5.8823094150284305e-05\n",
      "For Epoch 84: Loss = 5.863134720129892e-05\n",
      "For Epoch 85: Loss = 5.843164399266243e-05\n",
      "For Epoch 86: Loss = 5.82424909225665e-05\n",
      "For Epoch 87: Loss = 5.804664033348672e-05\n",
      "For Epoch 88: Loss = 5.7840323279378936e-05\n",
      "For Epoch 89: Loss = 5.7643555919639766e-05\n",
      "For Epoch 90: Loss = 5.744614463765174e-05\n",
      "For Epoch 91: Loss = 5.72412864130456e-05\n",
      "For Epoch 92: Loss = 5.704367140424438e-05\n",
      "For Epoch 93: Loss = 5.6848661188269034e-05\n",
      "For Epoch 94: Loss = 5.664617128786631e-05\n",
      "For Epoch 95: Loss = 5.6445820519002154e-05\n",
      "For Epoch 96: Loss = 5.624067853204906e-05\n",
      "For Epoch 97: Loss = 5.602694727713242e-05\n",
      "For Epoch 98: Loss = 5.581534423981793e-05\n",
      "For Epoch 99: Loss = 5.560566205531359e-05\n",
      "For Epoch 100: Loss = 5.540294660022482e-05\n"
     ]
    },
    {
     "name": "stderr",
     "output_type": "stream",
     "text": [
      "C:\\Users\\drpla\\AppData\\Local\\Temp\\ipykernel_32744\\1529949095.py:12: PerformanceWarning: DataFrame is highly fragmented.  This is usually the result of calling `frame.insert` many times, which has poor performance.  Consider joining all columns at once using pd.concat(axis=1) instead. To get a de-fragmented frame, use `newframe = frame.copy()`\n",
      "  df_Prediction[f'Epoch {i}'] = trained_data\n",
      "C:\\Users\\drpla\\AppData\\Local\\Temp\\ipykernel_32744\\1529949095.py:12: PerformanceWarning: DataFrame is highly fragmented.  This is usually the result of calling `frame.insert` many times, which has poor performance.  Consider joining all columns at once using pd.concat(axis=1) instead. To get a de-fragmented frame, use `newframe = frame.copy()`\n",
      "  df_Prediction[f'Epoch {i}'] = trained_data\n"
     ]
    },
    {
     "name": "stdout",
     "output_type": "stream",
     "text": [
      "For Epoch 101: Loss = 5.520633567357436e-05\n",
      "For Epoch 102: Loss = 5.5009062634781e-05\n"
     ]
    },
    {
     "name": "stderr",
     "output_type": "stream",
     "text": [
      "C:\\Users\\drpla\\AppData\\Local\\Temp\\ipykernel_32744\\1529949095.py:12: PerformanceWarning: DataFrame is highly fragmented.  This is usually the result of calling `frame.insert` many times, which has poor performance.  Consider joining all columns at once using pd.concat(axis=1) instead. To get a de-fragmented frame, use `newframe = frame.copy()`\n",
      "  df_Prediction[f'Epoch {i}'] = trained_data\n",
      "C:\\Users\\drpla\\AppData\\Local\\Temp\\ipykernel_32744\\1529949095.py:12: PerformanceWarning: DataFrame is highly fragmented.  This is usually the result of calling `frame.insert` many times, which has poor performance.  Consider joining all columns at once using pd.concat(axis=1) instead. To get a de-fragmented frame, use `newframe = frame.copy()`\n",
      "  df_Prediction[f'Epoch {i}'] = trained_data\n"
     ]
    },
    {
     "name": "stdout",
     "output_type": "stream",
     "text": [
      "For Epoch 103: Loss = 5.480952677316964e-05\n",
      "For Epoch 104: Loss = 5.4605796321993694e-05\n"
     ]
    },
    {
     "name": "stderr",
     "output_type": "stream",
     "text": [
      "C:\\Users\\drpla\\AppData\\Local\\Temp\\ipykernel_32744\\1529949095.py:12: PerformanceWarning: DataFrame is highly fragmented.  This is usually the result of calling `frame.insert` many times, which has poor performance.  Consider joining all columns at once using pd.concat(axis=1) instead. To get a de-fragmented frame, use `newframe = frame.copy()`\n",
      "  df_Prediction[f'Epoch {i}'] = trained_data\n",
      "C:\\Users\\drpla\\AppData\\Local\\Temp\\ipykernel_32744\\1529949095.py:12: PerformanceWarning: DataFrame is highly fragmented.  This is usually the result of calling `frame.insert` many times, which has poor performance.  Consider joining all columns at once using pd.concat(axis=1) instead. To get a de-fragmented frame, use `newframe = frame.copy()`\n",
      "  df_Prediction[f'Epoch {i}'] = trained_data\n"
     ]
    },
    {
     "name": "stdout",
     "output_type": "stream",
     "text": [
      "For Epoch 105: Loss = 5.4401709348894656e-05\n",
      "For Epoch 106: Loss = 5.420357410912402e-05\n"
     ]
    },
    {
     "name": "stderr",
     "output_type": "stream",
     "text": [
      "C:\\Users\\drpla\\AppData\\Local\\Temp\\ipykernel_32744\\1529949095.py:12: PerformanceWarning: DataFrame is highly fragmented.  This is usually the result of calling `frame.insert` many times, which has poor performance.  Consider joining all columns at once using pd.concat(axis=1) instead. To get a de-fragmented frame, use `newframe = frame.copy()`\n",
      "  df_Prediction[f'Epoch {i}'] = trained_data\n",
      "C:\\Users\\drpla\\AppData\\Local\\Temp\\ipykernel_32744\\1529949095.py:12: PerformanceWarning: DataFrame is highly fragmented.  This is usually the result of calling `frame.insert` many times, which has poor performance.  Consider joining all columns at once using pd.concat(axis=1) instead. To get a de-fragmented frame, use `newframe = frame.copy()`\n",
      "  df_Prediction[f'Epoch {i}'] = trained_data\n"
     ]
    },
    {
     "name": "stdout",
     "output_type": "stream",
     "text": [
      "For Epoch 107: Loss = 5.4007450671633705e-05\n",
      "For Epoch 108: Loss = 5.381265509640798e-05\n"
     ]
    },
    {
     "name": "stderr",
     "output_type": "stream",
     "text": [
      "C:\\Users\\drpla\\AppData\\Local\\Temp\\ipykernel_32744\\1529949095.py:12: PerformanceWarning: DataFrame is highly fragmented.  This is usually the result of calling `frame.insert` many times, which has poor performance.  Consider joining all columns at once using pd.concat(axis=1) instead. To get a de-fragmented frame, use `newframe = frame.copy()`\n",
      "  df_Prediction[f'Epoch {i}'] = trained_data\n",
      "C:\\Users\\drpla\\AppData\\Local\\Temp\\ipykernel_32744\\1529949095.py:12: PerformanceWarning: DataFrame is highly fragmented.  This is usually the result of calling `frame.insert` many times, which has poor performance.  Consider joining all columns at once using pd.concat(axis=1) instead. To get a de-fragmented frame, use `newframe = frame.copy()`\n",
      "  df_Prediction[f'Epoch {i}'] = trained_data\n"
     ]
    },
    {
     "name": "stdout",
     "output_type": "stream",
     "text": [
      "For Epoch 109: Loss = 5.361626608646475e-05\n",
      "For Epoch 110: Loss = 5.3417050366988406e-05\n"
     ]
    },
    {
     "name": "stderr",
     "output_type": "stream",
     "text": [
      "C:\\Users\\drpla\\AppData\\Local\\Temp\\ipykernel_32744\\1529949095.py:12: PerformanceWarning: DataFrame is highly fragmented.  This is usually the result of calling `frame.insert` many times, which has poor performance.  Consider joining all columns at once using pd.concat(axis=1) instead. To get a de-fragmented frame, use `newframe = frame.copy()`\n",
      "  df_Prediction[f'Epoch {i}'] = trained_data\n",
      "C:\\Users\\drpla\\AppData\\Local\\Temp\\ipykernel_32744\\1529949095.py:12: PerformanceWarning: DataFrame is highly fragmented.  This is usually the result of calling `frame.insert` many times, which has poor performance.  Consider joining all columns at once using pd.concat(axis=1) instead. To get a de-fragmented frame, use `newframe = frame.copy()`\n",
      "  df_Prediction[f'Epoch {i}'] = trained_data\n"
     ]
    },
    {
     "name": "stdout",
     "output_type": "stream",
     "text": [
      "For Epoch 111: Loss = 5.322049401002005e-05\n",
      "For Epoch 112: Loss = 5.301829514792189e-05\n"
     ]
    },
    {
     "name": "stderr",
     "output_type": "stream",
     "text": [
      "C:\\Users\\drpla\\AppData\\Local\\Temp\\ipykernel_32744\\1529949095.py:12: PerformanceWarning: DataFrame is highly fragmented.  This is usually the result of calling `frame.insert` many times, which has poor performance.  Consider joining all columns at once using pd.concat(axis=1) instead. To get a de-fragmented frame, use `newframe = frame.copy()`\n",
      "  df_Prediction[f'Epoch {i}'] = trained_data\n",
      "C:\\Users\\drpla\\AppData\\Local\\Temp\\ipykernel_32744\\1529949095.py:12: PerformanceWarning: DataFrame is highly fragmented.  This is usually the result of calling `frame.insert` many times, which has poor performance.  Consider joining all columns at once using pd.concat(axis=1) instead. To get a de-fragmented frame, use `newframe = frame.copy()`\n",
      "  df_Prediction[f'Epoch {i}'] = trained_data\n"
     ]
    },
    {
     "name": "stdout",
     "output_type": "stream",
     "text": [
      "For Epoch 113: Loss = 5.281532139633782e-05\n",
      "For Epoch 114: Loss = 5.2605442760977894e-05\n"
     ]
    },
    {
     "name": "stderr",
     "output_type": "stream",
     "text": [
      "C:\\Users\\drpla\\AppData\\Local\\Temp\\ipykernel_32744\\1529949095.py:12: PerformanceWarning: DataFrame is highly fragmented.  This is usually the result of calling `frame.insert` many times, which has poor performance.  Consider joining all columns at once using pd.concat(axis=1) instead. To get a de-fragmented frame, use `newframe = frame.copy()`\n",
      "  df_Prediction[f'Epoch {i}'] = trained_data\n",
      "C:\\Users\\drpla\\AppData\\Local\\Temp\\ipykernel_32744\\1529949095.py:12: PerformanceWarning: DataFrame is highly fragmented.  This is usually the result of calling `frame.insert` many times, which has poor performance.  Consider joining all columns at once using pd.concat(axis=1) instead. To get a de-fragmented frame, use `newframe = frame.copy()`\n",
      "  df_Prediction[f'Epoch {i}'] = trained_data\n"
     ]
    },
    {
     "name": "stdout",
     "output_type": "stream",
     "text": [
      "For Epoch 115: Loss = 5.23980961588677e-05\n",
      "For Epoch 116: Loss = 5.219589002081193e-05\n"
     ]
    },
    {
     "name": "stderr",
     "output_type": "stream",
     "text": [
      "C:\\Users\\drpla\\AppData\\Local\\Temp\\ipykernel_32744\\1529949095.py:12: PerformanceWarning: DataFrame is highly fragmented.  This is usually the result of calling `frame.insert` many times, which has poor performance.  Consider joining all columns at once using pd.concat(axis=1) instead. To get a de-fragmented frame, use `newframe = frame.copy()`\n",
      "  df_Prediction[f'Epoch {i}'] = trained_data\n",
      "C:\\Users\\drpla\\AppData\\Local\\Temp\\ipykernel_32744\\1529949095.py:12: PerformanceWarning: DataFrame is highly fragmented.  This is usually the result of calling `frame.insert` many times, which has poor performance.  Consider joining all columns at once using pd.concat(axis=1) instead. To get a de-fragmented frame, use `newframe = frame.copy()`\n",
      "  df_Prediction[f'Epoch {i}'] = trained_data\n"
     ]
    },
    {
     "name": "stdout",
     "output_type": "stream",
     "text": [
      "For Epoch 117: Loss = 5.199503357289359e-05\n",
      "For Epoch 118: Loss = 5.1793231250485405e-05\n"
     ]
    },
    {
     "name": "stderr",
     "output_type": "stream",
     "text": [
      "C:\\Users\\drpla\\AppData\\Local\\Temp\\ipykernel_32744\\1529949095.py:12: PerformanceWarning: DataFrame is highly fragmented.  This is usually the result of calling `frame.insert` many times, which has poor performance.  Consider joining all columns at once using pd.concat(axis=1) instead. To get a de-fragmented frame, use `newframe = frame.copy()`\n",
      "  df_Prediction[f'Epoch {i}'] = trained_data\n",
      "C:\\Users\\drpla\\AppData\\Local\\Temp\\ipykernel_32744\\1529949095.py:12: PerformanceWarning: DataFrame is highly fragmented.  This is usually the result of calling `frame.insert` many times, which has poor performance.  Consider joining all columns at once using pd.concat(axis=1) instead. To get a de-fragmented frame, use `newframe = frame.copy()`\n",
      "  df_Prediction[f'Epoch {i}'] = trained_data\n"
     ]
    },
    {
     "name": "stdout",
     "output_type": "stream",
     "text": [
      "For Epoch 119: Loss = 5.158851490705274e-05\n",
      "For Epoch 120: Loss = 5.1382459787419066e-05\n"
     ]
    },
    {
     "name": "stderr",
     "output_type": "stream",
     "text": [
      "C:\\Users\\drpla\\AppData\\Local\\Temp\\ipykernel_32744\\1529949095.py:12: PerformanceWarning: DataFrame is highly fragmented.  This is usually the result of calling `frame.insert` many times, which has poor performance.  Consider joining all columns at once using pd.concat(axis=1) instead. To get a de-fragmented frame, use `newframe = frame.copy()`\n",
      "  df_Prediction[f'Epoch {i}'] = trained_data\n",
      "C:\\Users\\drpla\\AppData\\Local\\Temp\\ipykernel_32744\\1529949095.py:12: PerformanceWarning: DataFrame is highly fragmented.  This is usually the result of calling `frame.insert` many times, which has poor performance.  Consider joining all columns at once using pd.concat(axis=1) instead. To get a de-fragmented frame, use `newframe = frame.copy()`\n",
      "  df_Prediction[f'Epoch {i}'] = trained_data\n"
     ]
    },
    {
     "name": "stdout",
     "output_type": "stream",
     "text": [
      "For Epoch 121: Loss = 5.1179726142436266e-05\n",
      "For Epoch 122: Loss = 5.09751116624102e-05\n"
     ]
    },
    {
     "name": "stderr",
     "output_type": "stream",
     "text": [
      "C:\\Users\\drpla\\AppData\\Local\\Temp\\ipykernel_32744\\1529949095.py:12: PerformanceWarning: DataFrame is highly fragmented.  This is usually the result of calling `frame.insert` many times, which has poor performance.  Consider joining all columns at once using pd.concat(axis=1) instead. To get a de-fragmented frame, use `newframe = frame.copy()`\n",
      "  df_Prediction[f'Epoch {i}'] = trained_data\n",
      "C:\\Users\\drpla\\AppData\\Local\\Temp\\ipykernel_32744\\1529949095.py:12: PerformanceWarning: DataFrame is highly fragmented.  This is usually the result of calling `frame.insert` many times, which has poor performance.  Consider joining all columns at once using pd.concat(axis=1) instead. To get a de-fragmented frame, use `newframe = frame.copy()`\n",
      "  df_Prediction[f'Epoch {i}'] = trained_data\n"
     ]
    },
    {
     "name": "stdout",
     "output_type": "stream",
     "text": [
      "For Epoch 123: Loss = 5.0767979701049626e-05\n",
      "For Epoch 124: Loss = 5.055877409176901e-05\n"
     ]
    },
    {
     "name": "stderr",
     "output_type": "stream",
     "text": [
      "C:\\Users\\drpla\\AppData\\Local\\Temp\\ipykernel_32744\\1529949095.py:12: PerformanceWarning: DataFrame is highly fragmented.  This is usually the result of calling `frame.insert` many times, which has poor performance.  Consider joining all columns at once using pd.concat(axis=1) instead. To get a de-fragmented frame, use `newframe = frame.copy()`\n",
      "  df_Prediction[f'Epoch {i}'] = trained_data\n",
      "C:\\Users\\drpla\\AppData\\Local\\Temp\\ipykernel_32744\\1529949095.py:12: PerformanceWarning: DataFrame is highly fragmented.  This is usually the result of calling `frame.insert` many times, which has poor performance.  Consider joining all columns at once using pd.concat(axis=1) instead. To get a de-fragmented frame, use `newframe = frame.copy()`\n",
      "  df_Prediction[f'Epoch {i}'] = trained_data\n"
     ]
    },
    {
     "name": "stdout",
     "output_type": "stream",
     "text": [
      "For Epoch 125: Loss = 5.034609785070643e-05\n",
      "For Epoch 126: Loss = 5.013655754737556e-05\n"
     ]
    },
    {
     "name": "stderr",
     "output_type": "stream",
     "text": [
      "C:\\Users\\drpla\\AppData\\Local\\Temp\\ipykernel_32744\\1529949095.py:12: PerformanceWarning: DataFrame is highly fragmented.  This is usually the result of calling `frame.insert` many times, which has poor performance.  Consider joining all columns at once using pd.concat(axis=1) instead. To get a de-fragmented frame, use `newframe = frame.copy()`\n",
      "  df_Prediction[f'Epoch {i}'] = trained_data\n",
      "C:\\Users\\drpla\\AppData\\Local\\Temp\\ipykernel_32744\\1529949095.py:12: PerformanceWarning: DataFrame is highly fragmented.  This is usually the result of calling `frame.insert` many times, which has poor performance.  Consider joining all columns at once using pd.concat(axis=1) instead. To get a de-fragmented frame, use `newframe = frame.copy()`\n",
      "  df_Prediction[f'Epoch {i}'] = trained_data\n"
     ]
    },
    {
     "name": "stdout",
     "output_type": "stream",
     "text": [
      "For Epoch 127: Loss = 4.993271068087779e-05\n",
      "For Epoch 128: Loss = 4.972675378667191e-05\n"
     ]
    },
    {
     "name": "stderr",
     "output_type": "stream",
     "text": [
      "C:\\Users\\drpla\\AppData\\Local\\Temp\\ipykernel_32744\\1529949095.py:12: PerformanceWarning: DataFrame is highly fragmented.  This is usually the result of calling `frame.insert` many times, which has poor performance.  Consider joining all columns at once using pd.concat(axis=1) instead. To get a de-fragmented frame, use `newframe = frame.copy()`\n",
      "  df_Prediction[f'Epoch {i}'] = trained_data\n",
      "C:\\Users\\drpla\\AppData\\Local\\Temp\\ipykernel_32744\\1529949095.py:12: PerformanceWarning: DataFrame is highly fragmented.  This is usually the result of calling `frame.insert` many times, which has poor performance.  Consider joining all columns at once using pd.concat(axis=1) instead. To get a de-fragmented frame, use `newframe = frame.copy()`\n",
      "  df_Prediction[f'Epoch {i}'] = trained_data\n"
     ]
    },
    {
     "name": "stdout",
     "output_type": "stream",
     "text": [
      "For Epoch 129: Loss = 4.951886512571946e-05\n",
      "For Epoch 130: Loss = 4.931024886900559e-05\n"
     ]
    },
    {
     "name": "stderr",
     "output_type": "stream",
     "text": [
      "C:\\Users\\drpla\\AppData\\Local\\Temp\\ipykernel_32744\\1529949095.py:12: PerformanceWarning: DataFrame is highly fragmented.  This is usually the result of calling `frame.insert` many times, which has poor performance.  Consider joining all columns at once using pd.concat(axis=1) instead. To get a de-fragmented frame, use `newframe = frame.copy()`\n",
      "  df_Prediction[f'Epoch {i}'] = trained_data\n",
      "C:\\Users\\drpla\\AppData\\Local\\Temp\\ipykernel_32744\\1529949095.py:12: PerformanceWarning: DataFrame is highly fragmented.  This is usually the result of calling `frame.insert` many times, which has poor performance.  Consider joining all columns at once using pd.concat(axis=1) instead. To get a de-fragmented frame, use `newframe = frame.copy()`\n",
      "  df_Prediction[f'Epoch {i}'] = trained_data\n"
     ]
    },
    {
     "name": "stdout",
     "output_type": "stream",
     "text": [
      "For Epoch 131: Loss = 4.9102967750513926e-05\n",
      "For Epoch 132: Loss = 4.8891230107983574e-05\n"
     ]
    },
    {
     "name": "stderr",
     "output_type": "stream",
     "text": [
      "C:\\Users\\drpla\\AppData\\Local\\Temp\\ipykernel_32744\\1529949095.py:12: PerformanceWarning: DataFrame is highly fragmented.  This is usually the result of calling `frame.insert` many times, which has poor performance.  Consider joining all columns at once using pd.concat(axis=1) instead. To get a de-fragmented frame, use `newframe = frame.copy()`\n",
      "  df_Prediction[f'Epoch {i}'] = trained_data\n",
      "C:\\Users\\drpla\\AppData\\Local\\Temp\\ipykernel_32744\\1529949095.py:12: PerformanceWarning: DataFrame is highly fragmented.  This is usually the result of calling `frame.insert` many times, which has poor performance.  Consider joining all columns at once using pd.concat(axis=1) instead. To get a de-fragmented frame, use `newframe = frame.copy()`\n",
      "  df_Prediction[f'Epoch {i}'] = trained_data\n"
     ]
    },
    {
     "name": "stdout",
     "output_type": "stream",
     "text": [
      "For Epoch 133: Loss = 4.8682679334888235e-05\n",
      "For Epoch 134: Loss = 4.8472466005478054e-05\n"
     ]
    },
    {
     "name": "stderr",
     "output_type": "stream",
     "text": [
      "C:\\Users\\drpla\\AppData\\Local\\Temp\\ipykernel_32744\\1529949095.py:12: PerformanceWarning: DataFrame is highly fragmented.  This is usually the result of calling `frame.insert` many times, which has poor performance.  Consider joining all columns at once using pd.concat(axis=1) instead. To get a de-fragmented frame, use `newframe = frame.copy()`\n",
      "  df_Prediction[f'Epoch {i}'] = trained_data\n",
      "C:\\Users\\drpla\\AppData\\Local\\Temp\\ipykernel_32744\\1529949095.py:12: PerformanceWarning: DataFrame is highly fragmented.  This is usually the result of calling `frame.insert` many times, which has poor performance.  Consider joining all columns at once using pd.concat(axis=1) instead. To get a de-fragmented frame, use `newframe = frame.copy()`\n",
      "  df_Prediction[f'Epoch {i}'] = trained_data\n"
     ]
    },
    {
     "name": "stdout",
     "output_type": "stream",
     "text": [
      "For Epoch 135: Loss = 4.826373697142117e-05\n",
      "For Epoch 136: Loss = 4.806172364624217e-05\n"
     ]
    },
    {
     "name": "stderr",
     "output_type": "stream",
     "text": [
      "C:\\Users\\drpla\\AppData\\Local\\Temp\\ipykernel_32744\\1529949095.py:12: PerformanceWarning: DataFrame is highly fragmented.  This is usually the result of calling `frame.insert` many times, which has poor performance.  Consider joining all columns at once using pd.concat(axis=1) instead. To get a de-fragmented frame, use `newframe = frame.copy()`\n",
      "  df_Prediction[f'Epoch {i}'] = trained_data\n",
      "C:\\Users\\drpla\\AppData\\Local\\Temp\\ipykernel_32744\\1529949095.py:12: PerformanceWarning: DataFrame is highly fragmented.  This is usually the result of calling `frame.insert` many times, which has poor performance.  Consider joining all columns at once using pd.concat(axis=1) instead. To get a de-fragmented frame, use `newframe = frame.copy()`\n",
      "  df_Prediction[f'Epoch {i}'] = trained_data\n"
     ]
    },
    {
     "name": "stdout",
     "output_type": "stream",
     "text": [
      "For Epoch 137: Loss = 4.786179488291964e-05\n",
      "For Epoch 138: Loss = 4.765727135236375e-05\n"
     ]
    },
    {
     "name": "stderr",
     "output_type": "stream",
     "text": [
      "C:\\Users\\drpla\\AppData\\Local\\Temp\\ipykernel_32744\\1529949095.py:12: PerformanceWarning: DataFrame is highly fragmented.  This is usually the result of calling `frame.insert` many times, which has poor performance.  Consider joining all columns at once using pd.concat(axis=1) instead. To get a de-fragmented frame, use `newframe = frame.copy()`\n",
      "  df_Prediction[f'Epoch {i}'] = trained_data\n",
      "C:\\Users\\drpla\\AppData\\Local\\Temp\\ipykernel_32744\\1529949095.py:12: PerformanceWarning: DataFrame is highly fragmented.  This is usually the result of calling `frame.insert` many times, which has poor performance.  Consider joining all columns at once using pd.concat(axis=1) instead. To get a de-fragmented frame, use `newframe = frame.copy()`\n",
      "  df_Prediction[f'Epoch {i}'] = trained_data\n"
     ]
    },
    {
     "name": "stdout",
     "output_type": "stream",
     "text": [
      "For Epoch 139: Loss = 4.744442048831843e-05\n",
      "For Epoch 140: Loss = 4.722706580650993e-05\n"
     ]
    },
    {
     "name": "stderr",
     "output_type": "stream",
     "text": [
      "C:\\Users\\drpla\\AppData\\Local\\Temp\\ipykernel_32744\\1529949095.py:12: PerformanceWarning: DataFrame is highly fragmented.  This is usually the result of calling `frame.insert` many times, which has poor performance.  Consider joining all columns at once using pd.concat(axis=1) instead. To get a de-fragmented frame, use `newframe = frame.copy()`\n",
      "  df_Prediction[f'Epoch {i}'] = trained_data\n",
      "C:\\Users\\drpla\\AppData\\Local\\Temp\\ipykernel_32744\\1529949095.py:12: PerformanceWarning: DataFrame is highly fragmented.  This is usually the result of calling `frame.insert` many times, which has poor performance.  Consider joining all columns at once using pd.concat(axis=1) instead. To get a de-fragmented frame, use `newframe = frame.copy()`\n",
      "  df_Prediction[f'Epoch {i}'] = trained_data\n"
     ]
    },
    {
     "name": "stdout",
     "output_type": "stream",
     "text": [
      "For Epoch 141: Loss = 4.6990484406705946e-05\n",
      "For Epoch 142: Loss = 4.673321018344723e-05\n"
     ]
    },
    {
     "name": "stderr",
     "output_type": "stream",
     "text": [
      "C:\\Users\\drpla\\AppData\\Local\\Temp\\ipykernel_32744\\1529949095.py:12: PerformanceWarning: DataFrame is highly fragmented.  This is usually the result of calling `frame.insert` many times, which has poor performance.  Consider joining all columns at once using pd.concat(axis=1) instead. To get a de-fragmented frame, use `newframe = frame.copy()`\n",
      "  df_Prediction[f'Epoch {i}'] = trained_data\n",
      "C:\\Users\\drpla\\AppData\\Local\\Temp\\ipykernel_32744\\1529949095.py:12: PerformanceWarning: DataFrame is highly fragmented.  This is usually the result of calling `frame.insert` many times, which has poor performance.  Consider joining all columns at once using pd.concat(axis=1) instead. To get a de-fragmented frame, use `newframe = frame.copy()`\n",
      "  df_Prediction[f'Epoch {i}'] = trained_data\n"
     ]
    },
    {
     "name": "stdout",
     "output_type": "stream",
     "text": [
      "For Epoch 143: Loss = 4.64702898170799e-05\n",
      "For Epoch 144: Loss = 4.623932909453288e-05\n"
     ]
    },
    {
     "name": "stderr",
     "output_type": "stream",
     "text": [
      "C:\\Users\\drpla\\AppData\\Local\\Temp\\ipykernel_32744\\1529949095.py:12: PerformanceWarning: DataFrame is highly fragmented.  This is usually the result of calling `frame.insert` many times, which has poor performance.  Consider joining all columns at once using pd.concat(axis=1) instead. To get a de-fragmented frame, use `newframe = frame.copy()`\n",
      "  df_Prediction[f'Epoch {i}'] = trained_data\n",
      "C:\\Users\\drpla\\AppData\\Local\\Temp\\ipykernel_32744\\1529949095.py:12: PerformanceWarning: DataFrame is highly fragmented.  This is usually the result of calling `frame.insert` many times, which has poor performance.  Consider joining all columns at once using pd.concat(axis=1) instead. To get a de-fragmented frame, use `newframe = frame.copy()`\n",
      "  df_Prediction[f'Epoch {i}'] = trained_data\n"
     ]
    },
    {
     "name": "stdout",
     "output_type": "stream",
     "text": [
      "For Epoch 145: Loss = 4.605184949468821e-05\n",
      "For Epoch 146: Loss = 4.585703572956845e-05\n"
     ]
    },
    {
     "name": "stderr",
     "output_type": "stream",
     "text": [
      "C:\\Users\\drpla\\AppData\\Local\\Temp\\ipykernel_32744\\1529949095.py:12: PerformanceWarning: DataFrame is highly fragmented.  This is usually the result of calling `frame.insert` many times, which has poor performance.  Consider joining all columns at once using pd.concat(axis=1) instead. To get a de-fragmented frame, use `newframe = frame.copy()`\n",
      "  df_Prediction[f'Epoch {i}'] = trained_data\n",
      "C:\\Users\\drpla\\AppData\\Local\\Temp\\ipykernel_32744\\1529949095.py:12: PerformanceWarning: DataFrame is highly fragmented.  This is usually the result of calling `frame.insert` many times, which has poor performance.  Consider joining all columns at once using pd.concat(axis=1) instead. To get a de-fragmented frame, use `newframe = frame.copy()`\n",
      "  df_Prediction[f'Epoch {i}'] = trained_data\n"
     ]
    },
    {
     "name": "stdout",
     "output_type": "stream",
     "text": [
      "For Epoch 147: Loss = 4.56248817499727e-05\n",
      "For Epoch 148: Loss = 4.540007284958847e-05\n"
     ]
    },
    {
     "name": "stderr",
     "output_type": "stream",
     "text": [
      "C:\\Users\\drpla\\AppData\\Local\\Temp\\ipykernel_32744\\1529949095.py:12: PerformanceWarning: DataFrame is highly fragmented.  This is usually the result of calling `frame.insert` many times, which has poor performance.  Consider joining all columns at once using pd.concat(axis=1) instead. To get a de-fragmented frame, use `newframe = frame.copy()`\n",
      "  df_Prediction[f'Epoch {i}'] = trained_data\n",
      "C:\\Users\\drpla\\AppData\\Local\\Temp\\ipykernel_32744\\1529949095.py:12: PerformanceWarning: DataFrame is highly fragmented.  This is usually the result of calling `frame.insert` many times, which has poor performance.  Consider joining all columns at once using pd.concat(axis=1) instead. To get a de-fragmented frame, use `newframe = frame.copy()`\n",
      "  df_Prediction[f'Epoch {i}'] = trained_data\n"
     ]
    },
    {
     "name": "stdout",
     "output_type": "stream",
     "text": [
      "For Epoch 149: Loss = 4.520639049587771e-05\n",
      "For Epoch 150: Loss = 4.502687806962058e-05\n"
     ]
    },
    {
     "name": "stderr",
     "output_type": "stream",
     "text": [
      "C:\\Users\\drpla\\AppData\\Local\\Temp\\ipykernel_32744\\1529949095.py:12: PerformanceWarning: DataFrame is highly fragmented.  This is usually the result of calling `frame.insert` many times, which has poor performance.  Consider joining all columns at once using pd.concat(axis=1) instead. To get a de-fragmented frame, use `newframe = frame.copy()`\n",
      "  df_Prediction[f'Epoch {i}'] = trained_data\n",
      "C:\\Users\\drpla\\AppData\\Local\\Temp\\ipykernel_32744\\1529949095.py:12: PerformanceWarning: DataFrame is highly fragmented.  This is usually the result of calling `frame.insert` many times, which has poor performance.  Consider joining all columns at once using pd.concat(axis=1) instead. To get a de-fragmented frame, use `newframe = frame.copy()`\n",
      "  df_Prediction[f'Epoch {i}'] = trained_data\n"
     ]
    },
    {
     "name": "stdout",
     "output_type": "stream",
     "text": [
      "For Epoch 151: Loss = 4.4832395360572264e-05\n",
      "For Epoch 152: Loss = 4.46151643700432e-05\n"
     ]
    },
    {
     "name": "stderr",
     "output_type": "stream",
     "text": [
      "C:\\Users\\drpla\\AppData\\Local\\Temp\\ipykernel_32744\\1529949095.py:12: PerformanceWarning: DataFrame is highly fragmented.  This is usually the result of calling `frame.insert` many times, which has poor performance.  Consider joining all columns at once using pd.concat(axis=1) instead. To get a de-fragmented frame, use `newframe = frame.copy()`\n",
      "  df_Prediction[f'Epoch {i}'] = trained_data\n",
      "C:\\Users\\drpla\\AppData\\Local\\Temp\\ipykernel_32744\\1529949095.py:12: PerformanceWarning: DataFrame is highly fragmented.  This is usually the result of calling `frame.insert` many times, which has poor performance.  Consider joining all columns at once using pd.concat(axis=1) instead. To get a de-fragmented frame, use `newframe = frame.copy()`\n",
      "  df_Prediction[f'Epoch {i}'] = trained_data\n"
     ]
    },
    {
     "name": "stdout",
     "output_type": "stream",
     "text": [
      "For Epoch 153: Loss = 4.438854011823423e-05\n",
      "For Epoch 154: Loss = 4.417093805386685e-05\n"
     ]
    },
    {
     "name": "stderr",
     "output_type": "stream",
     "text": [
      "C:\\Users\\drpla\\AppData\\Local\\Temp\\ipykernel_32744\\1529949095.py:12: PerformanceWarning: DataFrame is highly fragmented.  This is usually the result of calling `frame.insert` many times, which has poor performance.  Consider joining all columns at once using pd.concat(axis=1) instead. To get a de-fragmented frame, use `newframe = frame.copy()`\n",
      "  df_Prediction[f'Epoch {i}'] = trained_data\n",
      "C:\\Users\\drpla\\AppData\\Local\\Temp\\ipykernel_32744\\1529949095.py:12: PerformanceWarning: DataFrame is highly fragmented.  This is usually the result of calling `frame.insert` many times, which has poor performance.  Consider joining all columns at once using pd.concat(axis=1) instead. To get a de-fragmented frame, use `newframe = frame.copy()`\n",
      "  df_Prediction[f'Epoch {i}'] = trained_data\n"
     ]
    },
    {
     "name": "stdout",
     "output_type": "stream",
     "text": [
      "For Epoch 155: Loss = 4.396179429022595e-05\n",
      "For Epoch 156: Loss = 4.374240234028548e-05\n"
     ]
    },
    {
     "name": "stderr",
     "output_type": "stream",
     "text": [
      "C:\\Users\\drpla\\AppData\\Local\\Temp\\ipykernel_32744\\1529949095.py:12: PerformanceWarning: DataFrame is highly fragmented.  This is usually the result of calling `frame.insert` many times, which has poor performance.  Consider joining all columns at once using pd.concat(axis=1) instead. To get a de-fragmented frame, use `newframe = frame.copy()`\n",
      "  df_Prediction[f'Epoch {i}'] = trained_data\n",
      "C:\\Users\\drpla\\AppData\\Local\\Temp\\ipykernel_32744\\1529949095.py:12: PerformanceWarning: DataFrame is highly fragmented.  This is usually the result of calling `frame.insert` many times, which has poor performance.  Consider joining all columns at once using pd.concat(axis=1) instead. To get a de-fragmented frame, use `newframe = frame.copy()`\n",
      "  df_Prediction[f'Epoch {i}'] = trained_data\n"
     ]
    },
    {
     "name": "stdout",
     "output_type": "stream",
     "text": [
      "For Epoch 157: Loss = 4.3513344280654564e-05\n",
      "For Epoch 158: Loss = 4.3299052777001634e-05\n"
     ]
    },
    {
     "name": "stderr",
     "output_type": "stream",
     "text": [
      "C:\\Users\\drpla\\AppData\\Local\\Temp\\ipykernel_32744\\1529949095.py:12: PerformanceWarning: DataFrame is highly fragmented.  This is usually the result of calling `frame.insert` many times, which has poor performance.  Consider joining all columns at once using pd.concat(axis=1) instead. To get a de-fragmented frame, use `newframe = frame.copy()`\n",
      "  df_Prediction[f'Epoch {i}'] = trained_data\n",
      "C:\\Users\\drpla\\AppData\\Local\\Temp\\ipykernel_32744\\1529949095.py:12: PerformanceWarning: DataFrame is highly fragmented.  This is usually the result of calling `frame.insert` many times, which has poor performance.  Consider joining all columns at once using pd.concat(axis=1) instead. To get a de-fragmented frame, use `newframe = frame.copy()`\n",
      "  df_Prediction[f'Epoch {i}'] = trained_data\n"
     ]
    },
    {
     "name": "stdout",
     "output_type": "stream",
     "text": [
      "For Epoch 159: Loss = 4.3093979911645874e-05\n",
      "For Epoch 160: Loss = 4.2876537918346e-05\n"
     ]
    },
    {
     "name": "stderr",
     "output_type": "stream",
     "text": [
      "C:\\Users\\drpla\\AppData\\Local\\Temp\\ipykernel_32744\\1529949095.py:12: PerformanceWarning: DataFrame is highly fragmented.  This is usually the result of calling `frame.insert` many times, which has poor performance.  Consider joining all columns at once using pd.concat(axis=1) instead. To get a de-fragmented frame, use `newframe = frame.copy()`\n",
      "  df_Prediction[f'Epoch {i}'] = trained_data\n",
      "C:\\Users\\drpla\\AppData\\Local\\Temp\\ipykernel_32744\\1529949095.py:12: PerformanceWarning: DataFrame is highly fragmented.  This is usually the result of calling `frame.insert` many times, which has poor performance.  Consider joining all columns at once using pd.concat(axis=1) instead. To get a de-fragmented frame, use `newframe = frame.copy()`\n",
      "  df_Prediction[f'Epoch {i}'] = trained_data\n"
     ]
    },
    {
     "name": "stdout",
     "output_type": "stream",
     "text": [
      "For Epoch 161: Loss = 4.2644180211937055e-05\n",
      "For Epoch 162: Loss = 4.240704220137559e-05\n"
     ]
    },
    {
     "name": "stderr",
     "output_type": "stream",
     "text": [
      "C:\\Users\\drpla\\AppData\\Local\\Temp\\ipykernel_32744\\1529949095.py:12: PerformanceWarning: DataFrame is highly fragmented.  This is usually the result of calling `frame.insert` many times, which has poor performance.  Consider joining all columns at once using pd.concat(axis=1) instead. To get a de-fragmented frame, use `newframe = frame.copy()`\n",
      "  df_Prediction[f'Epoch {i}'] = trained_data\n",
      "C:\\Users\\drpla\\AppData\\Local\\Temp\\ipykernel_32744\\1529949095.py:12: PerformanceWarning: DataFrame is highly fragmented.  This is usually the result of calling `frame.insert` many times, which has poor performance.  Consider joining all columns at once using pd.concat(axis=1) instead. To get a de-fragmented frame, use `newframe = frame.copy()`\n",
      "  df_Prediction[f'Epoch {i}'] = trained_data\n"
     ]
    },
    {
     "name": "stdout",
     "output_type": "stream",
     "text": [
      "For Epoch 163: Loss = 4.218166213831864e-05\n",
      "For Epoch 164: Loss = 4.19719799538143e-05\n"
     ]
    },
    {
     "name": "stderr",
     "output_type": "stream",
     "text": [
      "C:\\Users\\drpla\\AppData\\Local\\Temp\\ipykernel_32744\\1529949095.py:12: PerformanceWarning: DataFrame is highly fragmented.  This is usually the result of calling `frame.insert` many times, which has poor performance.  Consider joining all columns at once using pd.concat(axis=1) instead. To get a de-fragmented frame, use `newframe = frame.copy()`\n",
      "  df_Prediction[f'Epoch {i}'] = trained_data\n",
      "C:\\Users\\drpla\\AppData\\Local\\Temp\\ipykernel_32744\\1529949095.py:12: PerformanceWarning: DataFrame is highly fragmented.  This is usually the result of calling `frame.insert` many times, which has poor performance.  Consider joining all columns at once using pd.concat(axis=1) instead. To get a de-fragmented frame, use `newframe = frame.copy()`\n",
      "  df_Prediction[f'Epoch {i}'] = trained_data\n"
     ]
    },
    {
     "name": "stdout",
     "output_type": "stream",
     "text": [
      "For Epoch 165: Loss = 4.182051998213865e-05\n",
      "For Epoch 166: Loss = 4.186865407973528e-05\n"
     ]
    },
    {
     "name": "stderr",
     "output_type": "stream",
     "text": [
      "C:\\Users\\drpla\\AppData\\Local\\Temp\\ipykernel_32744\\1529949095.py:12: PerformanceWarning: DataFrame is highly fragmented.  This is usually the result of calling `frame.insert` many times, which has poor performance.  Consider joining all columns at once using pd.concat(axis=1) instead. To get a de-fragmented frame, use `newframe = frame.copy()`\n",
      "  df_Prediction[f'Epoch {i}'] = trained_data\n",
      "C:\\Users\\drpla\\AppData\\Local\\Temp\\ipykernel_32744\\1529949095.py:12: PerformanceWarning: DataFrame is highly fragmented.  This is usually the result of calling `frame.insert` many times, which has poor performance.  Consider joining all columns at once using pd.concat(axis=1) instead. To get a de-fragmented frame, use `newframe = frame.copy()`\n",
      "  df_Prediction[f'Epoch {i}'] = trained_data\n"
     ]
    },
    {
     "name": "stdout",
     "output_type": "stream",
     "text": [
      "For Epoch 167: Loss = 4.152469409746118e-05\n",
      "For Epoch 168: Loss = 4.114446710445918e-05\n"
     ]
    },
    {
     "name": "stderr",
     "output_type": "stream",
     "text": [
      "C:\\Users\\drpla\\AppData\\Local\\Temp\\ipykernel_32744\\1529949095.py:12: PerformanceWarning: DataFrame is highly fragmented.  This is usually the result of calling `frame.insert` many times, which has poor performance.  Consider joining all columns at once using pd.concat(axis=1) instead. To get a de-fragmented frame, use `newframe = frame.copy()`\n",
      "  df_Prediction[f'Epoch {i}'] = trained_data\n",
      "C:\\Users\\drpla\\AppData\\Local\\Temp\\ipykernel_32744\\1529949095.py:12: PerformanceWarning: DataFrame is highly fragmented.  This is usually the result of calling `frame.insert` many times, which has poor performance.  Consider joining all columns at once using pd.concat(axis=1) instead. To get a de-fragmented frame, use `newframe = frame.copy()`\n",
      "  df_Prediction[f'Epoch {i}'] = trained_data\n"
     ]
    },
    {
     "name": "stdout",
     "output_type": "stream",
     "text": [
      "For Epoch 169: Loss = 4.1187231545336545e-05\n",
      "For Epoch 170: Loss = 4.067152985953726e-05\n"
     ]
    },
    {
     "name": "stderr",
     "output_type": "stream",
     "text": [
      "C:\\Users\\drpla\\AppData\\Local\\Temp\\ipykernel_32744\\1529949095.py:12: PerformanceWarning: DataFrame is highly fragmented.  This is usually the result of calling `frame.insert` many times, which has poor performance.  Consider joining all columns at once using pd.concat(axis=1) instead. To get a de-fragmented frame, use `newframe = frame.copy()`\n",
      "  df_Prediction[f'Epoch {i}'] = trained_data\n",
      "C:\\Users\\drpla\\AppData\\Local\\Temp\\ipykernel_32744\\1529949095.py:12: PerformanceWarning: DataFrame is highly fragmented.  This is usually the result of calling `frame.insert` many times, which has poor performance.  Consider joining all columns at once using pd.concat(axis=1) instead. To get a de-fragmented frame, use `newframe = frame.copy()`\n",
      "  df_Prediction[f'Epoch {i}'] = trained_data\n"
     ]
    },
    {
     "name": "stdout",
     "output_type": "stream",
     "text": [
      "For Epoch 171: Loss = 4.0557151805842295e-05\n",
      "For Epoch 172: Loss = 4.041565989609808e-05\n"
     ]
    },
    {
     "name": "stderr",
     "output_type": "stream",
     "text": [
      "C:\\Users\\drpla\\AppData\\Local\\Temp\\ipykernel_32744\\1529949095.py:12: PerformanceWarning: DataFrame is highly fragmented.  This is usually the result of calling `frame.insert` many times, which has poor performance.  Consider joining all columns at once using pd.concat(axis=1) instead. To get a de-fragmented frame, use `newframe = frame.copy()`\n",
      "  df_Prediction[f'Epoch {i}'] = trained_data\n",
      "C:\\Users\\drpla\\AppData\\Local\\Temp\\ipykernel_32744\\1529949095.py:12: PerformanceWarning: DataFrame is highly fragmented.  This is usually the result of calling `frame.insert` many times, which has poor performance.  Consider joining all columns at once using pd.concat(axis=1) instead. To get a de-fragmented frame, use `newframe = frame.copy()`\n",
      "  df_Prediction[f'Epoch {i}'] = trained_data\n"
     ]
    },
    {
     "name": "stdout",
     "output_type": "stream",
     "text": [
      "For Epoch 173: Loss = 3.9977672713575885e-05\n",
      "For Epoch 174: Loss = 3.988044772995636e-05\n"
     ]
    },
    {
     "name": "stderr",
     "output_type": "stream",
     "text": [
      "C:\\Users\\drpla\\AppData\\Local\\Temp\\ipykernel_32744\\1529949095.py:12: PerformanceWarning: DataFrame is highly fragmented.  This is usually the result of calling `frame.insert` many times, which has poor performance.  Consider joining all columns at once using pd.concat(axis=1) instead. To get a de-fragmented frame, use `newframe = frame.copy()`\n",
      "  df_Prediction[f'Epoch {i}'] = trained_data\n",
      "C:\\Users\\drpla\\AppData\\Local\\Temp\\ipykernel_32744\\1529949095.py:12: PerformanceWarning: DataFrame is highly fragmented.  This is usually the result of calling `frame.insert` many times, which has poor performance.  Consider joining all columns at once using pd.concat(axis=1) instead. To get a de-fragmented frame, use `newframe = frame.copy()`\n",
      "  df_Prediction[f'Epoch {i}'] = trained_data\n"
     ]
    },
    {
     "name": "stdout",
     "output_type": "stream",
     "text": [
      "For Epoch 175: Loss = 3.969935642089695e-05\n",
      "For Epoch 176: Loss = 3.936666689696722e-05\n"
     ]
    },
    {
     "name": "stderr",
     "output_type": "stream",
     "text": [
      "C:\\Users\\drpla\\AppData\\Local\\Temp\\ipykernel_32744\\1529949095.py:12: PerformanceWarning: DataFrame is highly fragmented.  This is usually the result of calling `frame.insert` many times, which has poor performance.  Consider joining all columns at once using pd.concat(axis=1) instead. To get a de-fragmented frame, use `newframe = frame.copy()`\n",
      "  df_Prediction[f'Epoch {i}'] = trained_data\n",
      "C:\\Users\\drpla\\AppData\\Local\\Temp\\ipykernel_32744\\1529949095.py:12: PerformanceWarning: DataFrame is highly fragmented.  This is usually the result of calling `frame.insert` many times, which has poor performance.  Consider joining all columns at once using pd.concat(axis=1) instead. To get a de-fragmented frame, use `newframe = frame.copy()`\n",
      "  df_Prediction[f'Epoch {i}'] = trained_data\n"
     ]
    },
    {
     "name": "stdout",
     "output_type": "stream",
     "text": [
      "For Epoch 177: Loss = 3.931741593987681e-05\n",
      "For Epoch 178: Loss = 3.902276512235403e-05\n"
     ]
    },
    {
     "name": "stderr",
     "output_type": "stream",
     "text": [
      "C:\\Users\\drpla\\AppData\\Local\\Temp\\ipykernel_32744\\1529949095.py:12: PerformanceWarning: DataFrame is highly fragmented.  This is usually the result of calling `frame.insert` many times, which has poor performance.  Consider joining all columns at once using pd.concat(axis=1) instead. To get a de-fragmented frame, use `newframe = frame.copy()`\n",
      "  df_Prediction[f'Epoch {i}'] = trained_data\n",
      "C:\\Users\\drpla\\AppData\\Local\\Temp\\ipykernel_32744\\1529949095.py:12: PerformanceWarning: DataFrame is highly fragmented.  This is usually the result of calling `frame.insert` many times, which has poor performance.  Consider joining all columns at once using pd.concat(axis=1) instead. To get a de-fragmented frame, use `newframe = frame.copy()`\n",
      "  df_Prediction[f'Epoch {i}'] = trained_data\n"
     ]
    },
    {
     "name": "stdout",
     "output_type": "stream",
     "text": [
      "For Epoch 179: Loss = 3.875623951898888e-05\n",
      "For Epoch 180: Loss = 3.856710100080818e-05\n"
     ]
    },
    {
     "name": "stderr",
     "output_type": "stream",
     "text": [
      "C:\\Users\\drpla\\AppData\\Local\\Temp\\ipykernel_32744\\1529949095.py:12: PerformanceWarning: DataFrame is highly fragmented.  This is usually the result of calling `frame.insert` many times, which has poor performance.  Consider joining all columns at once using pd.concat(axis=1) instead. To get a de-fragmented frame, use `newframe = frame.copy()`\n",
      "  df_Prediction[f'Epoch {i}'] = trained_data\n",
      "C:\\Users\\drpla\\AppData\\Local\\Temp\\ipykernel_32744\\1529949095.py:12: PerformanceWarning: DataFrame is highly fragmented.  This is usually the result of calling `frame.insert` many times, which has poor performance.  Consider joining all columns at once using pd.concat(axis=1) instead. To get a de-fragmented frame, use `newframe = frame.copy()`\n",
      "  df_Prediction[f'Epoch {i}'] = trained_data\n"
     ]
    },
    {
     "name": "stdout",
     "output_type": "stream",
     "text": [
      "For Epoch 181: Loss = 3.823998849838972e-05\n",
      "For Epoch 182: Loss = 3.813123839790933e-05\n"
     ]
    },
    {
     "name": "stderr",
     "output_type": "stream",
     "text": [
      "C:\\Users\\drpla\\AppData\\Local\\Temp\\ipykernel_32744\\1529949095.py:12: PerformanceWarning: DataFrame is highly fragmented.  This is usually the result of calling `frame.insert` many times, which has poor performance.  Consider joining all columns at once using pd.concat(axis=1) instead. To get a de-fragmented frame, use `newframe = frame.copy()`\n",
      "  df_Prediction[f'Epoch {i}'] = trained_data\n",
      "C:\\Users\\drpla\\AppData\\Local\\Temp\\ipykernel_32744\\1529949095.py:12: PerformanceWarning: DataFrame is highly fragmented.  This is usually the result of calling `frame.insert` many times, which has poor performance.  Consider joining all columns at once using pd.concat(axis=1) instead. To get a de-fragmented frame, use `newframe = frame.copy()`\n",
      "  df_Prediction[f'Epoch {i}'] = trained_data\n"
     ]
    },
    {
     "name": "stdout",
     "output_type": "stream",
     "text": [
      "For Epoch 183: Loss = 3.804549851338379e-05\n",
      "For Epoch 184: Loss = 3.78437434847001e-05\n"
     ]
    },
    {
     "name": "stderr",
     "output_type": "stream",
     "text": [
      "C:\\Users\\drpla\\AppData\\Local\\Temp\\ipykernel_32744\\1529949095.py:12: PerformanceWarning: DataFrame is highly fragmented.  This is usually the result of calling `frame.insert` many times, which has poor performance.  Consider joining all columns at once using pd.concat(axis=1) instead. To get a de-fragmented frame, use `newframe = frame.copy()`\n",
      "  df_Prediction[f'Epoch {i}'] = trained_data\n",
      "C:\\Users\\drpla\\AppData\\Local\\Temp\\ipykernel_32744\\1529949095.py:12: PerformanceWarning: DataFrame is highly fragmented.  This is usually the result of calling `frame.insert` many times, which has poor performance.  Consider joining all columns at once using pd.concat(axis=1) instead. To get a de-fragmented frame, use `newframe = frame.copy()`\n",
      "  df_Prediction[f'Epoch {i}'] = trained_data\n"
     ]
    },
    {
     "name": "stdout",
     "output_type": "stream",
     "text": [
      "For Epoch 185: Loss = 3.755193392862566e-05\n",
      "For Epoch 186: Loss = 3.747242226381786e-05\n"
     ]
    },
    {
     "name": "stderr",
     "output_type": "stream",
     "text": [
      "C:\\Users\\drpla\\AppData\\Local\\Temp\\ipykernel_32744\\1529949095.py:12: PerformanceWarning: DataFrame is highly fragmented.  This is usually the result of calling `frame.insert` many times, which has poor performance.  Consider joining all columns at once using pd.concat(axis=1) instead. To get a de-fragmented frame, use `newframe = frame.copy()`\n",
      "  df_Prediction[f'Epoch {i}'] = trained_data\n",
      "C:\\Users\\drpla\\AppData\\Local\\Temp\\ipykernel_32744\\1529949095.py:12: PerformanceWarning: DataFrame is highly fragmented.  This is usually the result of calling `frame.insert` many times, which has poor performance.  Consider joining all columns at once using pd.concat(axis=1) instead. To get a de-fragmented frame, use `newframe = frame.copy()`\n",
      "  df_Prediction[f'Epoch {i}'] = trained_data\n"
     ]
    },
    {
     "name": "stdout",
     "output_type": "stream",
     "text": [
      "For Epoch 187: Loss = 3.731781180249527e-05\n",
      "For Epoch 188: Loss = 3.694711267598905e-05\n"
     ]
    },
    {
     "name": "stderr",
     "output_type": "stream",
     "text": [
      "C:\\Users\\drpla\\AppData\\Local\\Temp\\ipykernel_32744\\1529949095.py:12: PerformanceWarning: DataFrame is highly fragmented.  This is usually the result of calling `frame.insert` many times, which has poor performance.  Consider joining all columns at once using pd.concat(axis=1) instead. To get a de-fragmented frame, use `newframe = frame.copy()`\n",
      "  df_Prediction[f'Epoch {i}'] = trained_data\n",
      "C:\\Users\\drpla\\AppData\\Local\\Temp\\ipykernel_32744\\1529949095.py:12: PerformanceWarning: DataFrame is highly fragmented.  This is usually the result of calling `frame.insert` many times, which has poor performance.  Consider joining all columns at once using pd.concat(axis=1) instead. To get a de-fragmented frame, use `newframe = frame.copy()`\n",
      "  df_Prediction[f'Epoch {i}'] = trained_data\n"
     ]
    },
    {
     "name": "stdout",
     "output_type": "stream",
     "text": [
      "For Epoch 189: Loss = 3.674577601486817e-05\n",
      "For Epoch 190: Loss = 3.652111627161503e-05\n"
     ]
    },
    {
     "name": "stderr",
     "output_type": "stream",
     "text": [
      "C:\\Users\\drpla\\AppData\\Local\\Temp\\ipykernel_32744\\1529949095.py:12: PerformanceWarning: DataFrame is highly fragmented.  This is usually the result of calling `frame.insert` many times, which has poor performance.  Consider joining all columns at once using pd.concat(axis=1) instead. To get a de-fragmented frame, use `newframe = frame.copy()`\n",
      "  df_Prediction[f'Epoch {i}'] = trained_data\n",
      "C:\\Users\\drpla\\AppData\\Local\\Temp\\ipykernel_32744\\1529949095.py:12: PerformanceWarning: DataFrame is highly fragmented.  This is usually the result of calling `frame.insert` many times, which has poor performance.  Consider joining all columns at once using pd.concat(axis=1) instead. To get a de-fragmented frame, use `newframe = frame.copy()`\n",
      "  df_Prediction[f'Epoch {i}'] = trained_data\n"
     ]
    },
    {
     "name": "stdout",
     "output_type": "stream",
     "text": [
      "For Epoch 191: Loss = 3.630564970080741e-05\n",
      "For Epoch 192: Loss = 3.615605237428099e-05\n"
     ]
    },
    {
     "name": "stderr",
     "output_type": "stream",
     "text": [
      "C:\\Users\\drpla\\AppData\\Local\\Temp\\ipykernel_32744\\1529949095.py:12: PerformanceWarning: DataFrame is highly fragmented.  This is usually the result of calling `frame.insert` many times, which has poor performance.  Consider joining all columns at once using pd.concat(axis=1) instead. To get a de-fragmented frame, use `newframe = frame.copy()`\n",
      "  df_Prediction[f'Epoch {i}'] = trained_data\n",
      "C:\\Users\\drpla\\AppData\\Local\\Temp\\ipykernel_32744\\1529949095.py:12: PerformanceWarning: DataFrame is highly fragmented.  This is usually the result of calling `frame.insert` many times, which has poor performance.  Consider joining all columns at once using pd.concat(axis=1) instead. To get a de-fragmented frame, use `newframe = frame.copy()`\n",
      "  df_Prediction[f'Epoch {i}'] = trained_data\n"
     ]
    },
    {
     "name": "stdout",
     "output_type": "stream",
     "text": [
      "For Epoch 193: Loss = 3.5873341403203085e-05\n",
      "For Epoch 194: Loss = 3.559536344255321e-05\n"
     ]
    },
    {
     "name": "stderr",
     "output_type": "stream",
     "text": [
      "C:\\Users\\drpla\\AppData\\Local\\Temp\\ipykernel_32744\\1529949095.py:12: PerformanceWarning: DataFrame is highly fragmented.  This is usually the result of calling `frame.insert` many times, which has poor performance.  Consider joining all columns at once using pd.concat(axis=1) instead. To get a de-fragmented frame, use `newframe = frame.copy()`\n",
      "  df_Prediction[f'Epoch {i}'] = trained_data\n",
      "C:\\Users\\drpla\\AppData\\Local\\Temp\\ipykernel_32744\\1529949095.py:12: PerformanceWarning: DataFrame is highly fragmented.  This is usually the result of calling `frame.insert` many times, which has poor performance.  Consider joining all columns at once using pd.concat(axis=1) instead. To get a de-fragmented frame, use `newframe = frame.copy()`\n",
      "  df_Prediction[f'Epoch {i}'] = trained_data\n"
     ]
    },
    {
     "name": "stdout",
     "output_type": "stream",
     "text": [
      "For Epoch 195: Loss = 3.539935278240591e-05\n",
      "For Epoch 196: Loss = 3.517571894917637e-05\n"
     ]
    },
    {
     "name": "stderr",
     "output_type": "stream",
     "text": [
      "C:\\Users\\drpla\\AppData\\Local\\Temp\\ipykernel_32744\\1529949095.py:12: PerformanceWarning: DataFrame is highly fragmented.  This is usually the result of calling `frame.insert` many times, which has poor performance.  Consider joining all columns at once using pd.concat(axis=1) instead. To get a de-fragmented frame, use `newframe = frame.copy()`\n",
      "  df_Prediction[f'Epoch {i}'] = trained_data\n",
      "C:\\Users\\drpla\\AppData\\Local\\Temp\\ipykernel_32744\\1529949095.py:12: PerformanceWarning: DataFrame is highly fragmented.  This is usually the result of calling `frame.insert` many times, which has poor performance.  Consider joining all columns at once using pd.concat(axis=1) instead. To get a de-fragmented frame, use `newframe = frame.copy()`\n",
      "  df_Prediction[f'Epoch {i}'] = trained_data\n"
     ]
    },
    {
     "name": "stdout",
     "output_type": "stream",
     "text": [
      "For Epoch 197: Loss = 3.493986514513381e-05\n",
      "For Epoch 198: Loss = 3.474908589851111e-05\n"
     ]
    },
    {
     "name": "stderr",
     "output_type": "stream",
     "text": [
      "C:\\Users\\drpla\\AppData\\Local\\Temp\\ipykernel_32744\\1529949095.py:12: PerformanceWarning: DataFrame is highly fragmented.  This is usually the result of calling `frame.insert` many times, which has poor performance.  Consider joining all columns at once using pd.concat(axis=1) instead. To get a de-fragmented frame, use `newframe = frame.copy()`\n",
      "  df_Prediction[f'Epoch {i}'] = trained_data\n",
      "C:\\Users\\drpla\\AppData\\Local\\Temp\\ipykernel_32744\\1529949095.py:12: PerformanceWarning: DataFrame is highly fragmented.  This is usually the result of calling `frame.insert` many times, which has poor performance.  Consider joining all columns at once using pd.concat(axis=1) instead. To get a de-fragmented frame, use `newframe = frame.copy()`\n",
      "  df_Prediction[f'Epoch {i}'] = trained_data\n"
     ]
    },
    {
     "name": "stdout",
     "output_type": "stream",
     "text": [
      "For Epoch 199: Loss = 3.450286385486834e-05\n",
      "For Epoch 200: Loss = 3.426473995205015e-05\n"
     ]
    }
   ],
   "source": [
    "model = SimpleNN()\n",
    "optimizer = optim.Adam(model.parameters(), lr=0.001)\n",
    "lossdata=[]\n",
    "df_Prediction=pd.DataFrame()\n",
    "epochs=200\n",
    "epochlist=[]\n",
    "for i in range(1,epochs+1):\n",
    "    epochlist.append(i)\n",
    "for i in range(0,epochs):\n",
    "    trained=model.forward(train_features_tensor)\n",
    "    trained_data= pd.DataFrame(trained.detach().numpy())\n",
    "    df_Prediction[f'Epoch {i}'] = trained_data\n",
    "    loss=model.batch_weightedBCELoss(trained,train_labels_tensor,train_weights_tensor,1024)\n",
    "    lossdata.append(loss.item())\n",
    "    optimizer.zero_grad()\n",
    "    loss.backward()\n",
    "    optimizer.step()\n",
    "    print(f'For Epoch {i+1}: Loss = {loss}')\n",
    "# figure=plt.figure()\n",
    "# plt.plot(epochlist,lossdata)\n",
    "# plt.xlabel('Epoch')\n",
    "# plt.ylabel('Loss')\n",
    "# plt.show()    "
   ]
  },
  {
   "cell_type": "code",
   "execution_count": 37,
   "id": "801e9231",
   "metadata": {},
   "outputs": [
    {
     "data": {
      "image/png": "[encoded data removed]",
      "text/plain": [
       "<Figure size 1000x1000 with 1 Axes>"
      ]
     },
     "metadata": {},
     "output_type": "display_data"
    }
   ],
   "source": [
    "\"\"\"\n",
    "Plot of Loss vs Epoch\n",
    "\"\"\"\n",
    "\n",
    "figure=plt.figure()\n",
    "plt.plot(epochlist,lossdata)\n",
    "plt.xlabel('Epoch')\n",
    "plt.ylabel('Loss')\n",
    "plt.show()    "
   ]
  },
  {
   "cell_type": "code",
   "execution_count": 38,
   "id": "d8f26627",
   "metadata": {},
   "outputs": [
    {
     "data": {
      "image/png": "[encoded data removed]",
      "text/plain": [
       "<Figure size 1000x1000 with 1 Axes>"
      ]
     },
     "metadata": {},
     "output_type": "display_data"
    }
   ],
   "source": [
    "#epoch_= 'Epoch 99'\n",
    "epoch_=f'Epoch {epochs-1}'\n",
    "plt.figure()\n",
    "plt.hist(df_Prediction[epoch_],bins=80,label='trained',histtype=\"step\",color='orange')\n",
    "plt.hist(train_labels,bins=80,histtype='step',color='grey',label='expected')\n",
    "plt.legend()\n",
    "plt.xlabel('Classification of Events')\n",
    "plt.ylabel('Number of Events')\n",
    "plt.title('Comparison of the expected output and the trained output')\n",
    "#plt.savefig(f\"BenNeuralNetworkPlots/TrainingHist-{signalname}Epochs={epochs}\")\n",
    "plt.show()"
   ]
  },
  {
   "cell_type": "code",
   "execution_count": 39,
   "id": "d405c354",
   "metadata": {},
   "outputs": [
    {
     "name": "stdout",
     "output_type": "stream",
     "text": [
      "run 0\n",
      "run 1\n",
      "run 2\n",
      "run 3\n",
      "run 4\n",
      "run 5\n",
      "run 6\n",
      "run 7\n",
      "run 8\n",
      "run 9\n",
      "run 10\n",
      "run 11\n",
      "run 12\n",
      "run 13\n",
      "run 14\n",
      "run 15\n",
      "run 16\n",
      "run 17\n",
      "run 18\n",
      "run 19\n",
      "run 20\n",
      "run 21\n",
      "run 22\n",
      "run 23\n",
      "run 24\n",
      "run 25\n",
      "run 26\n",
      "run 27\n",
      "run 28\n",
      "run 29\n",
      "run 30\n",
      "run 31\n",
      "run 32\n",
      "run 33\n",
      "run 34\n",
      "run 35\n",
      "run 36\n",
      "run 37\n",
      "run 38\n",
      "run 39\n",
      "run 40\n",
      "run 41\n",
      "run 42\n",
      "run 43\n",
      "run 44\n",
      "run 45\n",
      "run 46\n",
      "run 47\n",
      "run 48\n",
      "run 49\n",
      "run 50\n",
      "run 51\n",
      "run 52\n",
      "run 53\n",
      "run 54\n",
      "run 55\n",
      "run 56\n",
      "run 57\n",
      "run 58\n",
      "run 59\n",
      "run 60\n",
      "run 61\n",
      "run 62\n",
      "run 63\n",
      "run 64\n",
      "run 65\n",
      "run 66\n",
      "run 67\n",
      "run 68\n",
      "run 69\n",
      "run 70\n",
      "run 71\n",
      "run 72\n",
      "run 73\n",
      "run 74\n",
      "run 75\n",
      "run 76\n",
      "run 77\n",
      "run 78\n",
      "run 79\n",
      "run 80\n",
      "run 81\n",
      "run 82\n",
      "run 83\n",
      "run 84\n",
      "run 85\n",
      "run 86\n",
      "run 87\n",
      "run 88\n",
      "run 89\n",
      "run 90\n",
      "run 91\n",
      "run 92\n",
      "run 93\n",
      "run 94\n",
      "run 95\n",
      "run 96\n",
      "run 97\n",
      "run 98\n",
      "run 99\n",
      "run 100\n",
      "run 101\n",
      "run 102\n",
      "run 103\n",
      "run 104\n",
      "run 105\n",
      "run 106\n",
      "run 107\n",
      "run 108\n",
      "run 109\n",
      "run 110\n",
      "run 111\n",
      "run 112\n",
      "run 113\n",
      "run 114\n",
      "run 115\n",
      "run 116\n",
      "run 117\n",
      "run 118\n",
      "run 119\n",
      "run 120\n",
      "run 121\n",
      "run 122\n",
      "run 123\n",
      "run 124\n",
      "run 125\n",
      "run 126\n",
      "run 127\n",
      "run 128\n",
      "run 129\n",
      "run 130\n",
      "run 131\n",
      "run 132\n",
      "run 133\n",
      "run 134\n",
      "run 135\n",
      "run 136\n",
      "run 137\n",
      "run 138\n",
      "run 139\n",
      "run 140\n",
      "run 141\n",
      "run 142\n",
      "run 143\n",
      "run 144\n",
      "run 145\n",
      "run 146\n",
      "run 147\n",
      "run 148\n",
      "run 149\n",
      "run 150\n",
      "run 151\n",
      "run 152\n",
      "run 153\n",
      "run 154\n",
      "run 155\n",
      "run 156\n",
      "run 157\n",
      "run 158\n",
      "run 159\n",
      "run 160\n",
      "run 161\n",
      "run 162\n",
      "run 163\n",
      "run 164\n",
      "run 165\n",
      "run 166\n",
      "run 167\n",
      "run 168\n",
      "run 169\n",
      "run 170\n",
      "run 171\n",
      "run 172\n",
      "run 173\n",
      "run 174\n",
      "run 175\n",
      "run 176\n",
      "run 177\n",
      "run 178\n",
      "run 179\n",
      "run 180\n",
      "run 181\n",
      "run 182\n",
      "run 183\n",
      "run 184\n",
      "run 185\n",
      "run 186\n",
      "run 187\n",
      "run 188\n",
      "run 189\n",
      "run 190\n",
      "run 191\n",
      "run 192\n",
      "run 193\n",
      "run 194\n",
      "run 195\n",
      "run 196\n",
      "run 197\n",
      "run 198\n",
      "run 199\n",
      "run 200\n",
      "run 201\n",
      "run 202\n",
      "run 203\n",
      "run 204\n",
      "run 205\n",
      "run 206\n",
      "run 207\n",
      "run 208\n",
      "run 209\n",
      "run 210\n",
      "run 211\n",
      "run 212\n",
      "run 213\n",
      "run 214\n",
      "run 215\n",
      "run 216\n",
      "run 217\n",
      "run 218\n",
      "run 219\n",
      "run 220\n",
      "run 221\n",
      "run 222\n",
      "run 223\n",
      "run 224\n",
      "run 225\n",
      "run 226\n",
      "run 227\n",
      "run 228\n",
      "run 229\n",
      "run 230\n",
      "run 231\n",
      "run 232\n",
      "run 233\n",
      "run 234\n",
      "run 235\n",
      "run 236\n",
      "run 237\n",
      "run 238\n",
      "run 239\n",
      "run 240\n",
      "run 241\n",
      "run 242\n",
      "run 243\n",
      "run 244\n",
      "run 245\n",
      "run 246\n",
      "run 247\n",
      "run 248\n",
      "run 249\n",
      "run 250\n",
      "run 251\n",
      "run 252\n",
      "run 253\n",
      "run 254\n",
      "run 255\n",
      "run 256\n",
      "run 257\n",
      "run 258\n",
      "run 259\n",
      "run 260\n",
      "run 261\n",
      "run 262\n",
      "run 263\n",
      "run 264\n",
      "run 265\n",
      "run 266\n",
      "run 267\n",
      "run 268\n",
      "run 269\n",
      "run 270\n",
      "run 271\n",
      "run 272\n",
      "run 273\n",
      "run 274\n",
      "run 275\n",
      "run 276\n",
      "run 277\n",
      "run 278\n",
      "run 279\n",
      "run 280\n",
      "run 281\n",
      "run 282\n",
      "run 283\n",
      "run 284\n",
      "run 285\n",
      "run 286\n",
      "run 287\n",
      "run 288\n",
      "run 289\n",
      "run 290\n",
      "run 291\n",
      "run 292\n",
      "run 293\n",
      "run 294\n",
      "run 295\n",
      "run 296\n",
      "run 297\n",
      "run 298\n",
      "run 299\n",
      "run 300\n",
      "run 301\n",
      "run 302\n",
      "run 303\n",
      "run 304\n",
      "run 305\n",
      "run 306\n",
      "run 307\n",
      "run 308\n",
      "run 309\n",
      "run 310\n",
      "run 311\n",
      "run 312\n",
      "run 313\n",
      "run 314\n",
      "run 315\n",
      "run 316\n",
      "run 317\n",
      "run 318\n",
      "run 319\n",
      "run 320\n",
      "run 321\n",
      "run 322\n",
      "run 323\n",
      "run 324\n",
      "run 325\n",
      "run 326\n",
      "run 327\n",
      "run 328\n",
      "run 329\n",
      "run 330\n",
      "run 331\n",
      "run 332\n",
      "run 333\n",
      "run 334\n",
      "run 335\n",
      "run 336\n",
      "run 337\n",
      "run 338\n",
      "run 339\n",
      "run 340\n",
      "run 341\n",
      "run 342\n",
      "run 343\n",
      "run 344\n",
      "run 345\n",
      "run 346\n",
      "run 347\n",
      "run 348\n",
      "run 349\n",
      "run 350\n",
      "run 351\n",
      "run 352\n",
      "run 353\n",
      "run 354\n",
      "run 355\n",
      "run 356\n",
      "run 357\n",
      "run 358\n",
      "run 359\n",
      "run 360\n",
      "run 361\n",
      "run 362\n",
      "run 363\n",
      "run 364\n",
      "run 365\n",
      "run 366\n",
      "run 367\n",
      "run 368\n",
      "run 369\n",
      "run 370\n",
      "run 371\n",
      "run 372\n",
      "run 373\n",
      "run 374\n",
      "run 375\n",
      "run 376\n",
      "run 377\n",
      "run 378\n",
      "run 379\n",
      "run 380\n",
      "run 381\n",
      "run 382\n",
      "run 383\n",
      "run 384\n",
      "run 385\n",
      "run 386\n",
      "run 387\n",
      "run 388\n",
      "run 389\n",
      "run 390\n",
      "run 391\n",
      "run 392\n",
      "run 393\n",
      "run 394\n",
      "run 395\n",
      "run 396\n",
      "run 397\n",
      "run 398\n",
      "run 399\n",
      "run 400\n",
      "run 401\n",
      "run 402\n",
      "run 403\n",
      "run 404\n",
      "run 405\n",
      "run 406\n",
      "run 407\n",
      "run 408\n",
      "run 409\n",
      "run 410\n",
      "run 411\n",
      "run 412\n",
      "run 413\n",
      "run 414\n",
      "run 415\n",
      "run 416\n",
      "run 417\n",
      "run 418\n",
      "run 419\n",
      "run 420\n",
      "run 421\n",
      "run 422\n",
      "run 423\n",
      "run 424\n",
      "run 425\n",
      "run 426\n",
      "run 427\n",
      "run 428\n",
      "run 429\n",
      "run 430\n",
      "run 431\n",
      "run 432\n",
      "run 433\n",
      "run 434\n",
      "run 435\n",
      "run 436\n",
      "run 437\n",
      "run 438\n",
      "run 439\n",
      "run 440\n",
      "run 441\n",
      "run 442\n",
      "run 443\n",
      "run 444\n",
      "run 445\n",
      "run 446\n",
      "run 447\n",
      "run 448\n",
      "run 449\n",
      "run 450\n",
      "run 451\n",
      "run 452\n",
      "run 453\n",
      "run 454\n",
      "run 455\n",
      "run 456\n",
      "run 457\n",
      "run 458\n",
      "run 459\n",
      "run 460\n",
      "run 461\n",
      "run 462\n",
      "run 463\n",
      "run 464\n",
      "run 465\n",
      "run 466\n",
      "run 467\n",
      "run 468\n",
      "run 469\n",
      "run 470\n",
      "run 471\n",
      "run 472\n",
      "run 473\n",
      "run 474\n",
      "run 475\n",
      "run 476\n",
      "run 477\n",
      "run 478\n",
      "run 479\n",
      "run 480\n",
      "run 481\n",
      "run 482\n",
      "run 483\n",
      "run 484\n",
      "run 485\n",
      "run 486\n",
      "run 487\n",
      "run 488\n",
      "run 489\n",
      "run 490\n",
      "run 491\n",
      "run 492\n",
      "run 493\n",
      "run 494\n",
      "run 495\n",
      "run 496\n",
      "run 497\n",
      "run 498\n",
      "run 499\n",
      "run 500\n",
      "run 501\n",
      "run 502\n",
      "run 503\n",
      "run 504\n",
      "run 505\n",
      "run 506\n",
      "run 507\n",
      "run 508\n",
      "run 509\n",
      "run 510\n",
      "run 511\n",
      "run 512\n",
      "run 513\n",
      "run 514\n",
      "run 515\n",
      "run 516\n",
      "run 517\n",
      "run 518\n",
      "run 519\n",
      "run 520\n",
      "run 521\n",
      "run 522\n",
      "run 523\n",
      "run 524\n",
      "run 525\n",
      "run 526\n",
      "run 527\n",
      "run 528\n",
      "run 529\n",
      "run 530\n",
      "run 531\n",
      "run 532\n",
      "run 533\n",
      "run 534\n",
      "run 535\n",
      "run 536\n",
      "run 537\n",
      "run 538\n",
      "run 539\n",
      "run 540\n",
      "run 541\n",
      "run 542\n",
      "run 543\n",
      "run 544\n",
      "run 545\n",
      "run 546\n",
      "run 547\n",
      "run 548\n",
      "run 549\n",
      "run 550\n",
      "run 551\n",
      "run 552\n",
      "run 553\n",
      "run 554\n",
      "run 555\n",
      "run 556\n",
      "run 557\n",
      "run 558\n",
      "run 559\n",
      "run 560\n",
      "run 561\n",
      "run 562\n",
      "run 563\n",
      "run 564\n",
      "run 565\n",
      "run 566\n",
      "run 567\n",
      "run 568\n",
      "run 569\n",
      "run 570\n",
      "run 571\n",
      "run 572\n",
      "run 573\n",
      "run 574\n",
      "run 575\n",
      "run 576\n",
      "run 577\n",
      "run 578\n",
      "run 579\n",
      "run 580\n",
      "run 581\n",
      "run 582\n",
      "run 583\n",
      "run 584\n",
      "run 585\n",
      "run 586\n",
      "run 587\n",
      "run 588\n",
      "run 589\n",
      "run 590\n",
      "run 591\n",
      "run 592\n",
      "run 593\n",
      "run 594\n",
      "run 595\n",
      "run 596\n",
      "run 597\n",
      "run 598\n",
      "run 599\n",
      "run 600\n",
      "run 601\n",
      "run 602\n",
      "run 603\n",
      "run 604\n",
      "run 605\n",
      "run 606\n",
      "run 607\n",
      "run 608\n",
      "run 609\n",
      "run 610\n",
      "run 611\n",
      "run 612\n",
      "run 613\n",
      "run 614\n",
      "run 615\n",
      "run 616\n",
      "run 617\n",
      "run 618\n",
      "run 619\n",
      "run 620\n",
      "run 621\n",
      "run 622\n",
      "run 623\n",
      "run 624\n",
      "run 625\n",
      "run 626\n",
      "run 627\n",
      "run 628\n",
      "run 629\n",
      "run 630\n",
      "run 631\n",
      "run 632\n",
      "run 633\n",
      "run 634\n",
      "run 635\n",
      "run 636\n",
      "run 637\n",
      "run 638\n",
      "run 639\n",
      "run 640\n",
      "run 641\n",
      "run 642\n",
      "run 643\n",
      "run 644\n",
      "run 645\n",
      "run 646\n",
      "run 647\n",
      "run 648\n",
      "run 649\n",
      "run 650\n",
      "run 651\n",
      "run 652\n",
      "run 653\n",
      "run 654\n",
      "run 655\n",
      "run 656\n",
      "run 657\n",
      "run 658\n",
      "run 659\n",
      "run 660\n",
      "run 661\n",
      "run 662\n",
      "run 663\n",
      "run 664\n",
      "run 665\n",
      "run 666\n",
      "run 667\n",
      "run 668\n",
      "run 669\n",
      "run 670\n",
      "run 671\n",
      "run 672\n",
      "run 673\n",
      "run 674\n",
      "run 675\n",
      "run 676\n",
      "run 677\n",
      "run 678\n",
      "run 679\n",
      "run 680\n",
      "run 681\n",
      "run 682\n",
      "run 683\n",
      "run 684\n",
      "run 685\n",
      "run 686\n",
      "run 687\n",
      "run 688\n",
      "run 689\n",
      "run 690\n",
      "run 691\n",
      "run 692\n",
      "run 693\n",
      "run 694\n",
      "run 695\n",
      "run 696\n",
      "run 697\n",
      "run 698\n",
      "run 699\n",
      "run 700\n",
      "run 701\n",
      "run 702\n",
      "run 703\n",
      "run 704\n",
      "run 705\n",
      "run 706\n",
      "run 707\n",
      "run 708\n",
      "run 709\n",
      "run 710\n",
      "run 711\n",
      "run 712\n",
      "run 713\n",
      "run 714\n",
      "run 715\n",
      "run 716\n",
      "run 717\n",
      "run 718\n",
      "run 719\n",
      "run 720\n",
      "run 721\n",
      "run 722\n",
      "run 723\n",
      "run 724\n",
      "run 725\n",
      "run 726\n",
      "run 727\n",
      "run 728\n",
      "run 729\n",
      "run 730\n",
      "run 731\n",
      "run 732\n",
      "run 733\n",
      "run 734\n",
      "run 735\n",
      "run 736\n",
      "run 737\n",
      "run 738\n",
      "run 739\n",
      "run 740\n",
      "run 741\n",
      "run 742\n",
      "run 743\n",
      "run 744\n",
      "run 745\n",
      "run 746\n",
      "run 747\n",
      "run 748\n",
      "run 749\n",
      "run 750\n",
      "run 751\n",
      "run 752\n",
      "run 753\n",
      "run 754\n",
      "run 755\n",
      "run 756\n",
      "run 757\n",
      "run 758\n",
      "run 759\n",
      "run 760\n",
      "run 761\n",
      "run 762\n",
      "run 763\n",
      "run 764\n",
      "run 765\n",
      "run 766\n",
      "run 767\n",
      "run 768\n",
      "run 769\n",
      "run 770\n",
      "run 771\n",
      "run 772\n",
      "run 773\n",
      "run 774\n",
      "run 775\n",
      "run 776\n",
      "run 777\n",
      "run 778\n",
      "run 779\n",
      "run 780\n",
      "run 781\n",
      "run 782\n",
      "run 783\n",
      "run 784\n",
      "run 785\n",
      "run 786\n",
      "run 787\n",
      "run 788\n",
      "run 789\n",
      "run 790\n",
      "run 791\n",
      "run 792\n",
      "run 793\n",
      "run 794\n",
      "run 795\n",
      "run 796\n",
      "run 797\n",
      "run 798\n",
      "run 799\n",
      "run 800\n",
      "run 801\n",
      "run 802\n",
      "run 803\n",
      "run 804\n",
      "run 805\n",
      "run 806\n",
      "run 807\n",
      "run 808\n",
      "run 809\n",
      "run 810\n",
      "run 811\n",
      "run 812\n",
      "run 813\n",
      "run 814\n",
      "run 815\n",
      "run 816\n",
      "run 817\n",
      "run 818\n",
      "run 819\n",
      "run 820\n",
      "run 821\n",
      "run 822\n",
      "run 823\n",
      "run 824\n",
      "run 825\n",
      "run 826\n",
      "run 827\n",
      "run 828\n",
      "run 829\n",
      "run 830\n",
      "run 831\n",
      "run 832\n",
      "run 833\n",
      "run 834\n",
      "run 835\n",
      "run 836\n",
      "run 837\n",
      "run 838\n",
      "run 839\n",
      "run 840\n",
      "run 841\n",
      "run 842\n",
      "run 843\n",
      "run 844\n",
      "run 845\n",
      "run 846\n",
      "run 847\n",
      "run 848\n",
      "run 849\n",
      "run 850\n",
      "run 851\n",
      "run 852\n",
      "run 853\n",
      "run 854\n",
      "run 855\n",
      "run 856\n",
      "run 857\n",
      "run 858\n",
      "run 859\n",
      "run 860\n",
      "run 861\n",
      "run 862\n",
      "run 863\n",
      "run 864\n",
      "run 865\n",
      "run 866\n",
      "run 867\n",
      "run 868\n",
      "run 869\n",
      "run 870\n",
      "run 871\n",
      "run 872\n",
      "run 873\n",
      "run 874\n",
      "run 875\n",
      "run 876\n",
      "run 877\n",
      "run 878\n",
      "run 879\n",
      "run 880\n",
      "run 881\n",
      "run 882\n",
      "run 883\n",
      "run 884\n",
      "run 885\n",
      "run 886\n",
      "run 887\n",
      "run 888\n",
      "run 889\n",
      "run 890\n",
      "run 891\n",
      "run 892\n",
      "run 893\n",
      "run 894\n",
      "run 895\n",
      "run 896\n",
      "run 897\n",
      "run 898\n",
      "run 899\n",
      "run 900\n",
      "run 901\n",
      "run 902\n",
      "run 903\n",
      "run 904\n",
      "run 905\n",
      "run 906\n",
      "run 907\n",
      "run 908\n",
      "run 909\n",
      "run 910\n",
      "run 911\n",
      "run 912\n",
      "run 913\n",
      "run 914\n",
      "run 915\n",
      "run 916\n",
      "run 917\n",
      "run 918\n",
      "run 919\n",
      "run 920\n",
      "run 921\n",
      "run 922\n",
      "run 923\n",
      "run 924\n",
      "run 925\n",
      "run 926\n",
      "run 927\n",
      "run 928\n",
      "run 929\n",
      "run 930\n",
      "run 931\n",
      "run 932\n",
      "run 933\n",
      "run 934\n",
      "run 935\n",
      "run 936\n",
      "run 937\n",
      "run 938\n",
      "run 939\n",
      "run 940\n",
      "run 941\n",
      "run 942\n",
      "run 943\n",
      "run 944\n",
      "run 945\n",
      "run 946\n",
      "run 947\n",
      "run 948\n",
      "run 949\n",
      "run 950\n",
      "run 951\n",
      "run 952\n",
      "run 953\n",
      "run 954\n",
      "run 955\n",
      "run 956\n",
      "run 957\n",
      "run 958\n",
      "run 959\n",
      "run 960\n",
      "run 961\n",
      "run 962\n",
      "run 963\n",
      "run 964\n",
      "run 965\n",
      "run 966\n",
      "run 967\n",
      "run 968\n",
      "run 969\n",
      "run 970\n",
      "run 971\n",
      "run 972\n",
      "run 973\n",
      "run 974\n",
      "run 975\n",
      "run 976\n",
      "run 977\n",
      "run 978\n",
      "run 979\n",
      "run 980\n",
      "run 981\n",
      "run 982\n",
      "run 983\n",
      "run 984\n",
      "run 985\n",
      "run 986\n",
      "run 987\n",
      "run 988\n",
      "run 989\n",
      "run 990\n",
      "run 991\n",
      "run 992\n",
      "run 993\n",
      "run 994\n",
      "run 995\n",
      "run 996\n",
      "run 997\n",
      "run 998\n",
      "run 999\n"
     ]
    }
   ],
   "source": [
    "#epoch_= 'Epoch 99'\n",
    "epoch_=f'Epoch {epochs-1}'\n",
    "train_labels_=pd.DataFrame({'Classification': train_labels}).reset_index(drop=True)\n",
    "df_Prediction = pd.concat([df_Prediction, train_labels_], axis=1)\n",
    "\n",
    "\n",
    "df_Prediction.sort_values(by=[epoch_,'Classification'], ascending=True)\n",
    "import scipy as scipy\n",
    "\n",
    "#%%\n",
    "direction='above' #use this to determine the side of the threshold that calculates TPR and FPR\n",
    "\n",
    "threshold_direction = f'Signal is {direction} Background'\n",
    "\n",
    "\n",
    "minimum_edge=0\n",
    "maximum_edge=1\n",
    "steps=1000\n",
    "stepsize=(maximum_edge-minimum_edge)/steps\n",
    "\n",
    "threshold=minimum_edge\n",
    "TPR_arr = []\n",
    "FPR_arr = []\n",
    "for i in range(0,steps): \n",
    "    if threshold_direction == 'Signal is above Background':\n",
    "        threshold += stepsize\n",
    "       \n",
    "        TP = len(df_Prediction[(df_Prediction[epoch_] >= threshold) & (df_Prediction['Classification']==1)][epoch_])#\n",
    "        FP = len(df_Prediction[(df_Prediction[epoch_] >= threshold) & (df_Prediction['Classification']==0)][epoch_])#\n",
    "        FN = len(df_Prediction[(df_Prediction[epoch_] < threshold) & (df_Prediction['Classification']==1)][epoch_])#\n",
    "        TN = len(df_Prediction[(df_Prediction[epoch_] < threshold) & (df_Prediction['Classification']==0)][epoch_])#\n",
    "        print('run',i)\n",
    "                \n",
    "        if (TP+FN) == 0:\n",
    "            TPR = 0\n",
    "            FPR = 0\n",
    "        else:\n",
    "            TPR = TP/(TP +FN)\n",
    "            FPR = FP/(FP +TN)\n",
    "        TPR_arr.append(TPR)\n",
    "        FPR_arr.append(FPR)\n",
    "        \n",
    "    elif threshold_direction == 'Signal is below Background':\n",
    "        threshold += stepsize\n",
    "       \n",
    "     #   TP = len(df_Prediction[(df_Prediction[epoch_] <= threshold) & (df_Prediction['Classification']==1)][epoch_])#\n",
    "      #  FP = len(df_Prediction[(df_Prediction[epoch_] <= threshold) & (df_Prediction['Classification']==0)][epoch_])#\n",
    "       # FN = len(df_Prediction[(df_Prediction[epoch_] > threshold) & (df_Prediction['Classification']==1)][epoch_])#\n",
    "        #TN = len(df_Prediction[(df_Prediction[epoch_] > threshold) & (df_Prediction['Classification']==0)][epoch_])#\n",
    "        \n",
    "        print('run',i)\n",
    "        \n",
    "        TPR = TP/(TP +FN)\n",
    "        FPR = FP/(FP +TN)\n",
    "        TPR_arr.append(TPR)\n",
    "        FPR_arr.append(FPR)\n",
    "        \n",
    "\n",
    "\n",
    "sorted_values = sorted(zip(FPR_arr, TPR_arr))\n",
    "FPR_arr, TPR_arr = zip(*sorted_values)\n"
   ]
  },
  {
   "cell_type": "code",
   "execution_count": 40,
   "id": "e3c8ffc2",
   "metadata": {},
   "outputs": [
    {
     "data": {
      "image/png": "[encoded data removed]",
      "text/plain": [
       "<Figure size 1000x1000 with 1 Axes>"
      ]
     },
     "metadata": {},
     "output_type": "display_data"
    },
    {
     "name": "stdout",
     "output_type": "stream",
     "text": [
      "0.944264363854289\n"
     ]
    }
   ],
   "source": [
    "AUCscore=scipy.integrate.trapezoid(TPR_arr,FPR_arr,  dx=stepsize,axis=-1)\n",
    "fig=plt.figure()    \n",
    "plt.scatter(FPR_arr,TPR_arr,label=f'AUC:{AUCscore}')\n",
    "plt.xlabel('FPR')\n",
    "plt.ylabel('TPR')\n",
    "plt.legend()\n",
    "plt.show()\n",
    "print(AUCscore)"
   ]
  },
  {
   "cell_type": "code",
   "execution_count": 26,
   "id": "74cb8d8d",
   "metadata": {},
   "outputs": [],
   "source": [
    "df_Prediction = df_Prediction.drop(columns='Classification')"
   ]
  },
  {
   "cell_type": "code",
   "execution_count": 42,
   "id": "809f834e",
   "metadata": {},
   "outputs": [
    {
     "name": "stdout",
     "output_type": "stream",
     "text": [
      "BenNeuralNetworkPlots/HIST_LOSS_ROC_GluGluToRadionToHHTo2G2Tau_M-1000Epochs=200\n"
     ]
    },
    {
     "data": {
      "image/png": "[encoded data removed]",
      "text/plain": [
       "<Figure size 2400x1000 with 3 Axes>"
      ]
     },
     "metadata": {},
     "output_type": "display_data"
    }
   ],
   "source": [
    "fig, axs = plt.subplots(1, 3, figsize=(24, 10))\n",
    "\n",
    "# Plot 1: Line plot (plt.plot)\n",
    "axs[1].plot(epochlist, lossdata)\n",
    "axs[1].set_xlabel('Epoch')\n",
    "axs[1].set_ylabel('Loss')\n",
    "axs[1].set_title('Loss per Epoch')\n",
    "\n",
    "# Plot 2: Histograms (two separate subplots)\n",
    "axs[0].hist(df_Prediction[epoch_], bins=80, label='trained', histtype=\"step\", color='orange')\n",
    "axs[0].legend()\n",
    "axs[0].set_title('Trained Histogram')\n",
    "\n",
    "axs[0].set_xlabel('Trained Classification')\n",
    "axs[0].set_ylabel('Number Events')\n",
    "\n",
    "axs[0].hist(train_labels, bins=80, histtype='step', color='grey', label='expected')\n",
    "axs[0].legend()\n",
    "axs[0].set_title('Expected Histogram')\n",
    "\n",
    "# Plot 3: Scatter plot with AUC score\n",
    "axs[2].scatter(FPR_arr, TPR_arr, label=f'AUC: {AUCscore}')\n",
    "axs[2].set_xlabel('FPR')\n",
    "axs[2].set_ylabel('TPR')\n",
    "axs[2].legend()\n",
    "axs[2].set_title('ROC Curve')\n",
    "\n",
    "# Adjust layout and display\n",
    "plt.tight_layout()\n",
    "plt.savefig(f\"BenNeuralNetworkPlots/HIST_LOSS_ROC_{signalname}Epochs={epochs}\")\n",
    "print(f\"BenNeuralNetworkPlots/HIST_LOSS_ROC_{signalname}Epochs={epochs}\")\n",
    "\n",
    "plt.show()\n"
   ]
  },
  {
   "cell_type": "code",
   "execution_count": 28,
   "id": "8750e9f4",
   "metadata": {},
   "outputs": [
    {
     "data": {
      "text/plain": [
       "200"
      ]
     },
     "execution_count": 28,
     "metadata": {},
     "output_type": "execute_result"
    }
   ],
   "source": [
    "epochs"
   ]
  },
  {
   "cell_type": "code",
   "execution_count": null,
   "id": "770ca333",
   "metadata": {},
   "outputs": [],
   "source": []
  },
  {
   "cell_type": "code",
   "execution_count": 256,
   "id": "1995364a",
   "metadata": {},
   "outputs": [
    {
     "data": {
      "text/plain": [
       "'Epoch 199'"
      ]
     },
     "execution_count": 256,
     "metadata": {},
     "output_type": "execute_result"
    }
   ],
   "source": [
    "epoch_"
   ]
  },
  {
   "cell_type": "code",
   "execution_count": 257,
   "id": "08e749c4",
   "metadata": {},
   "outputs": [
    {
     "name": "stdout",
     "output_type": "stream",
     "text": [
      "(120084,) (120084,)\n"
     ]
    }
   ],
   "source": [
    "print(df_Prediction[epoch_].shape,train_labels.shape)"
   ]
  },
  {
   "cell_type": "code",
   "execution_count": null,
   "id": "b5f882d2",
   "metadata": {},
   "outputs": [],
   "source": []
  },
  {
   "cell_type": "code",
   "execution_count": null,
   "id": "afa5d910",
   "metadata": {},
   "outputs": [],
   "source": []
  },
  {
   "cell_type": "code",
   "execution_count": null,
   "id": "f987ea14",
   "metadata": {},
   "outputs": [],
   "source": []
  }
 ],
 "metadata": {
  "kernelspec": {
   "display_name": "Python 3 (ipykernel)",
   "language": "python",
   "name": "python3"
  },
  "language_info": {
   "codemirror_mode": {
    "name": "ipython",
    "version": 3
   },
   "file_extension": ".py",
   "mimetype": "text/x-python",
   "name": "python",
   "nbconvert_exporter": "python",
   "pygments_lexer": "ipython3",
   "version": "3.9.7"
  }
 },
 "nbformat": 4,
 "nbformat_minor": 5
}
