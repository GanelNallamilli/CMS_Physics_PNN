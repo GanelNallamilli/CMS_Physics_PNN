{
 "cells": [
  {
   "cell_type": "code",
   "execution_count": 49,
   "id": "061baec0",
   "metadata": {},
   "outputs": [
    {
     "name": "stderr",
     "output_type": "stream",
     "text": [
      "C:\\Users\\drpla\\AppData\\Local\\Temp\\ipykernel_21848\\476142825.py:20: SettingWithCopyWarning: \n",
      "A value is trying to be set on a copy of a slice from a DataFrame.\n",
      "Try using .loc[row_indexer,col_indexer] = value instead\n",
      "\n",
      "See the caveats in the documentation: https://pandas.pydata.org/pandas-docs/stable/user_guide/indexing.html#returning-a-view-versus-a-copy\n",
      "  sig['Classification']=np.ones(sig['Diphoton_mass'].size)\n"
     ]
    }
   ],
   "source": [
    "import torch\n",
    "import torch.nn as nn\n",
    "import torch.optim as optim\n",
    "import json\n",
    "import matplotlib.pyplot as plt\n",
    "import pandas as pd\n",
    "from sklearn.model_selection import train_test_split\n",
    "import numpy as np\n",
    "import mplhep as hep\n",
    "hep.style.use(\"CMS\")\n",
    "\n",
    "\n",
    "df = pd.read_parquet(r'C:\\Users\\drpla\\Desktop\\ICL-PHYSICS-YEAR-4\\Masters Project\\Data\\New folder\\merged_nominal.parquet')\n",
    "\n",
    "with open(r'C:\\Users\\drpla\\Desktop\\ICL-PHYSICS-YEAR-4\\Masters Project\\Data\\New folder\\summary.json', \"r\") as f:\n",
    "  proc_dict = json.load(f)[\"sample_id_map\"]\n",
    "  \n",
    "  \n",
    "sig = df[df.process_id == proc_dict[\"GluGluToRadionToHHTo2G2Tau_M-300\"]] # just one signal process, mass of X is 1000 GeV\n",
    "sig['Classification']=np.ones(sig['Diphoton_mass'].size)\n",
    "#bkg = df[df.process_id == proc_dict[\"DiPhoton\"]] # just one of the background processes"
   ]
  },
  {
   "cell_type": "code",
   "execution_count": 50,
   "id": "33ce8fd1",
   "metadata": {},
   "outputs": [],
   "source": [
    "\"\"\"Concatenating the background data\"\"\"\n",
    "background_list=['Data','DiPhoton', 'TTGG', 'TTGamma',#list of each bkgs for concatenation\n",
    " 'TTJets',\n",
    " 'VBFH_M125',\n",
    " 'VH_M125',\n",
    " 'WGamma',\n",
    " 'ZGamma',\n",
    " 'ggH_M125', \n",
    " 'ttH_M125',\n",
    " 'GJets']\n",
    "\n",
    "listforconc=[]\n",
    "for i in background_list:                               #creating a concatenated list of bkg\n",
    "    bkgg = df[df.process_id == proc_dict[i]]\n",
    "    listforconc.append(bkgg)\n",
    "    \n",
    "background = pd.concat(listforconc)\n",
    "background['Classification']=np.zeros(background['Diphoton_mass'].size)"
   ]
  },
  {
   "cell_type": "code",
   "execution_count": 51,
   "id": "12325d61",
   "metadata": {},
   "outputs": [],
   "source": [
    "MinusNineBinning=['ditau_met_dPhi',\n",
    "                  'ditau_deta',\n",
    "                  'ditau_dR',\n",
    "                  'ditau_dphi',\n",
    "                  'ditau_pt',\n",
    "                  'Diphoton_ditau_dphi',\n",
    "                  'dilep_leadpho_mass',\n",
    "                  'reco_MX_mgg',\n",
    "                  'Diphoton_ditau_deta',\n",
    "                  'Diphoton_sublead_lepton_deta',\n",
    "                  'Diphoton_sublead_lepton_dR',\n",
    "                  'LeadPhoton_ditau_dR',\n",
    "                  'ditau_mass']\n"
   ]
  },
  {
   "cell_type": "code",
   "execution_count": 24,
   "id": "5846112e",
   "metadata": {},
   "outputs": [
    {
     "name": "stdout",
     "output_type": "stream",
     "text": [
      "90225.55 25.34767\n",
      "90225.55\n"
     ]
    },
    {
     "name": "stderr",
     "output_type": "stream",
     "text": [
      "C:\\Users\\drpla\\AppData\\Local\\Temp\\ipykernel_21848\\978373548.py:7: SettingWithCopyWarning: \n",
      "A value is trying to be set on a copy of a slice from a DataFrame.\n",
      "Try using .loc[row_indexer,col_indexer] = value instead\n",
      "\n",
      "See the caveats in the documentation: https://pandas.pydata.org/pandas-docs/stable/user_guide/indexing.html#returning-a-view-versus-a-copy\n",
      "  sig['weight_central'] = sig['weight_central']*scale\n"
     ]
    }
   ],
   "source": [
    "print(background['weight_central'].sum(),sig['weight_central'].sum())\n",
    "\n",
    "\"rescale all of signal up to the number of background weighting\"\n",
    "\n",
    "scale=background['weight_central'].sum()/sig['weight_central'].sum()\n",
    "\n",
    "sig['weight_central'] = sig['weight_central']*scale\n",
    "\n",
    "print(sig['weight_central'].sum())"
   ]
  },
  {
   "cell_type": "code",
   "execution_count": 52,
   "id": "d7805b4c",
   "metadata": {},
   "outputs": [
    {
     "data": {
      "text/plain": [
       "1314751    0.000302\n",
       "1314752    0.000316\n",
       "1314753    0.000364\n",
       "1314754    0.000329\n",
       "1314755    0.000401\n",
       "             ...   \n",
       "1381723    0.000527\n",
       "1381724    0.000519\n",
       "1381725    0.000507\n",
       "1381726    0.000492\n",
       "1381727    0.000387\n",
       "Name: weight_central, Length: 66645, dtype: float32"
      ]
     },
     "execution_count": 52,
     "metadata": {},
     "output_type": "execute_result"
    }
   ],
   "source": [
    "sig['weight_central']"
   ]
  },
  {
   "cell_type": "code",
   "execution_count": 53,
   "id": "520eba67",
   "metadata": {},
   "outputs": [
    {
     "name": "stdout",
     "output_type": "stream",
     "text": [
      "reco_MX_mgg\n",
      "ditau_pt\n",
      "dilep_leadpho_mass\n",
      "ditau_dR\n",
      "ditau_met_dPhi\n",
      "ditau_deta\n",
      "Diphoton_sublead_lepton_deta\n",
      "Diphoton_ditau_deta\n",
      "ditau_mass\n"
     ]
    }
   ],
   "source": [
    "\"\"\"Concatenating Signal and Background\"\"\"\n",
    "\"\"\"Choosing Best Features given the M=1000 AUC scores\"\"\"\n",
    "FullSignalBackground=pd.concat([sig,background])\n",
    "\n",
    "df_TopFeatures=pd.DataFrame()\n",
    "\n",
    "TopFeatures=['reco_MX_mgg','Diphoton_pt_mgg','LeadPhoton_pt_mgg','ditau_pt','Diphoton_dPhi','dilep_leadpho_mass','lead_lepton_pt','MET_pt','ditau_dR','SubleadPhoton_pt_mgg','Diphoton_lead_lepton_deta','ditau_met_dPhi','ditau_deta','Diphoton_sublead_lepton_deta','Diphoton_ditau_deta','ditau_mass','weight_central','Classification']\n",
    "#TopFeatures=['reco_MX_mgg','Diphoton_pt_mgg','LeadPhoton_pt_mgg','ditau_pt','Diphoton_dPhi','dilep_leadpho_mass','lead_lepton_pt','MET_pt','ditau_dR','SubleadPhoton_pt_mgg','weight_central','Classification']\n",
    "\n",
    "\n",
    "for feature in TopFeatures:\n",
    "    df_TopFeatures[feature]=FullSignalBackground[feature]\n",
    "    \n",
    "#for columns in MinusNineBinning:\n",
    " #   if columns in df_TopFeatures.columns:\n",
    "  #      df_TopFeatures[columns] = df_TopFeatures[columns].mask(df_TopFeatures[columns] < -8, 0)\n",
    "   \n",
    "for columns in df_TopFeatures.columns:\n",
    "    if columns in MinusNineBinning:\n",
    "        print(columns)\n",
    "        df_TopFeatures = df_TopFeatures.loc[(df_TopFeatures[columns] > -8)]\n",
    "#        signal_subset = signal_subset.loc[(signal_subset['ditau_pt'] >= 0)]\n"
   ]
  },
  {
   "cell_type": "code",
   "execution_count": 54,
   "id": "3e8b8fdc",
   "metadata": {},
   "outputs": [
    {
     "data": {
      "text/html": [
       "<div>\n",
       "<style scoped>\n",
       "    .dataframe tbody tr th:only-of-type {\n",
       "        vertical-align: middle;\n",
       "    }\n",
       "\n",
       "    .dataframe tbody tr th {\n",
       "        vertical-align: top;\n",
       "    }\n",
       "\n",
       "    .dataframe thead th {\n",
       "        text-align: right;\n",
       "    }\n",
       "</style>\n",
       "<table border=\"1\" class=\"dataframe\">\n",
       "  <thead>\n",
       "    <tr style=\"text-align: right;\">\n",
       "      <th></th>\n",
       "      <th>reco_MX_mgg</th>\n",
       "      <th>Diphoton_pt_mgg</th>\n",
       "      <th>LeadPhoton_pt_mgg</th>\n",
       "      <th>ditau_pt</th>\n",
       "      <th>Diphoton_dPhi</th>\n",
       "      <th>dilep_leadpho_mass</th>\n",
       "      <th>lead_lepton_pt</th>\n",
       "      <th>MET_pt</th>\n",
       "      <th>ditau_dR</th>\n",
       "      <th>SubleadPhoton_pt_mgg</th>\n",
       "      <th>Diphoton_lead_lepton_deta</th>\n",
       "      <th>ditau_met_dPhi</th>\n",
       "      <th>ditau_deta</th>\n",
       "      <th>Diphoton_sublead_lepton_deta</th>\n",
       "      <th>Diphoton_ditau_deta</th>\n",
       "      <th>ditau_mass</th>\n",
       "      <th>weight_central</th>\n",
       "      <th>Classification</th>\n",
       "    </tr>\n",
       "  </thead>\n",
       "  <tbody>\n",
       "    <tr>\n",
       "      <th>1314751</th>\n",
       "      <td>1.724472</td>\n",
       "      <td>0.551937</td>\n",
       "      <td>0.521988</td>\n",
       "      <td>70.565506</td>\n",
       "      <td>1.805603</td>\n",
       "      <td>172.635971</td>\n",
       "      <td>50.522717</td>\n",
       "      <td>27.473833</td>\n",
       "      <td>1.971192</td>\n",
       "      <td>0.338033</td>\n",
       "      <td>-0.823359</td>\n",
       "      <td>1.579931</td>\n",
       "      <td>0.031067</td>\n",
       "      <td>-0.792292</td>\n",
       "      <td>-0.759005</td>\n",
       "      <td>94.308601</td>\n",
       "      <td>0.000302</td>\n",
       "      <td>1.0</td>\n",
       "    </tr>\n",
       "    <tr>\n",
       "      <th>1314753</th>\n",
       "      <td>1.854888</td>\n",
       "      <td>0.840922</td>\n",
       "      <td>0.551521</td>\n",
       "      <td>26.514931</td>\n",
       "      <td>-1.324463</td>\n",
       "      <td>91.822800</td>\n",
       "      <td>36.084164</td>\n",
       "      <td>71.722595</td>\n",
       "      <td>3.267236</td>\n",
       "      <td>0.514404</td>\n",
       "      <td>-0.104924</td>\n",
       "      <td>0.153474</td>\n",
       "      <td>-1.053726</td>\n",
       "      <td>-1.158650</td>\n",
       "      <td>-1.986899</td>\n",
       "      <td>110.728401</td>\n",
       "      <td>0.000364</td>\n",
       "      <td>1.0</td>\n",
       "    </tr>\n",
       "    <tr>\n",
       "      <th>1314754</th>\n",
       "      <td>1.965210</td>\n",
       "      <td>1.087142</td>\n",
       "      <td>0.671400</td>\n",
       "      <td>15.814786</td>\n",
       "      <td>1.139099</td>\n",
       "      <td>155.468185</td>\n",
       "      <td>48.846729</td>\n",
       "      <td>15.152800</td>\n",
       "      <td>3.105144</td>\n",
       "      <td>0.619086</td>\n",
       "      <td>0.006167</td>\n",
       "      <td>-1.302164</td>\n",
       "      <td>0.920532</td>\n",
       "      <td>0.926699</td>\n",
       "      <td>2.518824</td>\n",
       "      <td>139.282089</td>\n",
       "      <td>0.000329</td>\n",
       "      <td>1.0</td>\n",
       "    </tr>\n",
       "    <tr>\n",
       "      <th>1314756</th>\n",
       "      <td>2.015380</td>\n",
       "      <td>0.731508</td>\n",
       "      <td>0.893332</td>\n",
       "      <td>103.449036</td>\n",
       "      <td>2.262922</td>\n",
       "      <td>148.650681</td>\n",
       "      <td>33.852161</td>\n",
       "      <td>81.881859</td>\n",
       "      <td>2.439430</td>\n",
       "      <td>0.320946</td>\n",
       "      <td>-0.122603</td>\n",
       "      <td>-0.247738</td>\n",
       "      <td>-1.096924</td>\n",
       "      <td>-1.219527</td>\n",
       "      <td>-0.169432</td>\n",
       "      <td>96.281258</td>\n",
       "      <td>0.000334</td>\n",
       "      <td>1.0</td>\n",
       "    </tr>\n",
       "    <tr>\n",
       "      <th>1314757</th>\n",
       "      <td>1.770245</td>\n",
       "      <td>0.101058</td>\n",
       "      <td>0.552153</td>\n",
       "      <td>111.229942</td>\n",
       "      <td>3.104248</td>\n",
       "      <td>154.065140</td>\n",
       "      <td>62.064354</td>\n",
       "      <td>59.940231</td>\n",
       "      <td>2.153277</td>\n",
       "      <td>0.452835</td>\n",
       "      <td>-2.922050</td>\n",
       "      <td>-0.046344</td>\n",
       "      <td>-0.931458</td>\n",
       "      <td>-3.853508</td>\n",
       "      <td>-2.922484</td>\n",
       "      <td>116.100319</td>\n",
       "      <td>0.000300</td>\n",
       "      <td>1.0</td>\n",
       "    </tr>\n",
       "    <tr>\n",
       "      <th>...</th>\n",
       "      <td>...</td>\n",
       "      <td>...</td>\n",
       "      <td>...</td>\n",
       "      <td>...</td>\n",
       "      <td>...</td>\n",
       "      <td>...</td>\n",
       "      <td>...</td>\n",
       "      <td>...</td>\n",
       "      <td>...</td>\n",
       "      <td>...</td>\n",
       "      <td>...</td>\n",
       "      <td>...</td>\n",
       "      <td>...</td>\n",
       "      <td>...</td>\n",
       "      <td>...</td>\n",
       "      <td>...</td>\n",
       "      <td>...</td>\n",
       "      <td>...</td>\n",
       "    </tr>\n",
       "    <tr>\n",
       "      <th>391609</th>\n",
       "      <td>1.437515</td>\n",
       "      <td>0.449918</td>\n",
       "      <td>0.466802</td>\n",
       "      <td>65.936485</td>\n",
       "      <td>1.915650</td>\n",
       "      <td>95.951546</td>\n",
       "      <td>25.578125</td>\n",
       "      <td>45.783176</td>\n",
       "      <td>1.982261</td>\n",
       "      <td>0.254887</td>\n",
       "      <td>-0.571847</td>\n",
       "      <td>-0.214203</td>\n",
       "      <td>1.741211</td>\n",
       "      <td>1.169364</td>\n",
       "      <td>-0.361142</td>\n",
       "      <td>73.061668</td>\n",
       "      <td>0.002675</td>\n",
       "      <td>0.0</td>\n",
       "    </tr>\n",
       "    <tr>\n",
       "      <th>391634</th>\n",
       "      <td>1.170662</td>\n",
       "      <td>1.546191</td>\n",
       "      <td>1.416875</td>\n",
       "      <td>50.710842</td>\n",
       "      <td>1.401001</td>\n",
       "      <td>61.147488</td>\n",
       "      <td>25.149065</td>\n",
       "      <td>78.078995</td>\n",
       "      <td>1.055148</td>\n",
       "      <td>0.424275</td>\n",
       "      <td>0.971381</td>\n",
       "      <td>1.955218</td>\n",
       "      <td>-0.917725</td>\n",
       "      <td>0.053656</td>\n",
       "      <td>0.367382</td>\n",
       "      <td>28.362379</td>\n",
       "      <td>0.004409</td>\n",
       "      <td>0.0</td>\n",
       "    </tr>\n",
       "    <tr>\n",
       "      <th>391675</th>\n",
       "      <td>1.238011</td>\n",
       "      <td>0.374783</td>\n",
       "      <td>0.513667</td>\n",
       "      <td>49.091106</td>\n",
       "      <td>-2.327698</td>\n",
       "      <td>199.662491</td>\n",
       "      <td>23.732645</td>\n",
       "      <td>52.639599</td>\n",
       "      <td>1.789111</td>\n",
       "      <td>0.320778</td>\n",
       "      <td>1.191535</td>\n",
       "      <td>-1.881135</td>\n",
       "      <td>1.221741</td>\n",
       "      <td>2.413276</td>\n",
       "      <td>2.097417</td>\n",
       "      <td>53.039040</td>\n",
       "      <td>0.002605</td>\n",
       "      <td>0.0</td>\n",
       "    </tr>\n",
       "    <tr>\n",
       "      <th>391683</th>\n",
       "      <td>1.897455</td>\n",
       "      <td>0.409412</td>\n",
       "      <td>0.539126</td>\n",
       "      <td>35.167339</td>\n",
       "      <td>-2.354980</td>\n",
       "      <td>96.012314</td>\n",
       "      <td>23.066645</td>\n",
       "      <td>12.246641</td>\n",
       "      <td>1.867417</td>\n",
       "      <td>0.528867</td>\n",
       "      <td>1.040870</td>\n",
       "      <td>-0.228944</td>\n",
       "      <td>-0.394287</td>\n",
       "      <td>0.646583</td>\n",
       "      <td>1.284298</td>\n",
       "      <td>36.073116</td>\n",
       "      <td>0.004100</td>\n",
       "      <td>0.0</td>\n",
       "    </tr>\n",
       "    <tr>\n",
       "      <th>391711</th>\n",
       "      <td>5.943443</td>\n",
       "      <td>1.044782</td>\n",
       "      <td>0.683704</td>\n",
       "      <td>204.217972</td>\n",
       "      <td>-1.231934</td>\n",
       "      <td>569.113586</td>\n",
       "      <td>137.000000</td>\n",
       "      <td>17.422464</td>\n",
       "      <td>2.315486</td>\n",
       "      <td>0.594780</td>\n",
       "      <td>2.811932</td>\n",
       "      <td>2.008832</td>\n",
       "      <td>-1.811853</td>\n",
       "      <td>1.000078</td>\n",
       "      <td>2.656379</td>\n",
       "      <td>303.008881</td>\n",
       "      <td>0.002110</td>\n",
       "      <td>0.0</td>\n",
       "    </tr>\n",
       "  </tbody>\n",
       "</table>\n",
       "<p>155606 rows × 18 columns</p>\n",
       "</div>"
      ],
      "text/plain": [
       "         reco_MX_mgg  Diphoton_pt_mgg  LeadPhoton_pt_mgg    ditau_pt  \\\n",
       "1314751     1.724472         0.551937           0.521988   70.565506   \n",
       "1314753     1.854888         0.840922           0.551521   26.514931   \n",
       "1314754     1.965210         1.087142           0.671400   15.814786   \n",
       "1314756     2.015380         0.731508           0.893332  103.449036   \n",
       "1314757     1.770245         0.101058           0.552153  111.229942   \n",
       "...              ...              ...                ...         ...   \n",
       "391609      1.437515         0.449918           0.466802   65.936485   \n",
       "391634      1.170662         1.546191           1.416875   50.710842   \n",
       "391675      1.238011         0.374783           0.513667   49.091106   \n",
       "391683      1.897455         0.409412           0.539126   35.167339   \n",
       "391711      5.943443         1.044782           0.683704  204.217972   \n",
       "\n",
       "         Diphoton_dPhi  dilep_leadpho_mass  lead_lepton_pt     MET_pt  \\\n",
       "1314751       1.805603          172.635971       50.522717  27.473833   \n",
       "1314753      -1.324463           91.822800       36.084164  71.722595   \n",
       "1314754       1.139099          155.468185       48.846729  15.152800   \n",
       "1314756       2.262922          148.650681       33.852161  81.881859   \n",
       "1314757       3.104248          154.065140       62.064354  59.940231   \n",
       "...                ...                 ...             ...        ...   \n",
       "391609        1.915650           95.951546       25.578125  45.783176   \n",
       "391634        1.401001           61.147488       25.149065  78.078995   \n",
       "391675       -2.327698          199.662491       23.732645  52.639599   \n",
       "391683       -2.354980           96.012314       23.066645  12.246641   \n",
       "391711       -1.231934          569.113586      137.000000  17.422464   \n",
       "\n",
       "         ditau_dR  SubleadPhoton_pt_mgg  Diphoton_lead_lepton_deta  \\\n",
       "1314751  1.971192              0.338033                  -0.823359   \n",
       "1314753  3.267236              0.514404                  -0.104924   \n",
       "1314754  3.105144              0.619086                   0.006167   \n",
       "1314756  2.439430              0.320946                  -0.122603   \n",
       "1314757  2.153277              0.452835                  -2.922050   \n",
       "...           ...                   ...                        ...   \n",
       "391609   1.982261              0.254887                  -0.571847   \n",
       "391634   1.055148              0.424275                   0.971381   \n",
       "391675   1.789111              0.320778                   1.191535   \n",
       "391683   1.867417              0.528867                   1.040870   \n",
       "391711   2.315486              0.594780                   2.811932   \n",
       "\n",
       "         ditau_met_dPhi  ditau_deta  Diphoton_sublead_lepton_deta  \\\n",
       "1314751        1.579931    0.031067                     -0.792292   \n",
       "1314753        0.153474   -1.053726                     -1.158650   \n",
       "1314754       -1.302164    0.920532                      0.926699   \n",
       "1314756       -0.247738   -1.096924                     -1.219527   \n",
       "1314757       -0.046344   -0.931458                     -3.853508   \n",
       "...                 ...         ...                           ...   \n",
       "391609        -0.214203    1.741211                      1.169364   \n",
       "391634         1.955218   -0.917725                      0.053656   \n",
       "391675        -1.881135    1.221741                      2.413276   \n",
       "391683        -0.228944   -0.394287                      0.646583   \n",
       "391711         2.008832   -1.811853                      1.000078   \n",
       "\n",
       "         Diphoton_ditau_deta  ditau_mass  weight_central  Classification  \n",
       "1314751            -0.759005   94.308601        0.000302             1.0  \n",
       "1314753            -1.986899  110.728401        0.000364             1.0  \n",
       "1314754             2.518824  139.282089        0.000329             1.0  \n",
       "1314756            -0.169432   96.281258        0.000334             1.0  \n",
       "1314757            -2.922484  116.100319        0.000300             1.0  \n",
       "...                      ...         ...             ...             ...  \n",
       "391609             -0.361142   73.061668        0.002675             0.0  \n",
       "391634              0.367382   28.362379        0.004409             0.0  \n",
       "391675              2.097417   53.039040        0.002605             0.0  \n",
       "391683              1.284298   36.073116        0.004100             0.0  \n",
       "391711              2.656379  303.008881        0.002110             0.0  \n",
       "\n",
       "[155606 rows x 18 columns]"
      ]
     },
     "execution_count": 54,
     "metadata": {},
     "output_type": "execute_result"
    }
   ],
   "source": [
    "df_TopFeatures"
   ]
  },
  {
   "cell_type": "code",
   "execution_count": 55,
   "id": "96acce5a",
   "metadata": {},
   "outputs": [],
   "source": [
    "\n",
    "features = df_TopFeatures.drop(columns=['Classification'])  # Extracting features\n",
    "labels = df_TopFeatures['Classification']  # Extracting labels\n",
    "\n",
    "# Split the data into training and testing sets\n",
    "train_features, test_features, train_labels, test_labels = train_test_split(features, labels, test_size=(1/3), random_state=42)\n",
    "test_weights=pd.DataFrame()\n",
    "train_weights=pd.DataFrame()\n",
    "train_weights['weight_central']=train_features['weight_central']\n",
    "test_weights['weight_central']=test_features['weight_central']\n",
    "\n",
    "train_features=train_features.drop(columns=['weight_central'])\n",
    "test_features=test_features.drop(columns=['weight_central'])\n",
    "\n",
    "train_features_tensor = torch.tensor(train_features.values, dtype=torch.float32)\n",
    "train_weights_tensor = torch.tensor(train_weights.values,dtype=torch.float32)\n",
    "train_labels_tensor = torch.tensor(train_labels.values,dtype=torch.float32)\n"
   ]
  },
  {
   "cell_type": "code",
   "execution_count": 58,
   "id": "775b9725",
   "metadata": {},
   "outputs": [
    {
     "data": {
      "text/plain": [
       "1314980     True\n",
       "161542     False\n",
       "105289     False\n",
       "99068      False\n",
       "59721      False\n",
       "           ...  \n",
       "104236     False\n",
       "69218      False\n",
       "129991     False\n",
       "161923     False\n",
       "108597     False\n",
       "Name: Classification, Length: 103737, dtype: bool"
      ]
     },
     "execution_count": 58,
     "metadata": {},
     "output_type": "execute_result"
    }
   ],
   "source": [
    "train_labels==1"
   ]
  },
  {
   "cell_type": "code",
   "execution_count": 59,
   "id": "ced8674f",
   "metadata": {},
   "outputs": [],
   "source": [
    "class SimpleNN(nn.Module):\n",
    "#     def __init__(self,input,hidden,output):\n",
    "#         super(SimpleNN, self).__init__()\n",
    "#         self.fc1 = nn.Linear(input,hidden)  # Input layer to hidden layer\n",
    "#         self.relu1 = nn.ReLU()  # Activation function\n",
    "#         self.fc2 = nn.Linear(hidden, output)  # Hidden layer to output layer\n",
    "        \n",
    "#     def forward(self, x):\n",
    "#         x = self.fc1(x)\n",
    "#         x = self.relu1(x)\n",
    "#         x = self.fc2(x)\n",
    "#         x = torch.sigmoid(x)\n",
    "#         return x\n",
    "    \n",
    "    \n",
    "    def __init__(self):\n",
    "        super(SimpleNN,self).__init__()\n",
    "        self.hidden1 = nn.Linear(16, 20)\n",
    "        self.act1 = nn.ReLU()\n",
    "        self.hidden2 = nn.Linear(20, 8)\n",
    "        self.act2 = nn.ReLU()\n",
    "        self.output = nn.Linear(8, 1)\n",
    "        self.act_output = nn.Sigmoid()\n",
    "\n",
    "    def forward(self, x):\n",
    "        x = self.hidden1(x)\n",
    "        x = self.act1(x)\n",
    "        x = self.hidden2(x)\n",
    "        x = self.act2(x)\n",
    "        x = self.output(x)\n",
    "        x = self.act_output(x)\n",
    "\n",
    "        return x\n",
    "\n",
    "\n",
    "    def weightedBCELoss(self, input, target, weight):\n",
    "      x, y, w = input, target, weight\n",
    "      log = lambda x: torch.log(x*(1-1e-8) + 1e-8)\n",
    "      #return torch.mean(-w * (y*log(x) + (1-y)*log(1-x)))\n",
    "      return -w * (y*log(x) + (1-y)*log(1-x))\n",
    "    \n",
    "    def batch_weightedBCELoss(self, input, target, weight, batch_size):\n",
    "#batch_weightedBCELoss(self, train, train_labels_tensor, train_weights_tensor, batch_size)\n",
    "        self.batch_size=batch_size\n",
    "\n",
    "        target=target.unsqueeze(1)\n",
    "        \n",
    "        \n",
    "       # train=model.forward(input)\n",
    "\n",
    "        total_batch_err=torch.empty(0,1)\n",
    "        output_length=input.shape[0]\n",
    "        batch_remainder=output_length%batch_size\n",
    "\n",
    "        for i in range(0, output_length//batch_size):\n",
    "            weights = weight[i*(batch_size):(i+1)*(batch_size), :]\n",
    "            labels = target[i*(batch_size):(i+1)*(batch_size), :]\n",
    "            inputs = input[i*(batch_size):(i+1)*(batch_size), :]\n",
    "\n",
    "            loss=self.weightedBCELoss(inputs, labels, weights)\n",
    "\n",
    "            total_batch_err=torch.cat((total_batch_err,loss)) \n",
    "        #    print(total_batch_err.shape[0])\n",
    "\n",
    "        if batch_remainder > 0:\n",
    "            weights = weight[(output_length//batch_size)*batch_size:, :]\n",
    "            labels = target[(output_length//batch_size)*batch_size:, :]\n",
    "            inputs = input[(output_length//batch_size)*batch_size:, :]\n",
    "\n",
    "            loss=self.weightedBCELoss(inputs, labels, weights)\n",
    "\n",
    "            #weights = train_weights_tensor[(train_weights_tensor.shape[0]//batch_size)*batch_size:, :]\n",
    "            total_batch_err=torch.cat((total_batch_err,loss))\n",
    "        #    print(total_batch_err.shape[0])\n",
    "            \n",
    "        return torch.mean(total_batch_err)\n"
   ]
  },
  {
   "cell_type": "code",
   "execution_count": 60,
   "id": "d690b327",
   "metadata": {},
   "outputs": [],
   "source": [
    "model = SimpleNN()"
   ]
  },
  {
   "cell_type": "code",
   "execution_count": null,
   "id": "ad7478cf",
   "metadata": {
    "scrolled": true
   },
   "outputs": [],
   "source": [
    "#trained=model.forward(train_features_tensor)"
   ]
  },
  {
   "cell_type": "code",
   "execution_count": null,
   "id": "cf58373c",
   "metadata": {},
   "outputs": [],
   "source": [
    "#model.batch_weightedBCELoss(trained,train_labels_tensor,train_weights_tensor,1024)"
   ]
  },
  {
   "cell_type": "code",
   "execution_count": 61,
   "id": "28b89dfb",
   "metadata": {},
   "outputs": [
    {
     "name": "stdout",
     "output_type": "stream",
     "text": [
      "For Epoch 1: Loss = 0.10599588602781296\n",
      "For Epoch 2: Loss = 0.09742069989442825\n",
      "For Epoch 3: Loss = 0.08931111544370651\n",
      "For Epoch 4: Loss = 0.08161082863807678\n",
      "For Epoch 5: Loss = 0.07417886704206467\n",
      "For Epoch 6: Loss = 0.0672256126999855\n",
      "For Epoch 7: Loss = 0.06052270159125328\n",
      "For Epoch 8: Loss = 0.05414891615509987\n",
      "For Epoch 9: Loss = 0.048383310437202454\n",
      "For Epoch 10: Loss = 0.043064095079898834\n",
      "For Epoch 11: Loss = 0.03812972456216812\n",
      "For Epoch 12: Loss = 0.033371977508068085\n",
      "For Epoch 13: Loss = 0.02896365337073803\n",
      "For Epoch 14: Loss = 0.025167984887957573\n",
      "For Epoch 15: Loss = 0.021746888756752014\n",
      "For Epoch 16: Loss = 0.01869504339993\n",
      "For Epoch 17: Loss = 0.015958750620484352\n",
      "For Epoch 18: Loss = 0.01358222495764494\n",
      "For Epoch 19: Loss = 0.011542520485818386\n",
      "For Epoch 20: Loss = 0.009811664931476116\n",
      "For Epoch 21: Loss = 0.008353576064109802\n",
      "For Epoch 22: Loss = 0.007138860411942005\n",
      "For Epoch 23: Loss = 0.006140085402876139\n",
      "For Epoch 24: Loss = 0.0053219664841890335\n",
      "For Epoch 25: Loss = 0.004651209805160761\n",
      "For Epoch 26: Loss = 0.00410024169832468\n",
      "For Epoch 27: Loss = 0.003647132543846965\n",
      "For Epoch 28: Loss = 0.0032734116539359093\n",
      "For Epoch 29: Loss = 0.002964055398479104\n",
      "For Epoch 30: Loss = 0.00270497496239841\n",
      "For Epoch 31: Loss = 0.0024865297600626945\n",
      "For Epoch 32: Loss = 0.002301241038367152\n",
      "For Epoch 33: Loss = 0.00214301492087543\n",
      "For Epoch 34: Loss = 0.00200720620341599\n",
      "For Epoch 35: Loss = 0.0018902377923950553\n",
      "For Epoch 36: Loss = 0.0017888498259708285\n",
      "For Epoch 37: Loss = 0.0017004396067932248\n",
      "For Epoch 38: Loss = 0.0016231773188337684\n",
      "For Epoch 39: Loss = 0.0015552728436887264\n",
      "For Epoch 40: Loss = 0.001495388220064342\n",
      "For Epoch 41: Loss = 0.0014423253014683723\n",
      "For Epoch 42: Loss = 0.0013950965367257595\n",
      "For Epoch 43: Loss = 0.0013529357966035604\n",
      "For Epoch 44: Loss = 0.001315173227339983\n",
      "For Epoch 45: Loss = 0.0012812416534870863\n",
      "For Epoch 46: Loss = 0.0012506390921771526\n",
      "For Epoch 47: Loss = 0.0012229481944814324\n",
      "For Epoch 48: Loss = 0.0011978442780673504\n",
      "For Epoch 49: Loss = 0.0011750176781788468\n",
      "For Epoch 50: Loss = 0.0011542029678821564\n",
      "For Epoch 51: Loss = 0.001135164638981223\n",
      "For Epoch 52: Loss = 0.0011176998959854245\n",
      "For Epoch 53: Loss = 0.0011016292264685035\n",
      "For Epoch 54: Loss = 0.0010868158424273133\n",
      "For Epoch 55: Loss = 0.001073143444955349\n",
      "For Epoch 56: Loss = 0.0010604581329971552\n",
      "For Epoch 57: Loss = 0.0010486789979040623\n",
      "For Epoch 58: Loss = 0.0010377272265031934\n",
      "For Epoch 59: Loss = 0.0010275158565491438\n",
      "For Epoch 60: Loss = 0.0010179775999858975\n",
      "For Epoch 61: Loss = 0.001009052386507392\n",
      "For Epoch 62: Loss = 0.0010006817756220698\n",
      "For Epoch 63: Loss = 0.000992814777418971\n",
      "For Epoch 64: Loss = 0.0009854075033217669\n",
      "For Epoch 65: Loss = 0.0009784218855202198\n",
      "For Epoch 66: Loss = 0.0009718242799863219\n",
      "For Epoch 67: Loss = 0.0009655763278715312\n",
      "For Epoch 68: Loss = 0.0009596514864824712\n",
      "For Epoch 69: Loss = 0.0009540253668092191\n",
      "For Epoch 70: Loss = 0.0009486763156019151\n",
      "For Epoch 71: Loss = 0.0009435823303647339\n",
      "For Epoch 72: Loss = 0.0009387263562530279\n",
      "For Epoch 73: Loss = 0.0009340856922790408\n",
      "For Epoch 74: Loss = 0.0009296479402109981\n",
      "For Epoch 75: Loss = 0.0009253988973796368\n",
      "For Epoch 76: Loss = 0.0009213258163072169\n",
      "For Epoch 77: Loss = 0.0009174188016913831\n",
      "For Epoch 78: Loss = 0.0009136662702076137\n",
      "For Epoch 79: Loss = 0.0009100576862692833\n",
      "For Epoch 80: Loss = 0.0009065845515578985\n",
      "For Epoch 81: Loss = 0.0009032387752085924\n",
      "For Epoch 82: Loss = 0.0009000140125863254\n",
      "For Epoch 83: Loss = 0.0008969033951871097\n",
      "For Epoch 84: Loss = 0.0008939002291299403\n",
      "For Epoch 85: Loss = 0.000890999217517674\n",
      "For Epoch 86: Loss = 0.000888194830622524\n",
      "For Epoch 87: Loss = 0.0008854813640937209\n",
      "For Epoch 88: Loss = 0.000882853171788156\n",
      "For Epoch 89: Loss = 0.0008803068194538355\n",
      "For Epoch 90: Loss = 0.0008778381743468344\n",
      "For Epoch 91: Loss = 0.0008754443842917681\n",
      "For Epoch 92: Loss = 0.0008731226553209126\n",
      "For Epoch 93: Loss = 0.0008708679233677685\n",
      "For Epoch 94: Loss = 0.0008686763467267156\n",
      "For Epoch 95: Loss = 0.0008665465284138918\n",
      "For Epoch 96: Loss = 0.0008644760237075388\n",
      "For Epoch 97: Loss = 0.0008624598267488182\n",
      "For Epoch 98: Loss = 0.0008604940376244485\n",
      "For Epoch 99: Loss = 0.0008585780742578208\n",
      "For Epoch 100: Loss = 0.0008567124023102224\n"
     ]
    },
    {
     "data": {
      "image/png": "[encoded data removed]",
      "text/plain": [
       "<Figure size 1000x1000 with 1 Axes>"
      ]
     },
     "metadata": {},
     "output_type": "display_data"
    }
   ],
   "source": [
    "optimizer = optim.Adam(model.parameters(), lr=0.001)\n",
    "lossdata=[]\n",
    "epochs=100\n",
    "epochlist=[]\n",
    "for i in range(0,100):\n",
    "    epochlist.append(i+1)\n",
    "for i in range(0,epochs):\n",
    "    trained=model.forward(train_features_tensor)\n",
    "    loss=model.batch_weightedBCELoss(trained,train_labels_tensor,train_weights_tensor,1024)\n",
    "    lossdata.append(loss.item())\n",
    "    optimizer.zero_grad()\n",
    "    loss.backward()\n",
    "    optimizer.step()\n",
    "    print(f'For Epoch {i+1}: Loss = {loss}')\n",
    "figure=plt.figure()\n",
    "plt.plot(epochlist,lossdata)\n",
    "plt.xlabel('Epoch')\n",
    "plt.ylabel('Loss')\n",
    "plt.show()    "
   ]
  },
  {
   "cell_type": "code",
   "execution_count": null,
   "id": "100afeec",
   "metadata": {},
   "outputs": [],
   "source": [
    "figure=plt.figure()\n",
    "plt.plot(epochlist,lossdata)\n",
    "plt.xlabel('Epoch')\n",
    "plt.ylabel('Loss')\n",
    "plt.show()    "
   ]
  },
  {
   "cell_type": "code",
   "execution_count": null,
   "id": "55caf19e",
   "metadata": {},
   "outputs": [],
   "source": [
    "lossdata=[]\n",
    "for i in range(0,10):\n",
    "    trained=model.forward(train_features_tensor)\n",
    "    loss=model.batch_weightedBCELoss(trained,train_labels_tensor,train_weights_tensor,1024)\n",
    "    lossdata.append(loss.item())\n",
    "    optimizer.zero_grad()\n",
    "    loss.backward()\n",
    "    optimizer.step()\n",
    "    plt.hist(trained.squeeze().tolist(),bins=80,label='predicted',histtype=\"step\")\n",
    "    #plt.hist(train_labels_tensor.tolist(),bins=80,label='output',histtype=\"step\")\n",
    "    plt.show()\n",
    "print(lossdata)"
   ]
  },
  {
   "cell_type": "code",
   "execution_count": null,
   "id": "1d10cbe7",
   "metadata": {},
   "outputs": [],
   "source": [
    "for i in range(0,100):\n",
    "    epochlist.append(i+1)\n",
    "figure=plt.figure()\n",
    "plt.plot(epochlist,lossdata)\n",
    "plt.xlabel('Epoch')\n",
    "plt.ylabel('Loss')\n",
    "plt.show()    "
   ]
  },
  {
   "cell_type": "code",
   "execution_count": 38,
   "id": "2db163a3",
   "metadata": {},
   "outputs": [
    {
     "data": {
      "text/plain": [
       "(array([ 1405.,   282.,   232.,   166.,   156.,   123.,   110.,   144.,\n",
       "          116.,   132.,    98.,   101.,    97.,    95.,    96.,   117.,\n",
       "          115.,    99.,   103.,    90.,    96.,   100.,   109.,   104.,\n",
       "          102.,   102.,   124.,   122.,   121.,   125.,   156.,   157.,\n",
       "          142.,   164.,   178.,   182.,   183.,   209.,   195.,   217.,\n",
       "          228.,   269.,   238.,   261.,   295.,   300.,   381.,   359.,\n",
       "          348.,   389.,   437.,   476.,   496.,   543.,   595.,   660.,\n",
       "          710.,   740.,   889.,   918.,  1065.,  1126.,  1258.,  1365.,\n",
       "         1442.,  1739.,  1937.,  2147.,  2383.,  2812.,  3100.,  3619.,\n",
       "         4118.,  4557.,  5110.,  5598.,  6200.,  7263.,  9353., 21248.]),\n",
       " array([0.    , 0.0125, 0.025 , 0.0375, 0.05  , 0.0625, 0.075 , 0.0875,\n",
       "        0.1   , 0.1125, 0.125 , 0.1375, 0.15  , 0.1625, 0.175 , 0.1875,\n",
       "        0.2   , 0.2125, 0.225 , 0.2375, 0.25  , 0.2625, 0.275 , 0.2875,\n",
       "        0.3   , 0.3125, 0.325 , 0.3375, 0.35  , 0.3625, 0.375 , 0.3875,\n",
       "        0.4   , 0.4125, 0.425 , 0.4375, 0.45  , 0.4625, 0.475 , 0.4875,\n",
       "        0.5   , 0.5125, 0.525 , 0.5375, 0.55  , 0.5625, 0.575 , 0.5875,\n",
       "        0.6   , 0.6125, 0.625 , 0.6375, 0.65  , 0.6625, 0.675 , 0.6875,\n",
       "        0.7   , 0.7125, 0.725 , 0.7375, 0.75  , 0.7625, 0.775 , 0.7875,\n",
       "        0.8   , 0.8125, 0.825 , 0.8375, 0.85  , 0.8625, 0.875 , 0.8875,\n",
       "        0.9   , 0.9125, 0.925 , 0.9375, 0.95  , 0.9625, 0.975 , 0.9875,\n",
       "        1.    ]),\n",
       " [<matplotlib.patches.Polygon at 0x2143c8f02b0>])"
      ]
     },
     "execution_count": 38,
     "metadata": {},
     "output_type": "execute_result"
    },
    {
     "data": {
      "image/png": "[encoded data removed]",
      "text/plain": [
       "<Figure size 1000x1000 with 1 Axes>"
      ]
     },
     "metadata": {},
     "output_type": "display_data"
    }
   ],
   "source": [
    "    plt.hist(trained.squeeze().tolist(),bins=80,label='predicted',histtype=\"step\")\n",
    "plt.show()\n"
   ]
  },
  {
   "cell_type": "code",
   "execution_count": null,
   "id": "28769f89",
   "metadata": {
    "scrolled": false
   },
   "outputs": [],
   "source": [
    "data = trained.squeeze().tolist()  # Replace with your dataset\n",
    "\n",
    "chunk_size = 1000  # Define the chunk size\n",
    "\n",
    "# Process data in chunks\n",
    "for i in range(0, len(data), chunk_size):\n",
    "    chunk = data[i:i+chunk_size]  # Get a chunk of data\n",
    "   # print('Processed Chunk', len(chunk))  # Process the chunk\n",
    "HELPPPPPP\n"
   ]
  },
  {
   "cell_type": "code",
   "execution_count": null,
   "id": "42552802",
   "metadata": {},
   "outputs": [],
   "source": [
    "error = weightedBCELoss(trained, train_labels_tensor, train_weights_tensor)"
   ]
  },
  {
   "cell_type": "code",
   "execution_count": null,
   "id": "380c17d1",
   "metadata": {},
   "outputs": [],
   "source": [
    "for i in range(0,size/batchsize):\n",
    "    weights = train_weights_tensor[:1024, :]\n",
    "    labels = train_labels_tensor.unsqueeze(1)[:1024,:]\n",
    "    training = trained[:1024,:]"
   ]
  },
  {
   "cell_type": "code",
   "execution_count": null,
   "id": "8af41866",
   "metadata": {},
   "outputs": [],
   "source": [
    "error = weightedBCELoss(training, labels, weights)\n",
    "error"
   ]
  },
  {
   "cell_type": "code",
   "execution_count": null,
   "id": "e76d4336",
   "metadata": {},
   "outputs": [],
   "source": [
    "error.shape"
   ]
  },
  {
   "cell_type": "code",
   "execution_count": null,
   "id": "b69477a2",
   "metadata": {},
   "outputs": [],
   "source": [
    "batch_size=1024\n",
    "\n",
    "train=model.forward(train_features_tensor)\n",
    "\n",
    "total_batch_err=torch.empty(0,1)\n",
    "output_length=train_weights_tensor.shape[0]\n",
    "batch_remainder=output_length%batch_size\n",
    "\n",
    "for i in range(0, output_length//batch_size):\n",
    "    weights = train_weights_tensor[i*(batch_size):(i+1)*(batch_size), :]\n",
    "    labels = train_weights_tensor[i*(batch_size):(i+1)*(batch_size), :]\n",
    "    inputs = train[i*(batch_size):(i+1)*(batch_size), :]\n",
    "\n",
    "    loss=weightedBCELoss(inputs, labels, weights)\n",
    "    \n",
    "    total_batch_err=torch.cat((total_batch_err,loss)) \n",
    "    print(total_batch_err.shape[0])\n",
    "    \n",
    "if batch_remainder > 0:\n",
    "    weights = train_weights_tensor[(output_length//batch_size)*batch_size:, :]\n",
    "    labels = train_weights_tensor[(output_length//batch_size)*batch_size:, :]\n",
    "    inputs = train[(output_length//batch_size)*batch_size:, :]\n",
    "\n",
    "    loss=weightedBCELoss(inputs, labels, weights)\n",
    "    \n",
    "    weights = train_weights_tensor[(train_weights_tensor.shape[0]//batch_size)*batch_size:, :]\n",
    "    total_batch_err=torch.cat((total_batch_err,weights))\n",
    "    print(total_batch_err.shape[0])"
   ]
  },
  {
   "cell_type": "code",
   "execution_count": null,
   "id": "f039d21f",
   "metadata": {},
   "outputs": [],
   "source": [
    "i=0\n",
    "weights1 = train_weights_tensor[i*(1024):(i+1)*(1024), :]\n",
    "i=1\n",
    "weights2 = train_weights_tensor[i*(1024):(i+1)*(1024), :]"
   ]
  },
  {
   "cell_type": "code",
   "execution_count": null,
   "id": "f5a55ab4",
   "metadata": {},
   "outputs": [],
   "source": []
  },
  {
   "cell_type": "code",
   "execution_count": null,
   "id": "66f102a4",
   "metadata": {},
   "outputs": [],
   "source": [
    "1195600-1197414\n"
   ]
  },
  {
   "cell_type": "code",
   "execution_count": null,
   "id": "6a4c82d0",
   "metadata": {},
   "outputs": [],
   "source": [
    "623536-623616"
   ]
  },
  {
   "cell_type": "code",
   "execution_count": null,
   "id": "19924cb7",
   "metadata": {},
   "outputs": [],
   "source": [
    "for i in range(0, train_weights_tensor.shape[0]//1024):\n",
    "    print(i)"
   ]
  },
  {
   "cell_type": "code",
   "execution_count": null,
   "id": "401afcc2",
   "metadata": {},
   "outputs": [],
   "source": [
    "607*1024"
   ]
  },
  {
   "cell_type": "code",
   "execution_count": null,
   "id": "441d03cc",
   "metadata": {},
   "outputs": [],
   "source": [
    "train_features_tensor.shape"
   ]
  },
  {
   "cell_type": "code",
   "execution_count": null,
   "id": "b1b68b62",
   "metadata": {},
   "outputs": [],
   "source": [
    "623536-621568"
   ]
  },
  {
   "cell_type": "code",
   "execution_count": null,
   "id": "ae64d491",
   "metadata": {},
   "outputs": [],
   "source": [
    "append=torch.empty(0,1)\n"
   ]
  },
  {
   "cell_type": "code",
   "execution_count": null,
   "id": "1ef66016",
   "metadata": {},
   "outputs": [],
   "source": [
    "append=torch.cat((append,weights1))"
   ]
  },
  {
   "cell_type": "code",
   "execution_count": null,
   "id": "ced299f8",
   "metadata": {},
   "outputs": [],
   "source": [
    "append.shape"
   ]
  },
  {
   "cell_type": "code",
   "execution_count": null,
   "id": "f2729b98",
   "metadata": {},
   "outputs": [],
   "source": [
    "train_features_tensor.shape"
   ]
  },
  {
   "cell_type": "code",
   "execution_count": null,
   "id": "347d7422",
   "metadata": {},
   "outputs": [],
   "source": [
    "623536-622592\n"
   ]
  },
  {
   "cell_type": "code",
   "execution_count": null,
   "id": "25651ec3",
   "metadata": {},
   "outputs": [],
   "source": [
    "623536%1024"
   ]
  },
  {
   "cell_type": "code",
   "execution_count": null,
   "id": "9d077c04",
   "metadata": {},
   "outputs": [],
   "source": [
    "total_batch_err.shape"
   ]
  },
  {
   "cell_type": "code",
   "execution_count": null,
   "id": "6681fbcc",
   "metadata": {},
   "outputs": [],
   "source": [
    "df_TopFeatures.iloc[(df_TopFeatures['reco_MX_mgg']<-9)]"
   ]
  },
  {
   "cell_type": "code",
   "execution_count": null,
   "id": "3b941a6d",
   "metadata": {},
   "outputs": [],
   "source": []
  },
  {
   "cell_type": "code",
   "execution_count": null,
   "id": "cc6e1703",
   "metadata": {},
   "outputs": [],
   "source": []
  },
  {
   "cell_type": "code",
   "execution_count": null,
   "id": "ff99e913",
   "metadata": {},
   "outputs": [],
   "source": [
    "df_TopFeatures"
   ]
  },
  {
   "cell_type": "code",
   "execution_count": null,
   "id": "ca2b2b17",
   "metadata": {},
   "outputs": [],
   "source": [
    "import matplotlib.pyplot as plt\n",
    "from matplotlib.animation import FuncAnimation\n",
    "import numpy as np\n",
    "\n",
    "# Create a figure and axis\n",
    "fig, ax = plt.subplots()\n",
    "x_data = np.linspace(0, 2*np.pi, 100)\n",
    "line, = ax.plot([], [], lw=2)\n",
    "\n",
    "# Initialization function: plot the background of each frame\n",
    "def init():\n",
    "    line.set_data([], [])\n",
    "    return line,\n",
    "\n",
    "# Animation function: this is called sequentially\n",
    "def animate(i):\n",
    "    y_data = np.sin(x_data + 0.1 * i)\n",
    "    line.set_data(x_data, y_data)\n",
    "    return line,\n",
    "\n",
    "# Create animation\n",
    "anim = FuncAnimation(fig, animate, init_func=init, frames=100, interval=50, blit=True)\n",
    "\n",
    "# Display the animation\n",
    "plt.show()"
   ]
  },
  {
   "cell_type": "code",
   "execution_count": null,
   "id": "730591d3",
   "metadata": {},
   "outputs": [],
   "source": [
    "train_features"
   ]
  },
  {
   "cell_type": "code",
   "execution_count": null,
   "id": "5a754577",
   "metadata": {},
   "outputs": [],
   "source": [
    "df_TopFeatures['reco_MX_mgg']=df_TopFeatures['reco_MX_mgg'] < -8    "
   ]
  },
  {
   "cell_type": "code",
   "execution_count": 46,
   "id": "9922624d",
   "metadata": {},
   "outputs": [
    {
     "data": {
      "text/plain": [
       "1314980    1.0\n",
       "161542     0.0\n",
       "105289     0.0\n",
       "99068      0.0\n",
       "59721      0.0\n",
       "          ... \n",
       "104236     0.0\n",
       "69218      0.0\n",
       "129991     0.0\n",
       "161923     0.0\n",
       "108597     0.0\n",
       "Name: Classification, Length: 103737, dtype: float64"
      ]
     },
     "execution_count": 46,
     "metadata": {},
     "output_type": "execute_result"
    }
   ],
   "source": [
    "train_labels[train_labels==0].sum()\n",
    "\n",
    "train_labels"
   ]
  },
  {
   "cell_type": "code",
   "execution_count": 48,
   "id": "3ef82f42",
   "metadata": {},
   "outputs": [
    {
     "data": {
      "text/plain": [
       "21967.0"
      ]
     },
     "execution_count": 48,
     "metadata": {},
     "output_type": "execute_result"
    }
   ],
   "source": [
    "train_labels[train_labels==1].sum()\n"
   ]
  },
  {
   "cell_type": "code",
   "execution_count": null,
   "id": "8955dc6f",
   "metadata": {},
   "outputs": [],
   "source": []
  }
 ],
 "metadata": {
  "kernelspec": {
   "display_name": "Python 3 (ipykernel)",
   "language": "python",
   "name": "python3"
  },
  "language_info": {
   "codemirror_mode": {
    "name": "ipython",
    "version": 3
   },
   "file_extension": ".py",
   "mimetype": "text/x-python",
   "name": "python",
   "nbconvert_exporter": "python",
   "pygments_lexer": "ipython3",
   "version": "3.9.7"
  }
 },
 "nbformat": 4,
 "nbformat_minor": 5
}
