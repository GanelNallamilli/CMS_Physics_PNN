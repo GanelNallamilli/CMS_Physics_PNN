{
 "cells": [
  {
   "cell_type": "code",
   "execution_count": 133,
   "id": "061baec0",
   "metadata": {},
   "outputs": [
    {
     "name": "stderr",
     "output_type": "stream",
     "text": [
      "C:\\Users\\drpla\\AppData\\Local\\Temp\\ipykernel_32228\\2174124729.py:17: SettingWithCopyWarning: \n",
      "A value is trying to be set on a copy of a slice from a DataFrame.\n",
      "Try using .loc[row_indexer,col_indexer] = value instead\n",
      "\n",
      "See the caveats in the documentation: https://pandas.pydata.org/pandas-docs/stable/user_guide/indexing.html#returning-a-view-versus-a-copy\n",
      "  sig['Classification']=np.ones(sig['Diphoton_mass'].size)\n"
     ]
    }
   ],
   "source": [
    "import torch\n",
    "import torch.nn as nn\n",
    "import torch.optim as optim\n",
    "import json\n",
    "import matplotlib.pyplot as plt\n",
    "import pandas as pd\n",
    "from sklearn.model_selection import train_test_split\n",
    "import numpy as np\n",
    "\n",
    "df = pd.read_parquet(r'C:\\Users\\drpla\\Desktop\\ICL-PHYSICS-YEAR-4\\Masters Project\\Data\\New folder\\merged_nominal.parquet')\n",
    "\n",
    "with open(r'C:\\Users\\drpla\\Desktop\\ICL-PHYSICS-YEAR-4\\Masters Project\\Data\\New folder\\summary.json', \"r\") as f:\n",
    "  proc_dict = json.load(f)[\"sample_id_map\"]\n",
    "  \n",
    "  \n",
    "sig = df[df.process_id == proc_dict[\"GluGluToRadionToHHTo2G2Tau_M-300\"]] # just one signal process, mass of X is 1000 GeV\n",
    "sig['Classification']=np.ones(sig['Diphoton_mass'].size)\n",
    "#bkg = df[df.process_id == proc_dict[\"DiPhoton\"]] # just one of the background processes"
   ]
  },
  {
   "cell_type": "code",
   "execution_count": 134,
   "id": "33ce8fd1",
   "metadata": {},
   "outputs": [],
   "source": [
    "\"\"\"Concatenating the background data\"\"\"\n",
    "background_list=['Data','DiPhoton', 'TTGG', 'TTGamma',#list of each bkgs for concatenation\n",
    " 'TTJets',\n",
    " 'VBFH_M125',\n",
    " 'VH_M125',\n",
    " 'WGamma',\n",
    " 'ZGamma',\n",
    " 'ggH_M125', \n",
    " 'ttH_M125',\n",
    " 'GJets']\n",
    "\n",
    "listforconc=[]\n",
    "for i in background_list:                               #creating a concatenated list of bkg\n",
    "    bkgg = df[df.process_id == proc_dict[i]]\n",
    "    listforconc.append(bkgg)\n",
    "    \n",
    "background = pd.concat(listforconc)\n",
    "background['Classification']=np.zeros(background['Diphoton_mass'].size)"
   ]
  },
  {
   "cell_type": "code",
   "execution_count": 135,
   "id": "520eba67",
   "metadata": {},
   "outputs": [],
   "source": [
    "\"\"\"Concatenating Signal and Background\"\"\"\n",
    "\"\"\"Choosing Best Features given the M=1000 AUC scores\"\"\"\n",
    "FullSignalBackground=pd.concat([sig,background])\n",
    "\n",
    "df_TopFeatures=pd.DataFrame()\n",
    "TopFeatures=['reco_MX_mgg','Diphoton_pt_mgg','LeadPhoton_pt_mgg','ditau_pt','Diphoton_dPhi','dilep_leadpho_mass','lead_lepton_pt','MET_pt','ditau_dR','SubleadPhoton_pt_mgg','weight_central','Classification']\n",
    "for feature in TopFeatures:\n",
    "    df_TopFeatures[feature]=FullSignalBackground[feature]\n",
    "    \n",
    "    \n",
    "features = df_TopFeatures.drop(columns=['Classification'])  # Extracting features\n",
    "labels = df_TopFeatures['Classification']  # Extracting labels\n",
    "\n",
    "# Split the data into training and testing sets\n",
    "train_features, test_features, train_labels, test_labels = train_test_split(features, labels, test_size=(1/3), random_state=42)\n",
    "test_weights=pd.DataFrame()\n",
    "train_weights=pd.DataFrame()\n",
    "train_weights['weight_central']=train_features['weight_central']\n",
    "test_weights['weight_central']=test_features['weight_central']\n",
    "\n",
    "train_features=train_features.drop(columns=['weight_central'])\n",
    "test_features=test_features.drop(columns=['weight_central'])\n",
    "\n",
    "train_features_tensor = torch.tensor(train_features.values, dtype=torch.float32)\n",
    "train_weights_tensor = torch.tensor(train_weights.values,dtype=torch.float32)\n",
    "train_labels_tensor = torch.tensor(train_labels.values,dtype=torch.float32)\n"
   ]
  },
  {
   "cell_type": "code",
   "execution_count": null,
   "id": "d27810ed",
   "metadata": {},
   "outputs": [],
   "source": []
  },
  {
   "cell_type": "code",
   "execution_count": null,
   "id": "08dedafc",
   "metadata": {},
   "outputs": [],
   "source": []
  },
  {
   "cell_type": "code",
   "execution_count": 136,
   "id": "ced8674f",
   "metadata": {},
   "outputs": [],
   "source": [
    "class SimpleNN(nn.Module):\n",
    "    def __init__(self, input_size, hidden_size, output_size):\n",
    "        super(SimpleNN, self).__init__()\n",
    "        self.fc1 = nn.Linear(input_size, hidden_size)  # Input layer to hidden layer\n",
    "        self.relu1 = nn.ReLU()  # Activation function\n",
    "        self.fc2 = nn.Linear(hidden_size, output_size)  # Hidden layer to output layer\n",
    "        \n",
    "    def forward(self, x):\n",
    "        x = self.fc1(x)\n",
    "        x = self.relu1(x)\n",
    "        x = self.fc2(x)\n",
    "        x = torch.sigmoid(x)\n",
    "        return x\n",
    "    \n",
    "\n",
    "\n",
    "def weightedBCELoss(input, target, weight):\n",
    "  x, y, w = input, target, weight\n",
    "  log = lambda x: torch.log(x*(1-1e-8) + 1e-8)\n",
    "  return torch.mean(-w * (y*log(x) + (1-y)*log(1-x)))"
   ]
  },
  {
   "cell_type": "code",
   "execution_count": 137,
   "id": "d690b327",
   "metadata": {},
   "outputs": [],
   "source": [
    "model = SimpleNN(10,20,1)"
   ]
  },
  {
   "cell_type": "code",
   "execution_count": 138,
   "id": "ad7478cf",
   "metadata": {
    "scrolled": true
   },
   "outputs": [],
   "source": [
    "trained=model.forward(train_features_tensor)"
   ]
  },
  {
   "cell_type": "code",
   "execution_count": 145,
   "id": "55caf19e",
   "metadata": {},
   "outputs": [
    {
     "name": "stdout",
     "output_type": "stream",
     "text": [
      "623536 623536\n"
     ]
    },
    {
     "data": {
      "image/png": "[encoded data removed]",
      "text/plain": [
       "<Figure size 640x480 with 1 Axes>"
      ]
     },
     "metadata": {},
     "output_type": "display_data"
    }
   ],
   "source": [
    "plt.hist(trained.squeeze().tolist(),bins=100)\n",
    "plt.hist(train_labels_tensor.squeeze().tolist(),bins=100)\n"
   ]
  },
  {
   "cell_type": "code",
   "execution_count": 152,
   "id": "1d10cbe7",
   "metadata": {},
   "outputs": [],
   "source": [
    "#epoch=5\n",
    "#for i in range(0,epoch):\n",
    " #   trained = model.forward(train_features_tensor)\n"
   ]
  },
  {
   "cell_type": "code",
   "execution_count": 153,
   "id": "2db163a3",
   "metadata": {},
   "outputs": [
    {
     "data": {
      "text/plain": [
       "tensor([[0.8556],\n",
       "        [0.9968],\n",
       "        [0.9979],\n",
       "        ...,\n",
       "        [0.9732],\n",
       "        [0.9383],\n",
       "        [0.9055]], grad_fn=<SigmoidBackward0>)"
      ]
     },
     "execution_count": 153,
     "metadata": {},
     "output_type": "execute_result"
    }
   ],
   "source": [
    "trained\n"
   ]
  },
  {
   "cell_type": "code",
   "execution_count": 154,
   "id": "28769f89",
   "metadata": {
    "scrolled": false
   },
   "outputs": [
    {
     "ename": "NameError",
     "evalue": "name 'HELPPPPPP' is not defined",
     "output_type": "error",
     "traceback": [
      "\u001b[1;31m---------------------------------------------------------------------------\u001b[0m",
      "\u001b[1;31mNameError\u001b[0m                                 Traceback (most recent call last)",
      "Input \u001b[1;32mIn [154]\u001b[0m, in \u001b[0;36m<cell line: 9>\u001b[1;34m()\u001b[0m\n\u001b[0;32m      7\u001b[0m     chunk \u001b[38;5;241m=\u001b[39m data[i:i\u001b[38;5;241m+\u001b[39mchunk_size]  \u001b[38;5;66;03m# Get a chunk of data\u001b[39;00m\n\u001b[0;32m      8\u001b[0m    \u001b[38;5;66;03m# print('Processed Chunk', len(chunk))  # Process the chunk\u001b[39;00m\n\u001b[1;32m----> 9\u001b[0m \u001b[43mHELPPPPPP\u001b[49m\n",
      "\u001b[1;31mNameError\u001b[0m: name 'HELPPPPPP' is not defined"
     ]
    }
   ],
   "source": [
    "data = trained.squeeze().tolist()  # Replace with your dataset\n",
    "\n",
    "chunk_size = 1000  # Define the chunk size\n",
    "\n",
    "# Process data in chunks\n",
    "for i in range(0, len(data), chunk_size):\n",
    "    chunk = data[i:i+chunk_size]  # Get a chunk of data\n",
    "   # print('Processed Chunk', len(chunk))  # Process the chunk\n",
    "HELPPPPPP\n"
   ]
  },
  {
   "cell_type": "code",
   "execution_count": 156,
   "id": "42552802",
   "metadata": {},
   "outputs": [
    {
     "ename": "RuntimeError",
     "evalue": "[enforce fail at alloc_cpu.cpp:80] data. DefaultCPUAllocator: not enough memory: you tried to allocate 1555188573184 bytes.",
     "output_type": "error",
     "traceback": [
      "\u001b[1;31m---------------------------------------------------------------------------\u001b[0m",
      "\u001b[1;31mRuntimeError\u001b[0m                              Traceback (most recent call last)",
      "Input \u001b[1;32mIn [156]\u001b[0m, in \u001b[0;36m<cell line: 1>\u001b[1;34m()\u001b[0m\n\u001b[1;32m----> 1\u001b[0m error \u001b[38;5;241m=\u001b[39m \u001b[43mweightedBCELoss\u001b[49m\u001b[43m(\u001b[49m\u001b[43mtrained\u001b[49m\u001b[43m,\u001b[49m\u001b[43m \u001b[49m\u001b[43mtrain_labels_tensor\u001b[49m\u001b[43m,\u001b[49m\u001b[43m \u001b[49m\u001b[43mtrain_weights_tensor\u001b[49m\u001b[43m)\u001b[49m\n",
      "Input \u001b[1;32mIn [136]\u001b[0m, in \u001b[0;36mweightedBCELoss\u001b[1;34m(input, target, weight)\u001b[0m\n\u001b[0;32m     18\u001b[0m x, y, w \u001b[38;5;241m=\u001b[39m \u001b[38;5;28minput\u001b[39m, target, weight\n\u001b[0;32m     19\u001b[0m log \u001b[38;5;241m=\u001b[39m \u001b[38;5;28;01mlambda\u001b[39;00m x: torch\u001b[38;5;241m.\u001b[39mlog(x\u001b[38;5;241m*\u001b[39m(\u001b[38;5;241m1\u001b[39m\u001b[38;5;241m-\u001b[39m\u001b[38;5;241m1e-8\u001b[39m) \u001b[38;5;241m+\u001b[39m \u001b[38;5;241m1e-8\u001b[39m)\n\u001b[1;32m---> 20\u001b[0m \u001b[38;5;28;01mreturn\u001b[39;00m torch\u001b[38;5;241m.\u001b[39mmean(\u001b[38;5;241m-\u001b[39mw \u001b[38;5;241m*\u001b[39m (\u001b[43my\u001b[49m\u001b[38;5;241;43m*\u001b[39;49m\u001b[43mlog\u001b[49m\u001b[43m(\u001b[49m\u001b[43mx\u001b[49m\u001b[43m)\u001b[49m \u001b[38;5;241m+\u001b[39m (\u001b[38;5;241m1\u001b[39m\u001b[38;5;241m-\u001b[39my)\u001b[38;5;241m*\u001b[39mlog(\u001b[38;5;241m1\u001b[39m\u001b[38;5;241m-\u001b[39mx)))\n",
      "\u001b[1;31mRuntimeError\u001b[0m: [enforce fail at alloc_cpu.cpp:80] data. DefaultCPUAllocator: not enough memory: you tried to allocate 1555188573184 bytes."
     ]
    }
   ],
   "source": [
    "error = weightedBCELoss(trained, train_labels_tensor, train_weights_tensor)"
   ]
  },
  {
   "cell_type": "code",
   "execution_count": null,
   "id": "f6977a6c",
   "metadata": {},
   "outputs": [],
   "source": []
  }
 ],
 "metadata": {
  "kernelspec": {
   "display_name": "Python 3 (ipykernel)",
   "language": "python",
   "name": "python3"
  },
  "language_info": {
   "codemirror_mode": {
    "name": "ipython",
    "version": 3
   },
   "file_extension": ".py",
   "mimetype": "text/x-python",
   "name": "python",
   "nbconvert_exporter": "python",
   "pygments_lexer": "ipython3",
   "version": "3.9.7"
  }
 },
 "nbformat": 4,
 "nbformat_minor": 5
}
