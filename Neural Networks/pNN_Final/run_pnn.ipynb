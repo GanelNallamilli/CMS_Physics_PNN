{
 "cells": [
  {
   "cell_type": "code",
   "execution_count": 6,
   "metadata": {
    "gather": {
     "logged": 1707217380005
    }
   },
   "outputs": [],
   "source": [
    "import torch\n",
    "import torch.nn as nn\n",
    "import torch.optim as optim\n",
    "import json\n",
    "import matplotlib.pyplot as plt\n",
    "import pandas as pd\n",
    "from sklearn.model_selection import train_test_split\n",
    "import numpy as np\n",
    "import mplhep as hep\n",
    "from sklearn.metrics import roc_curve, auc\n",
    "from tqdm.auto import tqdm\n",
    "import copy\n",
    "import train_evaluate_pnn as te\n",
    "import csv \n",
    "import os\n",
    "from sklearn.preprocessing import StandardScaler\n",
    "import joblib\n",
    "hep.style.use(\"CMS\")\n",
    "auclist=[]\n",
    "device = 'cuda' if torch.cuda.is_available() else 'cpu'\n",
    "\n",
    "\n",
    "def separate_output_score(output_score,y):\n",
    "    dict_ = {'pred':output_score.cpu().detach().numpy().flatten(),'true':y}\n",
    "    temp_df = pd.DataFrame(dict_)\n",
    "    signal_output_score = temp_df.loc[temp_df['true'] == 1]['pred']\n",
    "    background_output_score = temp_df.loc[temp_df['true'] == 0]['pred']\n",
    "    return signal_output_score,background_output_score\n",
    "\n"
   ]
  },
  {
   "cell_type": "code",
   "execution_count": 7,
   "metadata": {},
   "outputs": [],
   "source": [
    "\n",
    "'''\n",
    "    Add the add on name in the directory, by default if directory_add_on = '' then the folder in which the pNN and all graphs/data will be \n",
    "    stored in will be: 'models_27_features_[50,50,50]' when using 27 features and nodes [50,50,50].\n",
    "    if directory_add_on = '_high_learning_rate' then the folder will be: 'models_27_features_[50,50,50]_high_learning_rate'\n",
    "    (please always add an '_' then your add-on message\n",
    "'''\n",
    "\n",
    "directory_add_on = '_test'\n",
    "\n",
    "# Update these parameters to your liking.\n",
    "learningrate = 0.0001\n",
    "plot_learning_rate='yes'\n",
    "scheduler_type='Custom'\n",
    "epoch = 999999\n",
    "patience = 100\n",
    "batch_size = 4096\n",
    "model_type ='char'\n",
    "save_models = True\n",
    "scheduler = True\n",
    "dynamic_batch = False\n",
    "num_of_features = 27\n",
    "architectures= [[50,100,100,50]] "
   ]
  },
  {
   "cell_type": "code",
   "execution_count": 8,
   "metadata": {
    "collapsed": false,
    "gather": {
     "logged": 1707219798882
    },
    "jupyter": {
     "outputs_hidden": false,
     "source_hidden": false
    },
    "nteract": {
     "transient": {
      "deleting": false
     }
    }
   },
   "outputs": [
    {
     "name": "stdout",
     "output_type": "stream",
     "text": [
      ">> List of features being used: ['reco_MX_mgg', 'dilep_leadpho_mass', 'ditau_pt', 'Diphoton_dPhi', 'ditau_dphi', 'Diphoton_pt_mgg', 'LeadPhoton_pt_mgg', 'MET_pt', 'LeadPhoton_lead_lepton_dR', 'ditau_dR', 'lead_lepton_pt', 'Diphoton_ditau_deta', 'Diphoton_lead_lepton_dR', 'LeadPhoton_ditau_dR', 'SubleadPhoton_lead_lepton_dR', 'jet_1_pt', 'Diphoton_sublead_lepton_dR', 'Diphoton_ditau_dphi', 'ditau_deta', 'ditau_met_dPhi', 'ditau_mass', 'Diphoton_sublead_lepton_deta', 'SubleadPhoton_pt_mgg', 'Diphoton_mass', 'Diphoton_lead_lepton_deta', 'diphoton_met_dPhi', 'lead_lepton_mass', 'MX']\n"
     ]
    }
   ],
   "source": [
    "'''\n",
    "    Simply run this cell\n",
    "'''\n",
    "feature_list = []\n",
    "sorted_features = {}\n",
    "\n",
    "signal_masses = [\"260\",\"270\",\"280\",\"290\",\"300\",\"320\",\"350\",\"400\",\"450\",\"500\",\"550\",\"600\",\"650\",\"700\",\"750\",\"800\",\"900\"]\n",
    "\n",
    "for signal_mass in signal_masses:\n",
    "    signal = \"GluGluToRadionToHHTo2G2Tau_M-\"+signal_mass\n",
    "    GluGluToRadionToHHTo2G2Tau_AUC_NN = pd.read_csv(f\"Feature_list/{signal}_AUC_NN.csv\", index_col = False, on_bad_lines='skip')\n",
    "    dict_ = {GluGluToRadionToHHTo2G2Tau_AUC_NN.columns[i]:GluGluToRadionToHHTo2G2Tau_AUC_NN[GluGluToRadionToHHTo2G2Tau_AUC_NN.columns[i]][0] for i in range(len(GluGluToRadionToHHTo2G2Tau_AUC_NN.columns))}\n",
    "    dict_ = {k: v for k, v in sorted(dict_.items(), key=lambda item: item[1], reverse=True)}\n",
    "    list_ = list(dict_.keys())\n",
    "    sorted_features[signal_mass] = list_\n",
    "\n",
    "\n",
    "for sig in sorted_features.keys():\n",
    "    for i in range(num_of_features):\n",
    "        if sorted_features[sig][i] not in feature_list:\n",
    "            feature_list.append(sorted_features[sig][i])\n",
    "\n",
    "feature_list = feature_list + ['MX']\n",
    "\n",
    "print(f'>> List of features being used: {feature_list}')"
   ]
  },
  {
   "cell_type": "code",
   "execution_count": 9,
   "metadata": {
    "collapsed": false,
    "gather": {
     "logged": 1707223904894
    },
    "jupyter": {
     "outputs_hidden": false,
     "source_hidden": false
    },
    "nteract": {
     "transient": {
      "deleting": false
     }
    }
   },
   "outputs": [
    {
     "name": "stdout",
     "output_type": "stream",
     "text": [
      ">> Loading data ...\n",
      ">> Splitting train/test data ...\n",
      ">> Directory created successfully ...\n",
      ">> Training...\n"
     ]
    },
    {
     "data": {
      "application/vnd.jupyter.widget-view+json": {
       "model_id": "6f307f5a58fb4412b27830bc095525fe",
       "version_major": 2,
       "version_minor": 0
      },
      "text/plain": [
       "  0%|          | 0/999999 [00:00<?, ?it/s]"
      ]
     },
     "metadata": {},
     "output_type": "display_data"
    },
    {
     "name": "stdout",
     "output_type": "stream",
     "text": [
      "Epoch 0\n"
     ]
    },
    {
     "data": {
      "application/vnd.jupyter.widget-view+json": {
       "model_id": "6068c7235adc4935843f09d5870c3cc1",
       "version_major": 2,
       "version_minor": 0
      },
      "text/plain": [
       "  0%|          | 0/388 [00:00<?, ?it/s]"
      ]
     },
     "metadata": {},
     "output_type": "display_data"
    },
    {
     "name": "stdout",
     "output_type": "stream",
     "text": [
      ">> Getting train/loss for entire pNN ...\n"
     ]
    },
    {
     "data": {
      "application/vnd.jupyter.widget-view+json": {
       "model_id": "cfa6cb30e379467a909c315bec3042f5",
       "version_major": 2,
       "version_minor": 0
      },
      "text/plain": [
       "  0%|          | 0/388 [00:00<?, ?it/s]"
      ]
     },
     "metadata": {},
     "output_type": "display_data"
    },
    {
     "data": {
      "application/vnd.jupyter.widget-view+json": {
       "model_id": "523ef3ae7f8a44d881397b6a05449b27",
       "version_major": 2,
       "version_minor": 0
      },
      "text/plain": [
       "  0%|          | 0/195 [00:00<?, ?it/s]"
      ]
     },
     "metadata": {},
     "output_type": "display_data"
    },
    {
     "name": "stdout",
     "output_type": "stream",
     "text": [
      "Train Epoch Loss: 8.361380605492741e-05\n",
      "Test Epoch Loss: 8.424474799539894e-05\n",
      "Learning rate: 0.0001\n",
      "Epoch 1\n"
     ]
    },
    {
     "data": {
      "application/vnd.jupyter.widget-view+json": {
       "model_id": "63e7adb51b2d43c98cf8abeb38ccb395",
       "version_major": 2,
       "version_minor": 0
      },
      "text/plain": [
       "  0%|          | 0/388 [00:00<?, ?it/s]"
      ]
     },
     "metadata": {},
     "output_type": "display_data"
    },
    {
     "name": "stdout",
     "output_type": "stream",
     "text": [
      ">> Getting train/loss for entire pNN ...\n"
     ]
    },
    {
     "data": {
      "application/vnd.jupyter.widget-view+json": {
       "model_id": "a8eafab23ca444858644fb142e14f45f",
       "version_major": 2,
       "version_minor": 0
      },
      "text/plain": [
       "  0%|          | 0/388 [00:00<?, ?it/s]"
      ]
     },
     "metadata": {},
     "output_type": "display_data"
    },
    {
     "data": {
      "application/vnd.jupyter.widget-view+json": {
       "model_id": "463c94cec06c44c998fb250c5b6247bf",
       "version_major": 2,
       "version_minor": 0
      },
      "text/plain": [
       "  0%|          | 0/195 [00:00<?, ?it/s]"
      ]
     },
     "metadata": {},
     "output_type": "display_data"
    },
    {
     "name": "stdout",
     "output_type": "stream",
     "text": [
      "Train Epoch Loss: 7.430412370013073e-05\n",
      "Test Epoch Loss: 7.486843242077157e-05\n",
      "Learning rate: 0.0001\n",
      "Epoch 2\n"
     ]
    },
    {
     "data": {
      "application/vnd.jupyter.widget-view+json": {
       "model_id": "7e4389cdf4e2458395126421a1653fa7",
       "version_major": 2,
       "version_minor": 0
      },
      "text/plain": [
       "  0%|          | 0/388 [00:00<?, ?it/s]"
      ]
     },
     "metadata": {},
     "output_type": "display_data"
    },
    {
     "name": "stdout",
     "output_type": "stream",
     "text": [
      ">> Getting train/loss for entire pNN ...\n"
     ]
    },
    {
     "data": {
      "application/vnd.jupyter.widget-view+json": {
       "model_id": "22376eb65efa495b90cdf081254bdeb4",
       "version_major": 2,
       "version_minor": 0
      },
      "text/plain": [
       "  0%|          | 0/388 [00:00<?, ?it/s]"
      ]
     },
     "metadata": {},
     "output_type": "display_data"
    },
    {
     "data": {
      "application/vnd.jupyter.widget-view+json": {
       "model_id": "4511a7a383f6421e8a87a83a3ea9a088",
       "version_major": 2,
       "version_minor": 0
      },
      "text/plain": [
       "  0%|          | 0/195 [00:00<?, ?it/s]"
      ]
     },
     "metadata": {},
     "output_type": "display_data"
    },
    {
     "name": "stdout",
     "output_type": "stream",
     "text": [
      "Train Epoch Loss: 6.519590533571318e-05\n",
      "Test Epoch Loss: 6.589547410840169e-05\n",
      "Learning rate: 0.0001\n",
      "Epoch 3\n"
     ]
    },
    {
     "data": {
      "application/vnd.jupyter.widget-view+json": {
       "model_id": "486484d5d7254f4c90f8c774ceba38b2",
       "version_major": 2,
       "version_minor": 0
      },
      "text/plain": [
       "  0%|          | 0/388 [00:00<?, ?it/s]"
      ]
     },
     "metadata": {},
     "output_type": "display_data"
    },
    {
     "name": "stdout",
     "output_type": "stream",
     "text": [
      ">> Getting train/loss for entire pNN ...\n"
     ]
    },
    {
     "data": {
      "application/vnd.jupyter.widget-view+json": {
       "model_id": "28204ff96261413391e1951f6c09a2be",
       "version_major": 2,
       "version_minor": 0
      },
      "text/plain": [
       "  0%|          | 0/388 [00:00<?, ?it/s]"
      ]
     },
     "metadata": {},
     "output_type": "display_data"
    },
    {
     "data": {
      "application/vnd.jupyter.widget-view+json": {
       "model_id": "e0353d441a4f43889ae246ec72645ffa",
       "version_major": 2,
       "version_minor": 0
      },
      "text/plain": [
       "  0%|          | 0/195 [00:00<?, ?it/s]"
      ]
     },
     "metadata": {},
     "output_type": "display_data"
    },
    {
     "name": "stdout",
     "output_type": "stream",
     "text": [
      "Train Epoch Loss: 5.940645860391669e-05\n",
      "Test Epoch Loss: 6.021554145263508e-05\n",
      "Learning rate: 0.0001\n",
      "Epoch 4\n"
     ]
    },
    {
     "data": {
      "application/vnd.jupyter.widget-view+json": {
       "model_id": "f8850c3788534addb88fb291b26934ac",
       "version_major": 2,
       "version_minor": 0
      },
      "text/plain": [
       "  0%|          | 0/388 [00:00<?, ?it/s]"
      ]
     },
     "metadata": {},
     "output_type": "display_data"
    },
    {
     "name": "stdout",
     "output_type": "stream",
     "text": [
      ">> Getting train/loss for entire pNN ...\n"
     ]
    },
    {
     "data": {
      "application/vnd.jupyter.widget-view+json": {
       "model_id": "e2a23a24e7e543859951d54e8cb82a4e",
       "version_major": 2,
       "version_minor": 0
      },
      "text/plain": [
       "  0%|          | 0/388 [00:00<?, ?it/s]"
      ]
     },
     "metadata": {},
     "output_type": "display_data"
    },
    {
     "data": {
      "application/vnd.jupyter.widget-view+json": {
       "model_id": "8bfdd434acd44b178a8cc5f54c9f474b",
       "version_major": 2,
       "version_minor": 0
      },
      "text/plain": [
       "  0%|          | 0/195 [00:00<?, ?it/s]"
      ]
     },
     "metadata": {},
     "output_type": "display_data"
    },
    {
     "name": "stdout",
     "output_type": "stream",
     "text": [
      "Train Epoch Loss: 5.6677163229323924e-05\n",
      "Test Epoch Loss: 5.7262896007159725e-05\n",
      "Learning rate: 0.0001\n",
      "Epoch 5\n"
     ]
    },
    {
     "data": {
      "application/vnd.jupyter.widget-view+json": {
       "model_id": "a172317dae9b4ae58c4f37c0293c4eb0",
       "version_major": 2,
       "version_minor": 0
      },
      "text/plain": [
       "  0%|          | 0/388 [00:00<?, ?it/s]"
      ]
     },
     "metadata": {},
     "output_type": "display_data"
    },
    {
     "name": "stdout",
     "output_type": "stream",
     "text": [
      ">> Getting train/loss for entire pNN ...\n"
     ]
    },
    {
     "data": {
      "application/vnd.jupyter.widget-view+json": {
       "model_id": "987fcfba82bf45d785c56c6c1411c880",
       "version_major": 2,
       "version_minor": 0
      },
      "text/plain": [
       "  0%|          | 0/388 [00:00<?, ?it/s]"
      ]
     },
     "metadata": {},
     "output_type": "display_data"
    },
    {
     "data": {
      "application/vnd.jupyter.widget-view+json": {
       "model_id": "360458adb75f49d99fe1d5da768582ae",
       "version_major": 2,
       "version_minor": 0
      },
      "text/plain": [
       "  0%|          | 0/195 [00:00<?, ?it/s]"
      ]
     },
     "metadata": {},
     "output_type": "display_data"
    },
    {
     "name": "stdout",
     "output_type": "stream",
     "text": [
      "Train Epoch Loss: 5.393407991505228e-05\n",
      "Test Epoch Loss: 5.462321496452205e-05\n",
      "Learning rate: 0.0001\n",
      "Epoch 6\n"
     ]
    },
    {
     "data": {
      "application/vnd.jupyter.widget-view+json": {
       "model_id": "5abf455554e642e2b4c31f08b9520c4b",
       "version_major": 2,
       "version_minor": 0
      },
      "text/plain": [
       "  0%|          | 0/388 [00:00<?, ?it/s]"
      ]
     },
     "metadata": {},
     "output_type": "display_data"
    },
    {
     "name": "stdout",
     "output_type": "stream",
     "text": [
      ">> Getting train/loss for entire pNN ...\n"
     ]
    },
    {
     "data": {
      "application/vnd.jupyter.widget-view+json": {
       "model_id": "837dd8a4a5784bc19ba740aacc20795f",
       "version_major": 2,
       "version_minor": 0
      },
      "text/plain": [
       "  0%|          | 0/388 [00:00<?, ?it/s]"
      ]
     },
     "metadata": {},
     "output_type": "display_data"
    },
    {
     "data": {
      "application/vnd.jupyter.widget-view+json": {
       "model_id": "ae62feb3d0cc4cd48ba35a15c1d915b3",
       "version_major": 2,
       "version_minor": 0
      },
      "text/plain": [
       "  0%|          | 0/195 [00:00<?, ?it/s]"
      ]
     },
     "metadata": {},
     "output_type": "display_data"
    },
    {
     "name": "stdout",
     "output_type": "stream",
     "text": [
      "Train Epoch Loss: 5.188928480492905e-05\n",
      "Test Epoch Loss: 5.225995846558362e-05\n",
      "Learning rate: 0.0001\n",
      "Epoch 7\n"
     ]
    },
    {
     "data": {
      "application/vnd.jupyter.widget-view+json": {
       "model_id": "3ce457dbd7844e338b35f642b53fbcc2",
       "version_major": 2,
       "version_minor": 0
      },
      "text/plain": [
       "  0%|          | 0/388 [00:00<?, ?it/s]"
      ]
     },
     "metadata": {},
     "output_type": "display_data"
    },
    {
     "name": "stdout",
     "output_type": "stream",
     "text": [
      ">> Getting train/loss for entire pNN ...\n"
     ]
    },
    {
     "data": {
      "application/vnd.jupyter.widget-view+json": {
       "model_id": "3e2f0c748142455991bff530101d64dc",
       "version_major": 2,
       "version_minor": 0
      },
      "text/plain": [
       "  0%|          | 0/388 [00:00<?, ?it/s]"
      ]
     },
     "metadata": {},
     "output_type": "display_data"
    },
    {
     "data": {
      "application/vnd.jupyter.widget-view+json": {
       "model_id": "2933ead7ad74440c8df419c666e2fd39",
       "version_major": 2,
       "version_minor": 0
      },
      "text/plain": [
       "  0%|          | 0/195 [00:00<?, ?it/s]"
      ]
     },
     "metadata": {},
     "output_type": "display_data"
    },
    {
     "name": "stdout",
     "output_type": "stream",
     "text": [
      "Train Epoch Loss: 4.996317147742957e-05\n",
      "Test Epoch Loss: 5.0419253966538236e-05\n",
      "Learning rate: 0.0001\n",
      "Epoch 8\n"
     ]
    },
    {
     "data": {
      "application/vnd.jupyter.widget-view+json": {
       "model_id": "eba9f968f9c646f59922366ed93f928e",
       "version_major": 2,
       "version_minor": 0
      },
      "text/plain": [
       "  0%|          | 0/388 [00:00<?, ?it/s]"
      ]
     },
     "metadata": {},
     "output_type": "display_data"
    },
    {
     "name": "stdout",
     "output_type": "stream",
     "text": [
      ">> Getting train/loss for entire pNN ...\n"
     ]
    },
    {
     "data": {
      "application/vnd.jupyter.widget-view+json": {
       "model_id": "4241db2ee3104bd5af7b0b670d2e7a4d",
       "version_major": 2,
       "version_minor": 0
      },
      "text/plain": [
       "  0%|          | 0/388 [00:00<?, ?it/s]"
      ]
     },
     "metadata": {},
     "output_type": "display_data"
    },
    {
     "data": {
      "application/vnd.jupyter.widget-view+json": {
       "model_id": "32144a7e68d8483b9e75a11bf694f748",
       "version_major": 2,
       "version_minor": 0
      },
      "text/plain": [
       "  0%|          | 0/195 [00:00<?, ?it/s]"
      ]
     },
     "metadata": {},
     "output_type": "display_data"
    },
    {
     "name": "stdout",
     "output_type": "stream",
     "text": [
      "Train Epoch Loss: 4.83298790641129e-05\n",
      "Test Epoch Loss: 4.865687878918834e-05\n",
      "Learning rate: 0.0001\n",
      "Epoch 9\n"
     ]
    },
    {
     "data": {
      "application/vnd.jupyter.widget-view+json": {
       "model_id": "e650a9929c46443286360bcc6dabfc8b",
       "version_major": 2,
       "version_minor": 0
      },
      "text/plain": [
       "  0%|          | 0/388 [00:00<?, ?it/s]"
      ]
     },
     "metadata": {},
     "output_type": "display_data"
    },
    {
     "name": "stdout",
     "output_type": "stream",
     "text": [
      ">> Getting train/loss for entire pNN ...\n"
     ]
    },
    {
     "data": {
      "application/vnd.jupyter.widget-view+json": {
       "model_id": "12b3b0b80a34455f83034bf419737ee0",
       "version_major": 2,
       "version_minor": 0
      },
      "text/plain": [
       "  0%|          | 0/388 [00:00<?, ?it/s]"
      ]
     },
     "metadata": {},
     "output_type": "display_data"
    },
    {
     "data": {
      "application/vnd.jupyter.widget-view+json": {
       "model_id": "6a8567fa04334eb88b19a56b4faefcb1",
       "version_major": 2,
       "version_minor": 0
      },
      "text/plain": [
       "  0%|          | 0/195 [00:00<?, ?it/s]"
      ]
     },
     "metadata": {},
     "output_type": "display_data"
    },
    {
     "name": "stdout",
     "output_type": "stream",
     "text": [
      "Train Epoch Loss: 4.712318332167342e-05\n",
      "Test Epoch Loss: 4.7843248466961086e-05\n",
      "Learning rate: 0.0001\n",
      "Epoch 10\n"
     ]
    },
    {
     "data": {
      "application/vnd.jupyter.widget-view+json": {
       "model_id": "c44c743994864dd1a4e6b4cac59a9d46",
       "version_major": 2,
       "version_minor": 0
      },
      "text/plain": [
       "  0%|          | 0/388 [00:00<?, ?it/s]"
      ]
     },
     "metadata": {},
     "output_type": "display_data"
    },
    {
     "name": "stdout",
     "output_type": "stream",
     "text": [
      ">> Getting train/loss for entire pNN ...\n"
     ]
    },
    {
     "data": {
      "application/vnd.jupyter.widget-view+json": {
       "model_id": "4001d7ad51e1445fb05a7ef8c8d397c2",
       "version_major": 2,
       "version_minor": 0
      },
      "text/plain": [
       "  0%|          | 0/388 [00:00<?, ?it/s]"
      ]
     },
     "metadata": {},
     "output_type": "display_data"
    },
    {
     "data": {
      "application/vnd.jupyter.widget-view+json": {
       "model_id": "044e026fd83c4d2bb8efac3425684929",
       "version_major": 2,
       "version_minor": 0
      },
      "text/plain": [
       "  0%|          | 0/195 [00:00<?, ?it/s]"
      ]
     },
     "metadata": {},
     "output_type": "display_data"
    },
    {
     "name": "stdout",
     "output_type": "stream",
     "text": [
      "Train Epoch Loss: 4.627661110134795e-05\n",
      "Test Epoch Loss: 4.6606899559265e-05\n",
      "Learning rate: 5.534565934794955e-05\n",
      "Epoch 11\n"
     ]
    },
    {
     "data": {
      "application/vnd.jupyter.widget-view+json": {
       "model_id": "318b81355217476dbf280d4ef2ffb6c6",
       "version_major": 2,
       "version_minor": 0
      },
      "text/plain": [
       "  0%|          | 0/388 [00:00<?, ?it/s]"
      ]
     },
     "metadata": {},
     "output_type": "display_data"
    },
    {
     "name": "stdout",
     "output_type": "stream",
     "text": [
      ">> Getting train/loss for entire pNN ...\n"
     ]
    },
    {
     "data": {
      "application/vnd.jupyter.widget-view+json": {
       "model_id": "777d7214ccac413f9f354b06d8f254eb",
       "version_major": 2,
       "version_minor": 0
      },
      "text/plain": [
       "  0%|          | 0/388 [00:00<?, ?it/s]"
      ]
     },
     "metadata": {},
     "output_type": "display_data"
    },
    {
     "data": {
      "application/vnd.jupyter.widget-view+json": {
       "model_id": "33db798a87314ec09ed25e010b82c9cd",
       "version_major": 2,
       "version_minor": 0
      },
      "text/plain": [
       "  0%|          | 0/195 [00:00<?, ?it/s]"
      ]
     },
     "metadata": {},
     "output_type": "display_data"
    },
    {
     "name": "stdout",
     "output_type": "stream",
     "text": [
      "Train Epoch Loss: 4.5863787818234414e-05\n",
      "Test Epoch Loss: 4.6061515604378656e-05\n",
      "Learning rate: 5.534565934794955e-05\n",
      "Epoch 12\n"
     ]
    },
    {
     "data": {
      "application/vnd.jupyter.widget-view+json": {
       "model_id": "524fbc14f85a46c78396df956f872197",
       "version_major": 2,
       "version_minor": 0
      },
      "text/plain": [
       "  0%|          | 0/388 [00:00<?, ?it/s]"
      ]
     },
     "metadata": {},
     "output_type": "display_data"
    },
    {
     "name": "stdout",
     "output_type": "stream",
     "text": [
      ">> Getting train/loss for entire pNN ...\n"
     ]
    },
    {
     "data": {
      "application/vnd.jupyter.widget-view+json": {
       "model_id": "aa9bdf0e95964804bd8ff3153e2c5110",
       "version_major": 2,
       "version_minor": 0
      },
      "text/plain": [
       "  0%|          | 0/388 [00:00<?, ?it/s]"
      ]
     },
     "metadata": {},
     "output_type": "display_data"
    },
    {
     "data": {
      "application/vnd.jupyter.widget-view+json": {
       "model_id": "a459c43a87c24bff9056899ba16fb891",
       "version_major": 2,
       "version_minor": 0
      },
      "text/plain": [
       "  0%|          | 0/195 [00:00<?, ?it/s]"
      ]
     },
     "metadata": {},
     "output_type": "display_data"
    },
    {
     "name": "stdout",
     "output_type": "stream",
     "text": [
      "Train Epoch Loss: 4.558968430501409e-05\n",
      "Test Epoch Loss: 4.5803641114616767e-05\n",
      "Learning rate: 5.534565934794955e-05\n",
      "Epoch 13\n"
     ]
    },
    {
     "data": {
      "application/vnd.jupyter.widget-view+json": {
       "model_id": "d884179eb74a4d778e2af026ed6d6cba",
       "version_major": 2,
       "version_minor": 0
      },
      "text/plain": [
       "  0%|          | 0/388 [00:00<?, ?it/s]"
      ]
     },
     "metadata": {},
     "output_type": "display_data"
    },
    {
     "name": "stdout",
     "output_type": "stream",
     "text": [
      ">> Getting train/loss for entire pNN ...\n"
     ]
    },
    {
     "data": {
      "application/vnd.jupyter.widget-view+json": {
       "model_id": "d251ef6ffe184666af725284d2b9b4e7",
       "version_major": 2,
       "version_minor": 0
      },
      "text/plain": [
       "  0%|          | 0/388 [00:00<?, ?it/s]"
      ]
     },
     "metadata": {},
     "output_type": "display_data"
    },
    {
     "data": {
      "application/vnd.jupyter.widget-view+json": {
       "model_id": "40ec482a419e4bd1bf34ed183ccfbf15",
       "version_major": 2,
       "version_minor": 0
      },
      "text/plain": [
       "  0%|          | 0/195 [00:00<?, ?it/s]"
      ]
     },
     "metadata": {},
     "output_type": "display_data"
    },
    {
     "name": "stdout",
     "output_type": "stream",
     "text": [
      "Train Epoch Loss: 4.522970266407356e-05\n",
      "Test Epoch Loss: 4.542417809716426e-05\n",
      "Learning rate: 5.534565934794955e-05\n",
      "Epoch 14\n"
     ]
    },
    {
     "data": {
      "application/vnd.jupyter.widget-view+json": {
       "model_id": "258f324a86c145b6ac2b65e2e3741aee",
       "version_major": 2,
       "version_minor": 0
      },
      "text/plain": [
       "  0%|          | 0/388 [00:00<?, ?it/s]"
      ]
     },
     "metadata": {},
     "output_type": "display_data"
    },
    {
     "name": "stdout",
     "output_type": "stream",
     "text": [
      ">> Getting train/loss for entire pNN ...\n"
     ]
    },
    {
     "data": {
      "application/vnd.jupyter.widget-view+json": {
       "model_id": "65c2eaecf5bb41789d389e045bfd68d0",
       "version_major": 2,
       "version_minor": 0
      },
      "text/plain": [
       "  0%|          | 0/388 [00:00<?, ?it/s]"
      ]
     },
     "metadata": {},
     "output_type": "display_data"
    },
    {
     "data": {
      "application/vnd.jupyter.widget-view+json": {
       "model_id": "819089433be34b7a9d69272d109db21d",
       "version_major": 2,
       "version_minor": 0
      },
      "text/plain": [
       "  0%|          | 0/195 [00:00<?, ?it/s]"
      ]
     },
     "metadata": {},
     "output_type": "display_data"
    },
    {
     "name": "stdout",
     "output_type": "stream",
     "text": [
      "Train Epoch Loss: 4.496972542256117e-05\n",
      "Test Epoch Loss: 4.540884037851356e-05\n",
      "Learning rate: 5.534565934794955e-05\n",
      "Epoch 15\n"
     ]
    },
    {
     "data": {
      "application/vnd.jupyter.widget-view+json": {
       "model_id": "5456ed44bdf5468a92e7decc8f614f9f",
       "version_major": 2,
       "version_minor": 0
      },
      "text/plain": [
       "  0%|          | 0/388 [00:00<?, ?it/s]"
      ]
     },
     "metadata": {},
     "output_type": "display_data"
    },
    {
     "name": "stdout",
     "output_type": "stream",
     "text": [
      ">> Getting train/loss for entire pNN ...\n"
     ]
    },
    {
     "data": {
      "application/vnd.jupyter.widget-view+json": {
       "model_id": "f992e320d4034806aaba1a46b6993258",
       "version_major": 2,
       "version_minor": 0
      },
      "text/plain": [
       "  0%|          | 0/388 [00:00<?, ?it/s]"
      ]
     },
     "metadata": {},
     "output_type": "display_data"
    },
    {
     "data": {
      "application/vnd.jupyter.widget-view+json": {
       "model_id": "333b740b53954aaa97cd9cee3125e76b",
       "version_major": 2,
       "version_minor": 0
      },
      "text/plain": [
       "  0%|          | 0/195 [00:00<?, ?it/s]"
      ]
     },
     "metadata": {},
     "output_type": "display_data"
    },
    {
     "name": "stdout",
     "output_type": "stream",
     "text": [
      "Train Epoch Loss: 4.472458749660291e-05\n",
      "Test Epoch Loss: 4.485401586862281e-05\n",
      "Learning rate: 5.534565934794955e-05\n",
      "Epoch 16\n"
     ]
    },
    {
     "data": {
      "application/vnd.jupyter.widget-view+json": {
       "model_id": "c7c053e7ccca4356a371b4f30fc340df",
       "version_major": 2,
       "version_minor": 0
      },
      "text/plain": [
       "  0%|          | 0/388 [00:00<?, ?it/s]"
      ]
     },
     "metadata": {},
     "output_type": "display_data"
    },
    {
     "name": "stdout",
     "output_type": "stream",
     "text": [
      ">> Getting train/loss for entire pNN ...\n"
     ]
    },
    {
     "data": {
      "application/vnd.jupyter.widget-view+json": {
       "model_id": "92b1390219f049faa9a210860bcb7099",
       "version_major": 2,
       "version_minor": 0
      },
      "text/plain": [
       "  0%|          | 0/388 [00:00<?, ?it/s]"
      ]
     },
     "metadata": {},
     "output_type": "display_data"
    },
    {
     "data": {
      "application/vnd.jupyter.widget-view+json": {
       "model_id": "50576cf3e6a842d1b4acaea2a5440566",
       "version_major": 2,
       "version_minor": 0
      },
      "text/plain": [
       "  0%|          | 0/195 [00:00<?, ?it/s]"
      ]
     },
     "metadata": {},
     "output_type": "display_data"
    },
    {
     "name": "stdout",
     "output_type": "stream",
     "text": [
      "Train Epoch Loss: 4.4330830860417336e-05\n",
      "Test Epoch Loss: 4.468471524887718e-05\n",
      "Learning rate: 5.534565934794955e-05\n",
      "Epoch 17\n"
     ]
    },
    {
     "data": {
      "application/vnd.jupyter.widget-view+json": {
       "model_id": "638745cfd5be4349b2870644b892833a",
       "version_major": 2,
       "version_minor": 0
      },
      "text/plain": [
       "  0%|          | 0/388 [00:00<?, ?it/s]"
      ]
     },
     "metadata": {},
     "output_type": "display_data"
    },
    {
     "name": "stdout",
     "output_type": "stream",
     "text": [
      ">> Getting train/loss for entire pNN ...\n"
     ]
    },
    {
     "data": {
      "application/vnd.jupyter.widget-view+json": {
       "model_id": "8c7fe3a6456740a5ad4551bcbe08cc1f",
       "version_major": 2,
       "version_minor": 0
      },
      "text/plain": [
       "  0%|          | 0/388 [00:00<?, ?it/s]"
      ]
     },
     "metadata": {},
     "output_type": "display_data"
    },
    {
     "data": {
      "application/vnd.jupyter.widget-view+json": {
       "model_id": "08a38b11b8a649ea82a59f8685f25567",
       "version_major": 2,
       "version_minor": 0
      },
      "text/plain": [
       "  0%|          | 0/195 [00:00<?, ?it/s]"
      ]
     },
     "metadata": {},
     "output_type": "display_data"
    },
    {
     "name": "stdout",
     "output_type": "stream",
     "text": [
      "Train Epoch Loss: 4.442229328560643e-05\n",
      "Test Epoch Loss: 4.446454477147199e-05\n",
      "Learning rate: 5.534565934794955e-05\n",
      "Epoch 18\n"
     ]
    },
    {
     "data": {
      "application/vnd.jupyter.widget-view+json": {
       "model_id": "750ad9273918439ea5a934062fe5a699",
       "version_major": 2,
       "version_minor": 0
      },
      "text/plain": [
       "  0%|          | 0/388 [00:00<?, ?it/s]"
      ]
     },
     "metadata": {},
     "output_type": "display_data"
    },
    {
     "name": "stdout",
     "output_type": "stream",
     "text": [
      ">> Getting train/loss for entire pNN ...\n"
     ]
    },
    {
     "data": {
      "application/vnd.jupyter.widget-view+json": {
       "model_id": "cc0ca04678764cfcbe229288832c4236",
       "version_major": 2,
       "version_minor": 0
      },
      "text/plain": [
       "  0%|          | 0/388 [00:00<?, ?it/s]"
      ]
     },
     "metadata": {},
     "output_type": "display_data"
    },
    {
     "data": {
      "application/vnd.jupyter.widget-view+json": {
       "model_id": "73c474931a3a4609839b9b95b9941824",
       "version_major": 2,
       "version_minor": 0
      },
      "text/plain": [
       "  0%|          | 0/195 [00:00<?, ?it/s]"
      ]
     },
     "metadata": {},
     "output_type": "display_data"
    },
    {
     "name": "stdout",
     "output_type": "stream",
     "text": [
      "Train Epoch Loss: 4.4230371713638306e-05\n",
      "Test Epoch Loss: 4.437069219420664e-05\n",
      "Learning rate: 5.534565934794955e-05\n",
      "Epoch 19\n"
     ]
    },
    {
     "data": {
      "application/vnd.jupyter.widget-view+json": {
       "model_id": "08f71c758f5b4a488b55415d9fc167f6",
       "version_major": 2,
       "version_minor": 0
      },
      "text/plain": [
       "  0%|          | 0/388 [00:00<?, ?it/s]"
      ]
     },
     "metadata": {},
     "output_type": "display_data"
    },
    {
     "name": "stdout",
     "output_type": "stream",
     "text": [
      ">> Getting train/loss for entire pNN ...\n"
     ]
    },
    {
     "data": {
      "application/vnd.jupyter.widget-view+json": {
       "model_id": "db0bb6fc803943a8bffe910575502905",
       "version_major": 2,
       "version_minor": 0
      },
      "text/plain": [
       "  0%|          | 0/388 [00:00<?, ?it/s]"
      ]
     },
     "metadata": {},
     "output_type": "display_data"
    },
    {
     "data": {
      "application/vnd.jupyter.widget-view+json": {
       "model_id": "1ba33075f7714c60bb121f0bfd7dd924",
       "version_major": 2,
       "version_minor": 0
      },
      "text/plain": [
       "  0%|          | 0/195 [00:00<?, ?it/s]"
      ]
     },
     "metadata": {},
     "output_type": "display_data"
    },
    {
     "name": "stdout",
     "output_type": "stream",
     "text": [
      "Train Epoch Loss: 4.413404531078413e-05\n",
      "Test Epoch Loss: 4.408637687447481e-05\n",
      "Learning rate: 5.534565934794955e-05\n",
      "Epoch 20\n"
     ]
    },
    {
     "data": {
      "application/vnd.jupyter.widget-view+json": {
       "model_id": "baba8c2ae4fc4ce6a3d371a73cd9487f",
       "version_major": 2,
       "version_minor": 0
      },
      "text/plain": [
       "  0%|          | 0/388 [00:00<?, ?it/s]"
      ]
     },
     "metadata": {},
     "output_type": "display_data"
    },
    {
     "name": "stdout",
     "output_type": "stream",
     "text": [
      ">> Getting train/loss for entire pNN ...\n"
     ]
    },
    {
     "data": {
      "application/vnd.jupyter.widget-view+json": {
       "model_id": "0f64c0f865b746fbbd8f5b9cc2d6cc83",
       "version_major": 2,
       "version_minor": 0
      },
      "text/plain": [
       "  0%|          | 0/388 [00:00<?, ?it/s]"
      ]
     },
     "metadata": {},
     "output_type": "display_data"
    },
    {
     "data": {
      "application/vnd.jupyter.widget-view+json": {
       "model_id": "0e2443dc73584503adb05199bfd09d01",
       "version_major": 2,
       "version_minor": 0
      },
      "text/plain": [
       "  0%|          | 0/195 [00:00<?, ?it/s]"
      ]
     },
     "metadata": {},
     "output_type": "display_data"
    },
    {
     "name": "stdout",
     "output_type": "stream",
     "text": [
      "Train Epoch Loss: 4.3678712245309725e-05\n",
      "Test Epoch Loss: 4.408671156852506e-05\n",
      "Learning rate: 5.223863627179526e-05\n",
      "Epoch 21\n"
     ]
    },
    {
     "data": {
      "application/vnd.jupyter.widget-view+json": {
       "model_id": "8a470437ffe1463c8fdc04d06f8fd529",
       "version_major": 2,
       "version_minor": 0
      },
      "text/plain": [
       "  0%|          | 0/388 [00:00<?, ?it/s]"
      ]
     },
     "metadata": {},
     "output_type": "display_data"
    },
    {
     "name": "stdout",
     "output_type": "stream",
     "text": [
      ">> Getting train/loss for entire pNN ...\n"
     ]
    },
    {
     "data": {
      "application/vnd.jupyter.widget-view+json": {
       "model_id": "ed616f6254284fbe8cc1c78218f6258f",
       "version_major": 2,
       "version_minor": 0
      },
      "text/plain": [
       "  0%|          | 0/388 [00:00<?, ?it/s]"
      ]
     },
     "metadata": {},
     "output_type": "display_data"
    },
    {
     "data": {
      "application/vnd.jupyter.widget-view+json": {
       "model_id": "fe33e90cd5624766a0bc606dbe48c369",
       "version_major": 2,
       "version_minor": 0
      },
      "text/plain": [
       "  0%|          | 0/195 [00:00<?, ?it/s]"
      ]
     },
     "metadata": {},
     "output_type": "display_data"
    },
    {
     "name": "stdout",
     "output_type": "stream",
     "text": [
      "Train Epoch Loss: 4.370329770608805e-05\n",
      "Test Epoch Loss: 4.370748865767382e-05\n",
      "Learning rate: 5.223863627179526e-05\n",
      "Epoch 22\n"
     ]
    },
    {
     "data": {
      "application/vnd.jupyter.widget-view+json": {
       "model_id": "25a8b654134345759fa19980961de69a",
       "version_major": 2,
       "version_minor": 0
      },
      "text/plain": [
       "  0%|          | 0/388 [00:00<?, ?it/s]"
      ]
     },
     "metadata": {},
     "output_type": "display_data"
    },
    {
     "name": "stdout",
     "output_type": "stream",
     "text": [
      ">> Getting train/loss for entire pNN ...\n"
     ]
    },
    {
     "data": {
      "application/vnd.jupyter.widget-view+json": {
       "model_id": "680acc899aa040a5990be4343ad64cad",
       "version_major": 2,
       "version_minor": 0
      },
      "text/plain": [
       "  0%|          | 0/388 [00:00<?, ?it/s]"
      ]
     },
     "metadata": {},
     "output_type": "display_data"
    },
    {
     "data": {
      "application/vnd.jupyter.widget-view+json": {
       "model_id": "2316156350f3480cb05d0cad356ca30d",
       "version_major": 2,
       "version_minor": 0
      },
      "text/plain": [
       "  0%|          | 0/195 [00:00<?, ?it/s]"
      ]
     },
     "metadata": {},
     "output_type": "display_data"
    },
    {
     "name": "stdout",
     "output_type": "stream",
     "text": [
      "Train Epoch Loss: 4.344992703408934e-05\n",
      "Test Epoch Loss: 4.3647429265547544e-05\n",
      "Learning rate: 5.223863627179526e-05\n",
      "Epoch 23\n"
     ]
    },
    {
     "data": {
      "application/vnd.jupyter.widget-view+json": {
       "model_id": "9b65a08e983949b2b422cb807b576f98",
       "version_major": 2,
       "version_minor": 0
      },
      "text/plain": [
       "  0%|          | 0/388 [00:00<?, ?it/s]"
      ]
     },
     "metadata": {},
     "output_type": "display_data"
    },
    {
     "name": "stdout",
     "output_type": "stream",
     "text": [
      ">> Getting train/loss for entire pNN ...\n"
     ]
    },
    {
     "data": {
      "application/vnd.jupyter.widget-view+json": {
       "model_id": "68e6fcce7beb49ba9aafa9b69c2b055e",
       "version_major": 2,
       "version_minor": 0
      },
      "text/plain": [
       "  0%|          | 0/388 [00:00<?, ?it/s]"
      ]
     },
     "metadata": {},
     "output_type": "display_data"
    },
    {
     "data": {
      "application/vnd.jupyter.widget-view+json": {
       "model_id": "9c8e0333896b49809aef3e2f3a858a67",
       "version_major": 2,
       "version_minor": 0
      },
      "text/plain": [
       "  0%|          | 0/195 [00:00<?, ?it/s]"
      ]
     },
     "metadata": {},
     "output_type": "display_data"
    },
    {
     "name": "stdout",
     "output_type": "stream",
     "text": [
      "Train Epoch Loss: 4.330692536314018e-05\n",
      "Test Epoch Loss: 4.3754465878009796e-05\n",
      "Learning rate: 5.223863627179526e-05\n",
      "Epoch 24\n"
     ]
    },
    {
     "data": {
      "application/vnd.jupyter.widget-view+json": {
       "model_id": "3a1742ad088a422fa1931b6b7745009e",
       "version_major": 2,
       "version_minor": 0
      },
      "text/plain": [
       "  0%|          | 0/388 [00:00<?, ?it/s]"
      ]
     },
     "metadata": {},
     "output_type": "display_data"
    },
    {
     "name": "stdout",
     "output_type": "stream",
     "text": [
      ">> Getting train/loss for entire pNN ...\n"
     ]
    },
    {
     "data": {
      "application/vnd.jupyter.widget-view+json": {
       "model_id": "11229aeb3c034b26a20e9208aa60780b",
       "version_major": 2,
       "version_minor": 0
      },
      "text/plain": [
       "  0%|          | 0/388 [00:00<?, ?it/s]"
      ]
     },
     "metadata": {},
     "output_type": "display_data"
    },
    {
     "ename": "KeyboardInterrupt",
     "evalue": "",
     "output_type": "error",
     "traceback": [
      "\u001b[0;31m---------------------------------------------------------------------------\u001b[0m",
      "\u001b[0;31mKeyboardInterrupt\u001b[0m                         Traceback (most recent call last)",
      "Cell \u001b[0;32mIn[9], line 23\u001b[0m\n\u001b[1;32m     19\u001b[0m x_train,x_test,x_train_original,x_test_original \u001b[38;5;241m=\u001b[39m te\u001b[38;5;241m.\u001b[39mgetTrainTestSplit(combine_df,add_to_test_df)\n\u001b[1;32m     21\u001b[0m x_test_global \u001b[38;5;241m=\u001b[39m x_test\u001b[38;5;241m.\u001b[39mcopy()\n\u001b[0;32m---> 23\u001b[0m models,epoch_loss_train,epoch_loss_test,output_score,output_score_train, learning_rate_epochs,scaler,best_epoch,directory,signal_output_score_train_dict,signal_output_score_test_dict \u001b[38;5;241m=\u001b[39m \u001b[43mte\u001b[49m\u001b[38;5;241;43m.\u001b[39;49m\u001b[43mtrainNetwork_no_weights\u001b[49m\u001b[43m(\u001b[49m\u001b[43mx_train\u001b[49m\u001b[43m,\u001b[49m\u001b[43m \u001b[49m\u001b[43mx_test\u001b[49m\u001b[43m,\u001b[49m\u001b[43m \u001b[49m\u001b[43mfeature_list\u001b[49m\u001b[43m,\u001b[49m\u001b[43m \u001b[49m\u001b[43mlearningrate\u001b[49m\u001b[43m,\u001b[49m\u001b[43m \u001b[49m\u001b[43mepoch\u001b[49m\u001b[43m \u001b[49m\u001b[38;5;241;43m=\u001b[39;49m\u001b[43m \u001b[49m\u001b[43mepoch\u001b[49m\u001b[43m,\u001b[49m\u001b[43m \u001b[49m\u001b[43msave_models\u001b[49m\u001b[38;5;241;43m=\u001b[39;49m\u001b[43msave_models\u001b[49m\u001b[43m,\u001b[49m\n\u001b[1;32m     24\u001b[0m \u001b[43m                    \u001b[49m\u001b[43mbatch_size\u001b[49m\u001b[43m \u001b[49m\u001b[38;5;241;43m=\u001b[39;49m\u001b[43m \u001b[49m\u001b[43mbatch_size\u001b[49m\u001b[43m,\u001b[49m\u001b[43m \u001b[49m\u001b[43mnodes\u001b[49m\u001b[43m \u001b[49m\u001b[38;5;241;43m=\u001b[39;49m\u001b[43m \u001b[49m\u001b[43mnodes\u001b[49m\u001b[43m,\u001b[49m\u001b[43m \u001b[49m\u001b[43mpatience\u001b[49m\u001b[43m \u001b[49m\u001b[38;5;241;43m=\u001b[39;49m\u001b[43m \u001b[49m\u001b[43mpatience\u001b[49m\u001b[43m,\u001b[49m\u001b[43m \u001b[49m\u001b[43mmodel_type\u001b[49m\u001b[38;5;241;43m=\u001b[39;49m\u001b[43mmodel_type\u001b[49m\u001b[43m,\u001b[49m\u001b[43mscheduler_type\u001b[49m\u001b[38;5;241;43m=\u001b[39;49m\u001b[43mscheduler_type\u001b[49m\u001b[43m,\u001b[49m\u001b[43mdirectory\u001b[49m\u001b[43m \u001b[49m\u001b[38;5;241;43m=\u001b[39;49m\u001b[43m \u001b[49m\u001b[43mdirectory\u001b[49m\u001b[43m,\u001b[49m\u001b[43mscheduler\u001b[49m\u001b[43m \u001b[49m\u001b[38;5;241;43m=\u001b[39;49m\u001b[43m \u001b[49m\u001b[43mscheduler\u001b[49m\u001b[43m,\u001b[49m\u001b[43mdynamic_batch\u001b[49m\u001b[43m \u001b[49m\u001b[38;5;241;43m=\u001b[39;49m\u001b[43m \u001b[49m\u001b[43mdynamic_batch\u001b[49m\u001b[43m,\u001b[49m\u001b[43msingle_mass\u001b[49m\u001b[43m \u001b[49m\u001b[38;5;241;43m=\u001b[39;49m\u001b[43m \u001b[49m\u001b[43msingle_mass\u001b[49m\u001b[43m)\u001b[49m\n\u001b[1;32m     26\u001b[0m scaler_global \u001b[38;5;241m=\u001b[39m scaler\n\u001b[1;32m     27\u001b[0m best_epoch_global \u001b[38;5;241m=\u001b[39m best_epoch\n",
      "File \u001b[0;32m~/pNN/train_evaluate_pnn.py:404\u001b[0m, in \u001b[0;36mtrainNetwork_no_weights\u001b[0;34m(train_df, test_df, features, lr, epoch, save_models, batch_size, nodes, patience, model_type, scheduler_type, directory, scheduler, dynamic_batch, single_mass)\u001b[0m\n\u001b[1;32m    401\u001b[0m models\u001b[38;5;241m.\u001b[39mappend(copy\u001b[38;5;241m.\u001b[39mdeepcopy(model))\n\u001b[1;32m    403\u001b[0m \u001b[38;5;28mprint\u001b[39m(\u001b[38;5;124m\"\u001b[39m\u001b[38;5;124m>> Getting train/loss for entire pNN ...\u001b[39m\u001b[38;5;124m\"\u001b[39m)\n\u001b[0;32m--> 404\u001b[0m epoch_loss_train\u001b[38;5;241m.\u001b[39mappend(\u001b[43mgetTotalLoss_no_weight\u001b[49m\u001b[43m(\u001b[49m\u001b[43mmodel\u001b[49m\u001b[43m,\u001b[49m\u001b[43m \u001b[49m\u001b[43mloss_f\u001b[49m\u001b[43m,\u001b[49m\u001b[43m \u001b[49m\u001b[43mX_train\u001b[49m\u001b[43m,\u001b[49m\u001b[43m \u001b[49m\u001b[43my_train\u001b[49m\u001b[43m,\u001b[49m\u001b[43m \u001b[49m\u001b[43mw_train\u001b[49m\u001b[43m,\u001b[49m\u001b[43m \u001b[49m\u001b[43mbatch_size\u001b[49m\u001b[43m)\u001b[49m)\n\u001b[1;32m    405\u001b[0m epoch_loss_test\u001b[38;5;241m.\u001b[39mappend(getTotalLoss_no_weight(model, loss_f, X_test, y_test, w_test, batch_size))\n\u001b[1;32m    409\u001b[0m np\u001b[38;5;241m.\u001b[39msave(\u001b[38;5;124mf\u001b[39m\u001b[38;5;124m'\u001b[39m\u001b[38;5;132;01m{\u001b[39;00mdirectory\u001b[38;5;132;01m}\u001b[39;00m\u001b[38;5;124m/epoch_loss_train.npy\u001b[39m\u001b[38;5;124m'\u001b[39m, epoch_loss_train)\n",
      "File \u001b[0;32m~/pNN/train_evaluate_pnn.py:216\u001b[0m, in \u001b[0;36mgetTotalLoss_no_weight\u001b[0;34m(model, loss_f, X, y, w, batch_size)\u001b[0m\n\u001b[1;32m    213\u001b[0m total_loss \u001b[38;5;241m=\u001b[39m \u001b[38;5;241m0.0\u001b[39m\n\u001b[1;32m    215\u001b[0m \u001b[38;5;28;01mwith\u001b[39;00m torch\u001b[38;5;241m.\u001b[39mno_grad():\n\u001b[0;32m--> 216\u001b[0m   \u001b[38;5;28;01mfor\u001b[39;00m X_tensor, y_tensor, w_tensor \u001b[38;5;129;01min\u001b[39;00m getWeightedBatches([X, y, w], batch_size):\n\u001b[1;32m    217\u001b[0m     output \u001b[38;5;241m=\u001b[39m model(X_tensor)\n\u001b[1;32m    218\u001b[0m     total_loss \u001b[38;5;241m+\u001b[39m\u001b[38;5;241m=\u001b[39m loss_f(output, y_tensor\u001b[38;5;241m.\u001b[39mreshape(\u001b[38;5;241m-\u001b[39m\u001b[38;5;241m1\u001b[39m, \u001b[38;5;241m1\u001b[39m))\u001b[38;5;241m.\u001b[39mdetach()\u001b[38;5;241m.\u001b[39mcpu()\n",
      "File \u001b[0;32m~/pNN/train_evaluate_pnn.py:170\u001b[0m, in \u001b[0;36mgetWeightedBatches\u001b[0;34m(arrays, batch_size)\u001b[0m\n\u001b[1;32m    167\u001b[0m sampling_prob \u001b[38;5;241m=\u001b[39m adjusted_weights \u001b[38;5;241m/\u001b[39m adjusted_weights\u001b[38;5;241m.\u001b[39msum()\n\u001b[1;32m    169\u001b[0m \u001b[38;5;28;01mfor\u001b[39;00m _ \u001b[38;5;129;01min\u001b[39;00m tqdm(\u001b[38;5;28mrange\u001b[39m(\u001b[38;5;241m0\u001b[39m, length, batch_size)):\n\u001b[0;32m--> 170\u001b[0m     chosen_indices \u001b[38;5;241m=\u001b[39m \u001b[43mnp\u001b[49m\u001b[38;5;241;43m.\u001b[39;49m\u001b[43mrandom\u001b[49m\u001b[38;5;241;43m.\u001b[39;49m\u001b[43mchoice\u001b[49m\u001b[43m(\u001b[49m\u001b[43mindices\u001b[49m\u001b[43m,\u001b[49m\u001b[43m \u001b[49m\u001b[43msize\u001b[49m\u001b[38;5;241;43m=\u001b[39;49m\u001b[43mbatch_size\u001b[49m\u001b[43m,\u001b[49m\u001b[43m \u001b[49m\u001b[43mp\u001b[49m\u001b[38;5;241;43m=\u001b[39;49m\u001b[43msampling_prob\u001b[49m\u001b[43m)\u001b[49m\n\u001b[1;32m    171\u001b[0m     arrays_batch \u001b[38;5;241m=\u001b[39m [torch\u001b[38;5;241m.\u001b[39mTensor(array[chosen_indices])\u001b[38;5;241m.\u001b[39mto(device) \u001b[38;5;28;01mfor\u001b[39;00m array \u001b[38;5;129;01min\u001b[39;00m arrays]\n\u001b[1;32m    172\u001b[0m     \u001b[38;5;28;01myield\u001b[39;00m arrays_batch\n",
      "\u001b[0;31mKeyboardInterrupt\u001b[0m: "
     ]
    }
   ],
   "source": [
    "'''\n",
    "    Simply run this cell, you can terminate when satisfied / wait for epochs to finish / wait for early stopping.\n",
    "'''\n",
    "\n",
    "# Do not change this (This feature does not work yet).\n",
    "single_mass = False\n",
    "\n",
    "x_test_global = None\n",
    "scaler_global = None\n",
    "best_epoch_global = None\n",
    "allmasses=['260','270','280','290','300','320','350','400','450','500','550','600','650','700','750','800','900','1000']\n",
    "\n",
    "auclist=[]\n",
    "for nodes in architectures:\n",
    "    directory = f'models_{num_of_features}_features_{nodes}{directory_add_on}'\n",
    "    \n",
    "    signal_df, background_df, combine_df, add_to_test_df = te.read_dataframes()\n",
    "\n",
    "    x_train,x_test,x_train_original,x_test_original = te.getTrainTestSplit(combine_df,add_to_test_df)\n",
    "\n",
    "    x_test_global = x_test.copy()\n",
    "    \n",
    "    models,epoch_loss_train,epoch_loss_test,output_score,output_score_train, learning_rate_epochs,scaler,best_epoch,directory,signal_output_score_train_dict,signal_output_score_test_dict = te.trainNetwork_no_weights(x_train, x_test, feature_list, learningrate, epoch = epoch, save_models=save_models,\n",
    "                        batch_size = batch_size, nodes = nodes, patience = patience, model_type=model_type,scheduler_type=scheduler_type,directory = directory,scheduler = scheduler,dynamic_batch = dynamic_batch,single_mass = single_mass)\n",
    "\n",
    "    scaler_global = scaler\n",
    "    best_epoch_global = best_epoch\n",
    "\n",
    "    for i,mass_eval in enumerate(allmasses):\n",
    "\n",
    "        signal_mass = int(mass_eval)\n",
    "        \n",
    "        plt.figure()\n",
    "        plt.plot(signal_output_score_train_dict[signal_mass], label = 'Train')\n",
    "        plt.plot(signal_output_score_test_dict[signal_mass], label = 'Test')\n",
    "        plt.axvline(best_epoch, label = f'Best Performing Epoch - {best_epoch}')\n",
    "        plt.ylabel('Loss')\n",
    "        plt.xlabel('Epoch')\n",
    "        plt.title(f'Loss per Epoch for Signal {signal_mass} GeV')\n",
    "        plt.legend()\n",
    "        plt.savefig(f'{directory}/signal_{signal_mass}_loss_graph.png',format = 'png', dpi = 400)\n",
    "        plt.show()\n",
    "        \n",
    "\n",
    "    signal_output_score,background_output_score = separate_output_score(output_score,x_test['y'])\n",
    "\n",
    "    \n",
    "    fpr, tpr, thresholds = roc_curve(x_test['y'], output_score.cpu().detach().numpy())\n",
    "    roc_auc = auc(fpr, tpr)\n",
    "    print(f'Printing AUC Score:{roc_auc} for pNN of architecture {(nodes)}')\n",
    "    \n",
    "    fig, axs = plt.subplots(1, 3, figsize=(24, 10))\n",
    "        \n",
    "    axs[0].plot(epoch_loss_train, label = 'Train')\n",
    "    axs[0].plot(epoch_loss_test, label = 'Test')\n",
    "    axs[0].axvline(best_epoch, label = f'Best Performing Epoch - {best_epoch}')\n",
    "    axs[0].set_ylabel('Loss')\n",
    "    axs[0].set_xlabel('Epoch')\n",
    "    axs[0].set_title('Loss per Epoch')\n",
    "    if plot_learning_rate == 'yes':\n",
    "        ax1_twin = axs[0].twinx()\n",
    "        ax1_twin.plot(learning_rate_epochs, label='Learning Rate', linestyle='--', color='red')\n",
    "        ax1_twin.set_ylabel('Learning Rate')\n",
    "        ax1_twin.tick_params(axis='y')\n",
    "    axs[0].legend(loc='upper right')\n",
    "\n",
    "    axs[1].hist(signal_output_score, label = 'Signal',bins=80,histtype='step')\n",
    "    axs[1].hist(background_output_score, label = 'Background',bins=80,histtype='step')\n",
    "    axs[1].set_xlabel(\"Output Score\")\n",
    "    axs[1].set_title('Classification Distribution')\n",
    "    axs[1].set_ylabel(\"Frequency\")\n",
    "    axs[1].legend()\n",
    "    \n",
    "    axs[2].plot(fpr, tpr, color='darkorange', lw=2, label=f'ROC curve (area = {roc_auc:.3f})')\n",
    "    axs[2].plot([0, 1], [0, 1], color='navy', lw=2, linestyle='--')\n",
    "    axs[2].set_xlim([0.0, 1.0])\n",
    "    axs[2].set_ylim([0.0, 1.05])\n",
    "    axs[2].set_xlabel('False Positive Rate')\n",
    "    axs[2].set_ylabel('True Positive Rate')\n",
    "    axs[2].set_title('Receiver Operating Characteristic',fontsize=18)\n",
    "    axs[2].legend(loc=\"lower right\")\n",
    "    plt.tight_layout()\n",
    "    plt.legend()\n",
    "    #plt.title(f'{signal_names[l]}')\n",
    "    fig.suptitle(f'pNN: architecture={nodes}, lr={learningrate}', fontsize=16)\n",
    "    plt.savefig(f'{directory}/graph.png',format = 'png')\n",
    "    plt.show()\n",
    "    #plt.savefig(f'lossclassROC_m={mass}_arch={nodes}_lr={learningrate}.png')\n",
    "    #plt.savefig(f'savetrial1000.png')\n",
    "\n",
    "    \n",
    "    auclist.append([roc_auc,nodes])\n",
    "    \n",
    "featurescore_df = pd.DataFrame(auclist, columns=['score', 'nodes per hidden layer'])\n",
    "    \n",
    "    #output_file_path = f'OptimisedArch310124_{mass}_lr{learningrate}_[50,50,50].csv'\n",
    "    #featurescore_df.to_csv(output_file_path, index=False)\n",
    "         \n"
   ]
  },
  {
   "cell_type": "code",
   "execution_count": null,
   "metadata": {},
   "outputs": [],
   "source": []
  }
 ],
 "metadata": {
  "kernel_info": {
   "name": "python38-azureml"
  },
  "kernelspec": {
   "display_name": "Python 3 (ipykernel)",
   "language": "python",
   "name": "python3"
  },
  "language_info": {
   "codemirror_mode": {
    "name": "ipython",
    "version": 3
   },
   "file_extension": ".py",
   "mimetype": "text/x-python",
   "name": "python",
   "nbconvert_exporter": "python",
   "pygments_lexer": "ipython3",
   "version": "3.9.2"
  },
  "microsoft": {
   "host": {
    "AzureML": {
     "notebookHasBeenCompleted": true
    }
   },
   "ms_spell_check": {
    "ms_spell_check_language": "en"
   }
  },
  "nteract": {
   "version": "nteract-front-end@1.0.0"
  }
 },
 "nbformat": 4,
 "nbformat_minor": 4
}
