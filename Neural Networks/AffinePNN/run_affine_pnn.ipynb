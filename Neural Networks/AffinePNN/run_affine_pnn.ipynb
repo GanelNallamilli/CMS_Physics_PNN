{
 "cells": [
  {
   "cell_type": "code",
   "execution_count": 1,
   "metadata": {
    "gather": {
     "logged": 1707217380005
    }
   },
   "outputs": [
    {
     "name": "stdout",
     "output_type": "stream",
     "text": [
      "cpu\n"
     ]
    }
   ],
   "source": [
    "import torch\n",
    "import torch.nn as nn\n",
    "import torch.optim as optim\n",
    "import json\n",
    "import matplotlib.pyplot as plt\n",
    "import pandas as pd\n",
    "from sklearn.model_selection import train_test_split\n",
    "import numpy as np\n",
    "import mplhep as hep\n",
    "from sklearn.metrics import roc_curve, auc\n",
    "from tqdm.auto import tqdm\n",
    "import copy\n",
    "import train_evaluate_affine_pnn as te\n",
    "import csv \n",
    "import os\n",
    "from sklearn.preprocessing import StandardScaler\n",
    "import joblib\n",
    "hep.style.use(\"CMS\")\n",
    "auclist=[]\n",
    "#device = 'cuda' if torch.cuda.is_available() else 'cpu'\n",
    "device = 'cpu'\n",
    "print(device)\n",
    "\n",
    "def separate_output_score(output_score,y):\n",
    "    dict_ = {'pred':output_score.cpu().detach().numpy().flatten(),'true':y}\n",
    "    temp_df = pd.DataFrame(dict_)\n",
    "    signal_output_score = temp_df.loc[temp_df['true'] == 1]['pred']\n",
    "    background_output_score = temp_df.loc[temp_df['true'] == 0]['pred']\n",
    "    return signal_output_score,background_output_score\n",
    "\n"
   ]
  },
  {
   "cell_type": "code",
   "execution_count": 7,
   "metadata": {},
   "outputs": [
    {
     "data": {
      "text/plain": [
       "8192"
      ]
     },
     "execution_count": 7,
     "metadata": {},
     "output_type": "execute_result"
    }
   ],
   "source": [
    "1024*8"
   ]
  },
  {
   "cell_type": "code",
   "execution_count": 2,
   "metadata": {},
   "outputs": [],
   "source": [
    "'''\n",
    "    Add the add on name in the directory, by default if directory_add_on = '' then the folder in which the pNN and all graphs/data will be \n",
    "    stored in will be: 'models_27_features_[50,50,50]' when using 27 features and nodes [50,50,50].\n",
    "    if directory_add_on = '_high_learning_rate' then the folder will be: 'models_27_features_[50,50,50]_high_learning_rate'\n",
    "    (please always add an '_' then your add-on message\n",
    "'''\n",
    "\n",
    "directory_add_on = '_batches_8192'\n",
    "\n",
    "# Update these parameters to your liking.\n",
    "learningrate = 0.0001\n",
    "plot_learning_rate='yes'\n",
    "scheduler_type='Custom'\n",
    "epoch = 999999\n",
    "patience = 5\n",
    "batch_size = 8192\n",
    "model_type ='affine'\n",
    "save_models = True\n",
    "scheduler = True\n",
    "dynamic_batch = False\n",
    "num_of_features = 27\n",
    "architectures= [[1024,512,256,128,64,32]] "
   ]
  },
  {
   "cell_type": "code",
   "execution_count": 3,
   "metadata": {
    "collapsed": false,
    "gather": {
     "logged": 1707219798882
    },
    "jupyter": {
     "outputs_hidden": false,
     "source_hidden": false
    },
    "nteract": {
     "transient": {
      "deleting": false
     }
    }
   },
   "outputs": [
    {
     "name": "stdout",
     "output_type": "stream",
     "text": [
      ">> List of features being used: ['reco_MX_mgg', 'dilep_leadpho_mass', 'ditau_pt', 'Diphoton_dPhi', 'ditau_dphi', 'Diphoton_pt_mgg', 'LeadPhoton_pt_mgg', 'MET_pt', 'LeadPhoton_lead_lepton_dR', 'ditau_dR', 'lead_lepton_pt', 'Diphoton_ditau_deta', 'Diphoton_lead_lepton_dR', 'LeadPhoton_ditau_dR', 'SubleadPhoton_lead_lepton_dR', 'jet_1_pt', 'Diphoton_sublead_lepton_dR', 'Diphoton_ditau_dphi', 'ditau_deta', 'ditau_met_dPhi', 'ditau_mass', 'Diphoton_sublead_lepton_deta', 'SubleadPhoton_pt_mgg', 'Diphoton_mass', 'Diphoton_lead_lepton_deta', 'diphoton_met_dPhi', 'lead_lepton_mass', 'MX']\n"
     ]
    }
   ],
   "source": [
    "'''\n",
    "    Simply run this cell\n",
    "'''\n",
    "feature_list = []\n",
    "sorted_features = {}\n",
    "\n",
    "signal_masses = [\"260\",\"270\",\"280\",\"290\",\"300\",\"320\",\"350\",\"400\",\"450\",\"500\",\"550\",\"600\",\"650\",\"700\",\"750\",\"800\",\"900\"]\n",
    "\n",
    "for signal_mass in signal_masses:\n",
    "    signal = \"GluGluToRadionToHHTo2G2Tau_M-\"+signal_mass\n",
    "    GluGluToRadionToHHTo2G2Tau_AUC_NN = pd.read_csv(f\"Feature_list/{signal}_AUC_NN.csv\", index_col = False, on_bad_lines='skip')\n",
    "    dict_ = {GluGluToRadionToHHTo2G2Tau_AUC_NN.columns[i]:GluGluToRadionToHHTo2G2Tau_AUC_NN[GluGluToRadionToHHTo2G2Tau_AUC_NN.columns[i]][0] for i in range(len(GluGluToRadionToHHTo2G2Tau_AUC_NN.columns))}\n",
    "    dict_ = {k: v for k, v in sorted(dict_.items(), key=lambda item: item[1], reverse=True)}\n",
    "    list_ = list(dict_.keys())\n",
    "    sorted_features[signal_mass] = list_\n",
    "\n",
    "\n",
    "for sig in sorted_features.keys():\n",
    "    for i in range(num_of_features):\n",
    "        if sorted_features[sig][i] not in feature_list:\n",
    "            feature_list.append(sorted_features[sig][i])\n",
    "\n",
    "feature_list = feature_list + ['MX']\n",
    "\n",
    "print(f'>> List of features being used: {feature_list}')"
   ]
  },
  {
   "cell_type": "code",
   "execution_count": 4,
   "metadata": {
    "collapsed": false,
    "gather": {
     "logged": 1707223904894
    },
    "jupyter": {
     "outputs_hidden": false,
     "source_hidden": false
    },
    "nteract": {
     "transient": {
      "deleting": false
     }
    }
   },
   "outputs": [
    {
     "name": "stdout",
     "output_type": "stream",
     "text": [
      ">> Loading data ...\n",
      ">> Splitting train/test data ...\n",
      ">> Directory created successfully ...\n",
      ">> Training...\n"
     ]
    },
    {
     "data": {
      "application/vnd.jupyter.widget-view+json": {
       "model_id": "b958616b335641c3b27ece66452a1123",
       "version_major": 2,
       "version_minor": 0
      },
      "text/plain": [
       "  0%|          | 0/999999 [00:00<?, ?it/s]"
      ]
     },
     "metadata": {},
     "output_type": "display_data"
    },
    {
     "name": "stdout",
     "output_type": "stream",
     "text": [
      "Epoch 0\n"
     ]
    },
    {
     "data": {
      "application/vnd.jupyter.widget-view+json": {
       "model_id": "b4d35b54158449b997b40306a72b19a2",
       "version_major": 2,
       "version_minor": 0
      },
      "text/plain": [
       "  0%|          | 0/194 [00:00<?, ?it/s]"
      ]
     },
     "metadata": {},
     "output_type": "display_data"
    },
    {
     "name": "stdout",
     "output_type": "stream",
     "text": [
      ">> Getting train/loss for entire pNN ...\n"
     ]
    },
    {
     "data": {
      "application/vnd.jupyter.widget-view+json": {
       "model_id": "dfb1951234a84dab96fe6df6147d6d04",
       "version_major": 2,
       "version_minor": 0
      },
      "text/plain": [
       "  0%|          | 0/194 [00:00<?, ?it/s]"
      ]
     },
     "metadata": {},
     "output_type": "display_data"
    },
    {
     "data": {
      "application/vnd.jupyter.widget-view+json": {
       "model_id": "cce68b5c9d1c48a19ee6ca5b10ce3858",
       "version_major": 2,
       "version_minor": 0
      },
      "text/plain": [
       "  0%|          | 0/98 [00:00<?, ?it/s]"
      ]
     },
     "metadata": {},
     "output_type": "display_data"
    },
    {
     "name": "stdout",
     "output_type": "stream",
     "text": [
      "Train Epoch Loss: 9.317446529166773e-05\n",
      "Test Epoch Loss: 9.359718387713656e-05\n",
      "Learning rate: 0.0001\n",
      "Epoch 1\n"
     ]
    },
    {
     "data": {
      "application/vnd.jupyter.widget-view+json": {
       "model_id": "97cf69a6d22c4f2598dc0fa6ff617892",
       "version_major": 2,
       "version_minor": 0
      },
      "text/plain": [
       "  0%|          | 0/194 [00:00<?, ?it/s]"
      ]
     },
     "metadata": {},
     "output_type": "display_data"
    },
    {
     "name": "stdout",
     "output_type": "stream",
     "text": [
      ">> Getting train/loss for entire pNN ...\n"
     ]
    },
    {
     "data": {
      "application/vnd.jupyter.widget-view+json": {
       "model_id": "136b39ee5a5941d886bb072ab272cccd",
       "version_major": 2,
       "version_minor": 0
      },
      "text/plain": [
       "  0%|          | 0/194 [00:00<?, ?it/s]"
      ]
     },
     "metadata": {},
     "output_type": "display_data"
    },
    {
     "data": {
      "application/vnd.jupyter.widget-view+json": {
       "model_id": "d1a59c2980d6465b8242debb9641d91e",
       "version_major": 2,
       "version_minor": 0
      },
      "text/plain": [
       "  0%|          | 0/98 [00:00<?, ?it/s]"
      ]
     },
     "metadata": {},
     "output_type": "display_data"
    },
    {
     "name": "stdout",
     "output_type": "stream",
     "text": [
      "Train Epoch Loss: 8.64483299665153e-05\n",
      "Test Epoch Loss: 8.688020170666277e-05\n",
      "Learning rate: 0.0001\n",
      "Epoch 2\n"
     ]
    },
    {
     "data": {
      "application/vnd.jupyter.widget-view+json": {
       "model_id": "287d074b2ad943d4ae3bb7a288204231",
       "version_major": 2,
       "version_minor": 0
      },
      "text/plain": [
       "  0%|          | 0/194 [00:00<?, ?it/s]"
      ]
     },
     "metadata": {},
     "output_type": "display_data"
    },
    {
     "name": "stdout",
     "output_type": "stream",
     "text": [
      ">> Getting train/loss for entire pNN ...\n"
     ]
    },
    {
     "data": {
      "application/vnd.jupyter.widget-view+json": {
       "model_id": "288d132538a54f52a3240c1e7a9df2d1",
       "version_major": 2,
       "version_minor": 0
      },
      "text/plain": [
       "  0%|          | 0/194 [00:00<?, ?it/s]"
      ]
     },
     "metadata": {},
     "output_type": "display_data"
    },
    {
     "data": {
      "application/vnd.jupyter.widget-view+json": {
       "model_id": "f016d362dd834a8c816e2ac388c8f4e2",
       "version_major": 2,
       "version_minor": 0
      },
      "text/plain": [
       "  0%|          | 0/98 [00:00<?, ?it/s]"
      ]
     },
     "metadata": {},
     "output_type": "display_data"
    },
    {
     "name": "stdout",
     "output_type": "stream",
     "text": [
      "Train Epoch Loss: 8.2555299741216e-05\n",
      "Test Epoch Loss: 8.299094042740762e-05\n",
      "Learning rate: 0.0001\n",
      "Epoch 3\n"
     ]
    },
    {
     "data": {
      "application/vnd.jupyter.widget-view+json": {
       "model_id": "9cf03caf1ff748b08320dae34681f890",
       "version_major": 2,
       "version_minor": 0
      },
      "text/plain": [
       "  0%|          | 0/194 [00:00<?, ?it/s]"
      ]
     },
     "metadata": {},
     "output_type": "display_data"
    },
    {
     "name": "stdout",
     "output_type": "stream",
     "text": [
      ">> Getting train/loss for entire pNN ...\n"
     ]
    },
    {
     "data": {
      "application/vnd.jupyter.widget-view+json": {
       "model_id": "358875abd2524562afd36a0258a984b1",
       "version_major": 2,
       "version_minor": 0
      },
      "text/plain": [
       "  0%|          | 0/194 [00:00<?, ?it/s]"
      ]
     },
     "metadata": {},
     "output_type": "display_data"
    },
    {
     "data": {
      "application/vnd.jupyter.widget-view+json": {
       "model_id": "d280dfe3832148488562fcf4624fa7a6",
       "version_major": 2,
       "version_minor": 0
      },
      "text/plain": [
       "  0%|          | 0/98 [00:00<?, ?it/s]"
      ]
     },
     "metadata": {},
     "output_type": "display_data"
    },
    {
     "name": "stdout",
     "output_type": "stream",
     "text": [
      "Train Epoch Loss: 8.052183693507686e-05\n",
      "Test Epoch Loss: 8.09866251074709e-05\n",
      "Learning rate: 0.0001\n",
      "Epoch 4\n"
     ]
    },
    {
     "data": {
      "application/vnd.jupyter.widget-view+json": {
       "model_id": "54da5db4edd74f0998a0134cc9fb2e2f",
       "version_major": 2,
       "version_minor": 0
      },
      "text/plain": [
       "  0%|          | 0/194 [00:00<?, ?it/s]"
      ]
     },
     "metadata": {},
     "output_type": "display_data"
    },
    {
     "name": "stdout",
     "output_type": "stream",
     "text": [
      ">> Getting train/loss for entire pNN ...\n"
     ]
    },
    {
     "data": {
      "application/vnd.jupyter.widget-view+json": {
       "model_id": "065a8497125f42d9814c928008df9101",
       "version_major": 2,
       "version_minor": 0
      },
      "text/plain": [
       "  0%|          | 0/194 [00:00<?, ?it/s]"
      ]
     },
     "metadata": {},
     "output_type": "display_data"
    },
    {
     "data": {
      "application/vnd.jupyter.widget-view+json": {
       "model_id": "c97e71a2ae5f40d39392525207769111",
       "version_major": 2,
       "version_minor": 0
      },
      "text/plain": [
       "  0%|          | 0/98 [00:00<?, ?it/s]"
      ]
     },
     "metadata": {},
     "output_type": "display_data"
    },
    {
     "name": "stdout",
     "output_type": "stream",
     "text": [
      "Train Epoch Loss: 7.961164374137297e-05\n",
      "Test Epoch Loss: 8.007943688426167e-05\n",
      "Learning rate: 0.0001\n",
      "Epoch 5\n"
     ]
    },
    {
     "data": {
      "application/vnd.jupyter.widget-view+json": {
       "model_id": "ffbe5752916d4e0ea8cba6d0b109a1a3",
       "version_major": 2,
       "version_minor": 0
      },
      "text/plain": [
       "  0%|          | 0/194 [00:00<?, ?it/s]"
      ]
     },
     "metadata": {},
     "output_type": "display_data"
    },
    {
     "name": "stdout",
     "output_type": "stream",
     "text": [
      ">> Getting train/loss for entire pNN ...\n"
     ]
    },
    {
     "data": {
      "application/vnd.jupyter.widget-view+json": {
       "model_id": "e673c52ac4bd400b802b8620cde8149c",
       "version_major": 2,
       "version_minor": 0
      },
      "text/plain": [
       "  0%|          | 0/194 [00:00<?, ?it/s]"
      ]
     },
     "metadata": {},
     "output_type": "display_data"
    },
    {
     "data": {
      "application/vnd.jupyter.widget-view+json": {
       "model_id": "c3b12ea3713d43fab601cf0b336005b6",
       "version_major": 2,
       "version_minor": 0
      },
      "text/plain": [
       "  0%|          | 0/98 [00:00<?, ?it/s]"
      ]
     },
     "metadata": {},
     "output_type": "display_data"
    },
    {
     "name": "stdout",
     "output_type": "stream",
     "text": [
      "Train Epoch Loss: 7.919366908026859e-05\n",
      "Test Epoch Loss: 7.974943582667038e-05\n",
      "Learning rate: 0.0001\n",
      "Epoch 6\n"
     ]
    },
    {
     "data": {
      "application/vnd.jupyter.widget-view+json": {
       "model_id": "daaf11067ce64f44af1e7ac51a77671b",
       "version_major": 2,
       "version_minor": 0
      },
      "text/plain": [
       "  0%|          | 0/194 [00:00<?, ?it/s]"
      ]
     },
     "metadata": {},
     "output_type": "display_data"
    },
    {
     "name": "stdout",
     "output_type": "stream",
     "text": [
      ">> Getting train/loss for entire pNN ...\n"
     ]
    },
    {
     "data": {
      "application/vnd.jupyter.widget-view+json": {
       "model_id": "fca1e8e8bc7b4e128c89d136147f5c2c",
       "version_major": 2,
       "version_minor": 0
      },
      "text/plain": [
       "  0%|          | 0/194 [00:00<?, ?it/s]"
      ]
     },
     "metadata": {},
     "output_type": "display_data"
    },
    {
     "data": {
      "application/vnd.jupyter.widget-view+json": {
       "model_id": "eb802941b9cb45eaa26e47926f5cd232",
       "version_major": 2,
       "version_minor": 0
      },
      "text/plain": [
       "  0%|          | 0/98 [00:00<?, ?it/s]"
      ]
     },
     "metadata": {},
     "output_type": "display_data"
    },
    {
     "name": "stdout",
     "output_type": "stream",
     "text": [
      "Train Epoch Loss: 7.908352563390508e-05\n",
      "Test Epoch Loss: 7.955308683449402e-05\n",
      "Learning rate: 0.0001\n",
      "Epoch 7\n"
     ]
    },
    {
     "data": {
      "application/vnd.jupyter.widget-view+json": {
       "model_id": "a29e4a5f077245738873fc956ff92c4b",
       "version_major": 2,
       "version_minor": 0
      },
      "text/plain": [
       "  0%|          | 0/194 [00:00<?, ?it/s]"
      ]
     },
     "metadata": {},
     "output_type": "display_data"
    },
    {
     "name": "stdout",
     "output_type": "stream",
     "text": [
      ">> Getting train/loss for entire pNN ...\n"
     ]
    },
    {
     "data": {
      "application/vnd.jupyter.widget-view+json": {
       "model_id": "770d0d8a6d2f4f798e66d2cdba1bcd55",
       "version_major": 2,
       "version_minor": 0
      },
      "text/plain": [
       "  0%|          | 0/194 [00:00<?, ?it/s]"
      ]
     },
     "metadata": {},
     "output_type": "display_data"
    },
    {
     "data": {
      "application/vnd.jupyter.widget-view+json": {
       "model_id": "2ce8d1abc31a4921944d576475c39207",
       "version_major": 2,
       "version_minor": 0
      },
      "text/plain": [
       "  0%|          | 0/98 [00:00<?, ?it/s]"
      ]
     },
     "metadata": {},
     "output_type": "display_data"
    },
    {
     "name": "stdout",
     "output_type": "stream",
     "text": [
      "Train Epoch Loss: 7.90252597653307e-05\n",
      "Test Epoch Loss: 7.956917397677898e-05\n",
      "Learning rate: 0.0001\n",
      "Epoch 8\n"
     ]
    },
    {
     "data": {
      "application/vnd.jupyter.widget-view+json": {
       "model_id": "0a4f6000a46e478ba9c27ed1e2148601",
       "version_major": 2,
       "version_minor": 0
      },
      "text/plain": [
       "  0%|          | 0/194 [00:00<?, ?it/s]"
      ]
     },
     "metadata": {},
     "output_type": "display_data"
    },
    {
     "name": "stdout",
     "output_type": "stream",
     "text": [
      ">> Getting train/loss for entire pNN ...\n"
     ]
    },
    {
     "data": {
      "application/vnd.jupyter.widget-view+json": {
       "model_id": "13074304d4624666859d48017e021e18",
       "version_major": 2,
       "version_minor": 0
      },
      "text/plain": [
       "  0%|          | 0/194 [00:00<?, ?it/s]"
      ]
     },
     "metadata": {},
     "output_type": "display_data"
    },
    {
     "data": {
      "application/vnd.jupyter.widget-view+json": {
       "model_id": "ba418fb15f5b4ef0aa9d655b971a2680",
       "version_major": 2,
       "version_minor": 0
      },
      "text/plain": [
       "  0%|          | 0/98 [00:00<?, ?it/s]"
      ]
     },
     "metadata": {},
     "output_type": "display_data"
    },
    {
     "name": "stdout",
     "output_type": "stream",
     "text": [
      "Train Epoch Loss: 7.89671394159086e-05\n",
      "Test Epoch Loss: 7.952006853884086e-05\n",
      "Learning rate: 0.0001\n",
      "Epoch 9\n"
     ]
    },
    {
     "data": {
      "application/vnd.jupyter.widget-view+json": {
       "model_id": "261f661b12e845eb84cb3bceb1b43b18",
       "version_major": 2,
       "version_minor": 0
      },
      "text/plain": [
       "  0%|          | 0/194 [00:00<?, ?it/s]"
      ]
     },
     "metadata": {},
     "output_type": "display_data"
    },
    {
     "name": "stdout",
     "output_type": "stream",
     "text": [
      ">> Getting train/loss for entire pNN ...\n"
     ]
    },
    {
     "data": {
      "application/vnd.jupyter.widget-view+json": {
       "model_id": "d0c0f47c50284e7a8f45cefdca141364",
       "version_major": 2,
       "version_minor": 0
      },
      "text/plain": [
       "  0%|          | 0/194 [00:00<?, ?it/s]"
      ]
     },
     "metadata": {},
     "output_type": "display_data"
    },
    {
     "data": {
      "application/vnd.jupyter.widget-view+json": {
       "model_id": "cc71fe4b58d84394a7084e3387cea70c",
       "version_major": 2,
       "version_minor": 0
      },
      "text/plain": [
       "  0%|          | 0/98 [00:00<?, ?it/s]"
      ]
     },
     "metadata": {},
     "output_type": "display_data"
    },
    {
     "name": "stdout",
     "output_type": "stream",
     "text": [
      "Train Epoch Loss: 7.904328958829865e-05\n",
      "Test Epoch Loss: 7.955154433147982e-05\n",
      "Learning rate: 0.0001\n",
      "Epoch 10\n"
     ]
    },
    {
     "data": {
      "application/vnd.jupyter.widget-view+json": {
       "model_id": "8176ea27dc9b48ef94208056f65a8f5f",
       "version_major": 2,
       "version_minor": 0
      },
      "text/plain": [
       "  0%|          | 0/194 [00:00<?, ?it/s]"
      ]
     },
     "metadata": {},
     "output_type": "display_data"
    },
    {
     "name": "stdout",
     "output_type": "stream",
     "text": [
      ">> Getting train/loss for entire pNN ...\n"
     ]
    },
    {
     "data": {
      "application/vnd.jupyter.widget-view+json": {
       "model_id": "e557d35126ca49e4b38d1b5178cb926a",
       "version_major": 2,
       "version_minor": 0
      },
      "text/plain": [
       "  0%|          | 0/194 [00:00<?, ?it/s]"
      ]
     },
     "metadata": {},
     "output_type": "display_data"
    },
    {
     "data": {
      "application/vnd.jupyter.widget-view+json": {
       "model_id": "537d4921098d4a9795e0fe5483c297f5",
       "version_major": 2,
       "version_minor": 0
      },
      "text/plain": [
       "  0%|          | 0/98 [00:00<?, ?it/s]"
      ]
     },
     "metadata": {},
     "output_type": "display_data"
    },
    {
     "name": "stdout",
     "output_type": "stream",
     "text": [
      "Train Epoch Loss: 7.901897333795205e-05\n",
      "Test Epoch Loss: 7.947329140733927e-05\n",
      "Learning rate: 8.480753604089841e-05\n",
      "Epoch 11\n"
     ]
    },
    {
     "data": {
      "application/vnd.jupyter.widget-view+json": {
       "model_id": "420c6973c87b4eab8ff3fc3199862f37",
       "version_major": 2,
       "version_minor": 0
      },
      "text/plain": [
       "  0%|          | 0/194 [00:00<?, ?it/s]"
      ]
     },
     "metadata": {},
     "output_type": "display_data"
    },
    {
     "name": "stdout",
     "output_type": "stream",
     "text": [
      ">> Getting train/loss for entire pNN ...\n"
     ]
    },
    {
     "data": {
      "application/vnd.jupyter.widget-view+json": {
       "model_id": "ea66bd02e7b342878b7dfd197d861c2f",
       "version_major": 2,
       "version_minor": 0
      },
      "text/plain": [
       "  0%|          | 0/194 [00:00<?, ?it/s]"
      ]
     },
     "metadata": {},
     "output_type": "display_data"
    },
    {
     "data": {
      "application/vnd.jupyter.widget-view+json": {
       "model_id": "eceddae1acef4271832e26402e449ec9",
       "version_major": 2,
       "version_minor": 0
      },
      "text/plain": [
       "  0%|          | 0/98 [00:00<?, ?it/s]"
      ]
     },
     "metadata": {},
     "output_type": "display_data"
    },
    {
     "name": "stdout",
     "output_type": "stream",
     "text": [
      "Train Epoch Loss: 7.905657548690215e-05\n",
      "Test Epoch Loss: 7.957727211760357e-05\n",
      "Learning rate: 8.480753604089841e-05\n",
      "Epoch 12\n"
     ]
    },
    {
     "data": {
      "application/vnd.jupyter.widget-view+json": {
       "model_id": "d8113f658f8143b89dd622e5777f92a3",
       "version_major": 2,
       "version_minor": 0
      },
      "text/plain": [
       "  0%|          | 0/194 [00:00<?, ?it/s]"
      ]
     },
     "metadata": {},
     "output_type": "display_data"
    },
    {
     "name": "stdout",
     "output_type": "stream",
     "text": [
      ">> Getting train/loss for entire pNN ...\n"
     ]
    },
    {
     "data": {
      "application/vnd.jupyter.widget-view+json": {
       "model_id": "c1ddbc0aca574b88bccf31bf420e2e80",
       "version_major": 2,
       "version_minor": 0
      },
      "text/plain": [
       "  0%|          | 0/194 [00:00<?, ?it/s]"
      ]
     },
     "metadata": {},
     "output_type": "display_data"
    },
    {
     "data": {
      "application/vnd.jupyter.widget-view+json": {
       "model_id": "61bd3e85caff4b208cb23b4f25c6a3da",
       "version_major": 2,
       "version_minor": 0
      },
      "text/plain": [
       "  0%|          | 0/98 [00:00<?, ?it/s]"
      ]
     },
     "metadata": {},
     "output_type": "display_data"
    },
    {
     "name": "stdout",
     "output_type": "stream",
     "text": [
      "Train Epoch Loss: 7.899681077105924e-05\n",
      "Test Epoch Loss: 7.946544064907357e-05\n",
      "Learning rate: 8.480753604089841e-05\n",
      "Epoch 13\n"
     ]
    },
    {
     "data": {
      "application/vnd.jupyter.widget-view+json": {
       "model_id": "082ad37c256941cea2566c8105654db0",
       "version_major": 2,
       "version_minor": 0
      },
      "text/plain": [
       "  0%|          | 0/194 [00:00<?, ?it/s]"
      ]
     },
     "metadata": {},
     "output_type": "display_data"
    },
    {
     "name": "stdout",
     "output_type": "stream",
     "text": [
      ">> Getting train/loss for entire pNN ...\n"
     ]
    },
    {
     "data": {
      "application/vnd.jupyter.widget-view+json": {
       "model_id": "9c33b4dba2584ef9895e2b1d13dc710a",
       "version_major": 2,
       "version_minor": 0
      },
      "text/plain": [
       "  0%|          | 0/194 [00:00<?, ?it/s]"
      ]
     },
     "metadata": {},
     "output_type": "display_data"
    },
    {
     "data": {
      "application/vnd.jupyter.widget-view+json": {
       "model_id": "63fd4dd8a0f145d69d419f371977ab0e",
       "version_major": 2,
       "version_minor": 0
      },
      "text/plain": [
       "  0%|          | 0/98 [00:00<?, ?it/s]"
      ]
     },
     "metadata": {},
     "output_type": "display_data"
    },
    {
     "name": "stdout",
     "output_type": "stream",
     "text": [
      "Train Epoch Loss: 7.896278839325532e-05\n",
      "Test Epoch Loss: 7.943920354591683e-05\n",
      "Learning rate: 8.480753604089841e-05\n",
      "Epoch 14\n"
     ]
    },
    {
     "data": {
      "application/vnd.jupyter.widget-view+json": {
       "model_id": "4391f22047874a39bea652e8f30c0e2c",
       "version_major": 2,
       "version_minor": 0
      },
      "text/plain": [
       "  0%|          | 0/194 [00:00<?, ?it/s]"
      ]
     },
     "metadata": {},
     "output_type": "display_data"
    },
    {
     "name": "stdout",
     "output_type": "stream",
     "text": [
      ">> Getting train/loss for entire pNN ...\n"
     ]
    },
    {
     "data": {
      "application/vnd.jupyter.widget-view+json": {
       "model_id": "2ce52919c02443108f9417d57cffc742",
       "version_major": 2,
       "version_minor": 0
      },
      "text/plain": [
       "  0%|          | 0/194 [00:00<?, ?it/s]"
      ]
     },
     "metadata": {},
     "output_type": "display_data"
    },
    {
     "data": {
      "application/vnd.jupyter.widget-view+json": {
       "model_id": "2c5a06925c1742c6977a958d6ff00882",
       "version_major": 2,
       "version_minor": 0
      },
      "text/plain": [
       "  0%|          | 0/98 [00:00<?, ?it/s]"
      ]
     },
     "metadata": {},
     "output_type": "display_data"
    },
    {
     "name": "stdout",
     "output_type": "stream",
     "text": [
      "Train Epoch Loss: 7.898845069576055e-05\n",
      "Test Epoch Loss: 7.954784814501181e-05\n",
      "Learning rate: 8.480753604089841e-05\n",
      "Epoch 15\n"
     ]
    },
    {
     "data": {
      "application/vnd.jupyter.widget-view+json": {
       "model_id": "ddc2da61f98e402a8f6347ffe7e8919b",
       "version_major": 2,
       "version_minor": 0
      },
      "text/plain": [
       "  0%|          | 0/194 [00:00<?, ?it/s]"
      ]
     },
     "metadata": {},
     "output_type": "display_data"
    },
    {
     "name": "stdout",
     "output_type": "stream",
     "text": [
      ">> Getting train/loss for entire pNN ...\n"
     ]
    },
    {
     "data": {
      "application/vnd.jupyter.widget-view+json": {
       "model_id": "35b85f3428be45a4b0b7a05076bddc6f",
       "version_major": 2,
       "version_minor": 0
      },
      "text/plain": [
       "  0%|          | 0/194 [00:00<?, ?it/s]"
      ]
     },
     "metadata": {},
     "output_type": "display_data"
    },
    {
     "data": {
      "application/vnd.jupyter.widget-view+json": {
       "model_id": "b2f7b85610dc4c37a97217fdb045fecf",
       "version_major": 2,
       "version_minor": 0
      },
      "text/plain": [
       "  0%|          | 0/98 [00:00<?, ?it/s]"
      ]
     },
     "metadata": {},
     "output_type": "display_data"
    },
    {
     "name": "stdout",
     "output_type": "stream",
     "text": [
      "Train Epoch Loss: 7.894973532529548e-05\n",
      "Test Epoch Loss: 7.952150917844847e-05\n",
      "Learning rate: 8.480753604089841e-05\n",
      "Epoch 16\n"
     ]
    },
    {
     "data": {
      "application/vnd.jupyter.widget-view+json": {
       "model_id": "b95cbb75102642c085c3fe03185923a7",
       "version_major": 2,
       "version_minor": 0
      },
      "text/plain": [
       "  0%|          | 0/194 [00:00<?, ?it/s]"
      ]
     },
     "metadata": {},
     "output_type": "display_data"
    },
    {
     "name": "stdout",
     "output_type": "stream",
     "text": [
      ">> Getting train/loss for entire pNN ...\n"
     ]
    },
    {
     "data": {
      "application/vnd.jupyter.widget-view+json": {
       "model_id": "877e9c649b87434e8db445371ad1cad9",
       "version_major": 2,
       "version_minor": 0
      },
      "text/plain": [
       "  0%|          | 0/194 [00:00<?, ?it/s]"
      ]
     },
     "metadata": {},
     "output_type": "display_data"
    },
    {
     "data": {
      "application/vnd.jupyter.widget-view+json": {
       "model_id": "07dbfe12861445a38e08efabbac21662",
       "version_major": 2,
       "version_minor": 0
      },
      "text/plain": [
       "  0%|          | 0/98 [00:00<?, ?it/s]"
      ]
     },
     "metadata": {},
     "output_type": "display_data"
    },
    {
     "name": "stdout",
     "output_type": "stream",
     "text": [
      "Train Epoch Loss: 7.897648174548522e-05\n",
      "Test Epoch Loss: 7.958892092574388e-05\n",
      "Learning rate: 8.480753604089841e-05\n",
      "Epoch 17\n"
     ]
    },
    {
     "data": {
      "application/vnd.jupyter.widget-view+json": {
       "model_id": "6311cc38ecaa4959a51ad184a3677495",
       "version_major": 2,
       "version_minor": 0
      },
      "text/plain": [
       "  0%|          | 0/194 [00:00<?, ?it/s]"
      ]
     },
     "metadata": {},
     "output_type": "display_data"
    },
    {
     "name": "stdout",
     "output_type": "stream",
     "text": [
      ">> Getting train/loss for entire pNN ...\n"
     ]
    },
    {
     "data": {
      "application/vnd.jupyter.widget-view+json": {
       "model_id": "dfd81124d5184d50b17075f8c4479650",
       "version_major": 2,
       "version_minor": 0
      },
      "text/plain": [
       "  0%|          | 0/194 [00:00<?, ?it/s]"
      ]
     },
     "metadata": {},
     "output_type": "display_data"
    },
    {
     "data": {
      "application/vnd.jupyter.widget-view+json": {
       "model_id": "a8392936edd94a94ac6513ee5885e8bb",
       "version_major": 2,
       "version_minor": 0
      },
      "text/plain": [
       "  0%|          | 0/98 [00:00<?, ?it/s]"
      ]
     },
     "metadata": {},
     "output_type": "display_data"
    },
    {
     "name": "stdout",
     "output_type": "stream",
     "text": [
      "Train Epoch Loss: 7.895073213148862e-05\n",
      "Test Epoch Loss: 7.961603114381433e-05\n",
      "Learning rate: 8.480753604089841e-05\n",
      "Epoch 18\n"
     ]
    },
    {
     "data": {
      "application/vnd.jupyter.widget-view+json": {
       "model_id": "c6b5a3cef997487991c65677bc24ef5d",
       "version_major": 2,
       "version_minor": 0
      },
      "text/plain": [
       "  0%|          | 0/194 [00:00<?, ?it/s]"
      ]
     },
     "metadata": {},
     "output_type": "display_data"
    },
    {
     "name": "stdout",
     "output_type": "stream",
     "text": [
      ">> Getting train/loss for entire pNN ...\n"
     ]
    },
    {
     "data": {
      "application/vnd.jupyter.widget-view+json": {
       "model_id": "fb82077f94d54acd9134c7291a8e7c43",
       "version_major": 2,
       "version_minor": 0
      },
      "text/plain": [
       "  0%|          | 0/194 [00:00<?, ?it/s]"
      ]
     },
     "metadata": {},
     "output_type": "display_data"
    },
    {
     "data": {
      "application/vnd.jupyter.widget-view+json": {
       "model_id": "06fc2fafccee4dcba405e8e9848b88e2",
       "version_major": 2,
       "version_minor": 0
      },
      "text/plain": [
       "  0%|          | 0/98 [00:00<?, ?it/s]"
      ]
     },
     "metadata": {},
     "output_type": "display_data"
    },
    {
     "name": "stdout",
     "output_type": "stream",
     "text": [
      "Train Epoch Loss: 7.89415353210643e-05\n",
      "Test Epoch Loss: 7.9600780736655e-05\n",
      "Learning rate: 8.480753604089841e-05\n",
      "Early stopping triggered\n",
      ">> Training finished\n",
      "Best model at epoch 13 with loss of 7.943920354591683e-05\n"
     ]
    },
    {
     "ename": "KeyError",
     "evalue": "260",
     "output_type": "error",
     "traceback": [
      "\u001b[1;31m---------------------------------------------------------------------------\u001b[0m",
      "\u001b[1;31mKeyError\u001b[0m                                  Traceback (most recent call last)",
      "Cell \u001b[1;32mIn[4], line 34\u001b[0m\n\u001b[0;32m     31\u001b[0m signal_mass \u001b[38;5;241m=\u001b[39m \u001b[38;5;28mint\u001b[39m(mass_eval)\n\u001b[0;32m     33\u001b[0m plt\u001b[38;5;241m.\u001b[39mfigure()\n\u001b[1;32m---> 34\u001b[0m plt\u001b[38;5;241m.\u001b[39mplot(signal_output_score_train_dict[signal_mass], label \u001b[38;5;241m=\u001b[39m \u001b[38;5;124m'\u001b[39m\u001b[38;5;124mTrain\u001b[39m\u001b[38;5;124m'\u001b[39m)\n\u001b[0;32m     35\u001b[0m plt\u001b[38;5;241m.\u001b[39mplot(signal_output_score_test_dict[signal_mass], label \u001b[38;5;241m=\u001b[39m \u001b[38;5;124m'\u001b[39m\u001b[38;5;124mTest\u001b[39m\u001b[38;5;124m'\u001b[39m)\n\u001b[0;32m     36\u001b[0m plt\u001b[38;5;241m.\u001b[39maxvline(best_epoch, label \u001b[38;5;241m=\u001b[39m \u001b[38;5;124mf\u001b[39m\u001b[38;5;124m'\u001b[39m\u001b[38;5;124mBest Performing Epoch - \u001b[39m\u001b[38;5;132;01m{\u001b[39;00mbest_epoch\u001b[38;5;132;01m}\u001b[39;00m\u001b[38;5;124m'\u001b[39m)\n",
      "\u001b[1;31mKeyError\u001b[0m: 260"
     ]
    },
    {
     "data": {
      "text/plain": [
       "<Figure size 1000x1000 with 0 Axes>"
      ]
     },
     "metadata": {},
     "output_type": "display_data"
    }
   ],
   "source": [
    "'''\n",
    "    Simply run this cell, you can terminate when satisfied / wait for epochs to finish / wait for early stopping.\n",
    "'''\n",
    "\n",
    "# Do not change this (This feature does not work yet).\n",
    "single_mass = False\n",
    "\n",
    "x_test_global = None\n",
    "scaler_global = None\n",
    "best_epoch_global = None\n",
    "allmasses=['260','270','280','290','300','320','350','400','450','500','550','600','650','700','750','800','900','1000']\n",
    "\n",
    "auclist=[]\n",
    "for nodes in architectures:\n",
    "    directory = f'models_{num_of_features}_features_{nodes}{directory_add_on}'\n",
    "    \n",
    "    signal_df, background_df, combine_df, add_to_test_df = te.read_dataframes()\n",
    "\n",
    "    x_train,x_test,x_train_original,x_test_original = te.getTrainTestSplit(combine_df,add_to_test_df)\n",
    "\n",
    "    x_test_global = x_test.copy()\n",
    "    \n",
    "    models,epoch_loss_train,epoch_loss_test,output_score,output_score_train, learning_rate_epochs,scaler,best_epoch,directory,signal_output_score_train_dict,signal_output_score_test_dict = te.trainNetwork_no_weights(x_train, x_test, feature_list, learningrate, epoch = epoch, save_models=save_models,\n",
    "                        batch_size = batch_size, nodes = nodes, patience = patience, model_type=model_type,scheduler_type=scheduler_type,directory = directory,scheduler = scheduler,dynamic_batch = dynamic_batch,single_mass = single_mass)\n",
    "\n",
    "    scaler_global = scaler\n",
    "    best_epoch_global = best_epoch\n",
    "\n",
    "    for i,mass_eval in enumerate(allmasses):\n",
    "\n",
    "        signal_mass = int(mass_eval)\n",
    "        \n",
    "        plt.figure()\n",
    "        plt.plot(signal_output_score_train_dict[signal_mass], label = 'Train')\n",
    "        plt.plot(signal_output_score_test_dict[signal_mass], label = 'Test')\n",
    "        plt.axvline(best_epoch, label = f'Best Performing Epoch - {best_epoch}')\n",
    "        plt.ylabel('Loss')\n",
    "        plt.xlabel('Epoch')\n",
    "        plt.title(f'Loss per Epoch for Signal {signal_mass} GeV')\n",
    "        plt.legend()\n",
    "        plt.savefig(f'{directory}/signal_{signal_mass}_loss_graph.png',format = 'png', dpi = 400)\n",
    "        plt.show()\n",
    "        \n",
    "\n",
    "    signal_output_score,background_output_score = separate_output_score(output_score,x_test['y'])\n",
    "\n",
    "    \n",
    "    fpr, tpr, thresholds = roc_curve(x_test['y'], output_score.cpu().detach().numpy())\n",
    "    roc_auc = auc(fpr, tpr)\n",
    "    print(f'Printing AUC Score:{roc_auc} for pNN of architecture {(nodes)}')\n",
    "    \n",
    "    fig, axs = plt.subplots(1, 3, figsize=(24, 10))\n",
    "        \n",
    "    line_train,=axs[0].plot(epoch_loss_train, label = 'Train')\n",
    "    line_test, =axs[0].plot(epoch_loss_test, label = 'Test')\n",
    "    axs[0].axvline(best_epoch, label = f'Best Performing Epoch - {best_epoch}')\n",
    "    axs[0].set_ylabel('Loss')\n",
    "    axs[0].set_xlabel('Epoch')\n",
    "    axs[0].set_title('Loss per Epoch')\n",
    "    lines = [line_train,line_test]\n",
    "    if plot_learning_rate == 'yes':\n",
    "        ax1_twin = axs[0].twinx()\n",
    "        line_lr,=ax1_twin.plot(learning_rate_epochs, label='Learning Rate', linestyle='--', color='red')\n",
    "        ax1_twin.set_ylabel('Learning Rate')\n",
    "        ax1_twin.tick_params(axis='y')\n",
    "        lines = [line_train,line_test,line_lr]\n",
    "    \n",
    "    labels = [line.get_label() for line in lines]\n",
    "    ax1_twin.legend(lines, labels, loc='upper right', fontsize=16)   \n",
    "    axs[1].hist(signal_output_score, label = 'Signal',bins=80,histtype='step')\n",
    "    axs[1].hist(background_output_score, label = 'Background',bins=80,histtype='step')\n",
    "    axs[1].set_xlabel(\"Output Score\")\n",
    "    axs[1].set_title('Classification Distribution')\n",
    "    axs[1].set_ylabel(\"Frequency\")\n",
    "    axs[1].legend()\n",
    "    \n",
    "    axs[2].plot(fpr, tpr, color='darkorange', lw=2, label=f'ROC curve (area = {roc_auc:.3f})')\n",
    "    axs[2].plot([0, 1], [0, 1], color='navy', lw=2, linestyle='--')\n",
    "    axs[2].set_xlim([0.0, 1.0])\n",
    "    axs[2].set_ylim([0.0, 1.05])\n",
    "    axs[2].set_xlabel('False Positive Rate')\n",
    "    axs[2].set_ylabel('True Positive Rate')\n",
    "    axs[2].set_title('Receiver Operating Characteristic',fontsize=18)\n",
    "    axs[2].legend(loc=\"lower right\")\n",
    "    plt.tight_layout()\n",
    "    plt.legend()\n",
    "    #plt.title(f'{signal_names[l]}')\n",
    "    fig.suptitle(f'pNN: architecture={nodes}, lr={learningrate}', fontsize=16)\n",
    "    plt.savefig(f'{directory}/graph.png',format = 'png')\n",
    "    plt.show()\n",
    "    #plt.savefig(f'lossclassROC_m={mass}_arch={nodes}_lr={learningrate}.png')\n",
    "    #plt.savefig(f'savetrial1000.png')\n",
    "\n",
    "    \n",
    "    auclist.append([roc_auc,nodes])\n",
    "    \n",
    "featurescore_df = pd.DataFrame(auclist, columns=['score', 'nodes per hidden layer'])\n",
    "    \n",
    "    #output_file_path = f'OptimisedArch310124_{mass}_lr{learningrate}_[50,50,50].csv'\n",
    "    #featurescore_df.to_csv(output_file_path, index=False)\n",
    "         \n"
   ]
  },
  {
   "cell_type": "code",
   "execution_count": 4,
   "metadata": {},
   "outputs": [
    {
     "ename": "NameError",
     "evalue": "name 'feature_list' is not defined",
     "output_type": "error",
     "traceback": [
      "\u001b[1;31m---------------------------------------------------------------------------\u001b[0m",
      "\u001b[1;31mNameError\u001b[0m                                 Traceback (most recent call last)",
      "Cell \u001b[1;32mIn[4], line 1\u001b[0m\n\u001b[1;32m----> 1\u001b[0m feature_list\n",
      "\u001b[1;31mNameError\u001b[0m: name 'feature_list' is not defined"
     ]
    }
   ],
   "source": [
    "feature_list"
   ]
  },
  {
   "cell_type": "code",
   "execution_count": null,
   "metadata": {},
   "outputs": [],
   "source": [
    "import torch.nn as nn\n",
    "variables={}\n",
    "architecture=[[28, 50, 40, 30, 20, 10, 5, 4, 3, 2, 1]]\n",
    "hidden_name = f\"linear_{0}\"\n",
    "affine_name = f\"affine _{1}\"\n",
    "linear_layer = nn.Linear(architecture[0][0], architecture[0][1])\n",
    "affine_layer = nn.Linear(architecture[0][1], architecture[0][2])\n",
    "variables[hidden_name] = linear_layer\n",
    "variables[affine_name] = affine_layer\n",
    "for layer_index in range(0,len(architecture[0])-1):\n",
    "    if layer_index != 0 and layer_index != 1:\n",
    "        #print(layer_index)\n",
    "        hidden_name = f\"linear_{layer_index}\"\n",
    "        affine_name = f\"affine _{layer_index}\"\n",
    "        linear_layer = nn.Linear(architecture[0][layer_index], architecture[0][layer_index])\n",
    "        affine_layer = nn.Linear(architecture[0][layer_index], architecture[0][layer_index+1])\n",
    "        variables[hidden_name] = linear_layer\n",
    "        variables[affine_name] = affine_layer\n",
    "        "
   ]
  },
  {
   "cell_type": "code",
   "execution_count": null,
   "metadata": {},
   "outputs": [
    {
     "data": {
      "text/plain": [
       "[[27, 1024, 512, 256, 128, 64, 32, 1]]"
      ]
     },
     "execution_count": 10,
     "metadata": {},
     "output_type": "execute_result"
    }
   ],
   "source": [
    "\n",
    "architecture"
   ]
  },
  {
   "cell_type": "code",
   "execution_count": null,
   "metadata": {},
   "outputs": [],
   "source": [
    "class affinePNN(nn.Module):\n",
    "  #  def __init__(self, input_size, hidden_size, output_size):\n",
    "    def __init__(self, features, nodes):\n",
    "        super(affinePNN, self).__init__()\n",
    "\n",
    "        self.features=features\n",
    "        self.nodes=nodes\n",
    "        self.variables={}\n",
    "        self.architecture=[nodes]\n",
    "\n",
    "        hidden_name = f\"linear_{0}\"\n",
    "        affine_name = f\"affine_scale_{1}\"\n",
    "        affine_bias_name = f'affine_bias_{1}'\n",
    "        self.dropout_layer = nn.Dropout()\n",
    "        self.activation_layer = nn.ELU()\n",
    "        self.sigmoid = nn.Sigmoid()\n",
    "\n",
    "        self.linear_layer = nn.Linear(self.architecture[0][0], self.architecture[0][1])\n",
    "        self.affine_layer = nn.Linear(self.architecture[0][1], self.architecture[0][2])\n",
    "        self.affine_bias  = nn.Linear(self.architecture[0][1], self.architecture[0][2])\n",
    "\n",
    "        self.variables[hidden_name] = self.linear_layer\n",
    "        self.variables[affine_name] = self.affine_layer\n",
    "\n",
    "        for layer_index in range(0,len(self.architecture[0])-1):\n",
    "            if layer_index != 0 and layer_index != 1:\n",
    "                #print(layer_index)\n",
    "                hidden_name = f\"linear_{layer_index}\"\n",
    "                affine_name = f\"affine__scale_{layer_index}\"\n",
    "                affine_bias_name = f'affine_bias_{layer_index}'\n",
    "\n",
    "                \n",
    "                self.linear_layer = nn.Linear(self.architecture[0][layer_index], self.architecture[0][layer_index])\n",
    "                self.affine_layer = nn.Linear(self.architecture[0][layer_index], self.architecture[0][layer_index+1])\n",
    "                self.affine_bias = nn.Linear(self.architecture[0][layer_index],self.architecture[0][layer_index+1])\n",
    "\n",
    "                self.variables[hidden_name] = self.linear_layer\n",
    "                self.variables[affine_name] = self.affine_layer\n",
    "                self.variables[affine_bias_name] = self.affine_bias\n",
    "\n",
    "\n",
    "    def forward(self, data):\n",
    "        #data=\n",
    "        #x=data[]\n",
    "        x=data[0:-1]\n",
    "        y=data[-1]\n",
    "        #implement the divider for mx and the rest of the features\n",
    "\n",
    "        linear=self.variables.get('linear_0')\n",
    "        x=linear(x)\n",
    "        affine_scale=self.variables.get('affine_scale_1')\n",
    "        y1=affine_scale(y)\n",
    "        affine_bias=self.variables.get('affine_bias_1')\n",
    "        y2=affine_bias(y)\n",
    "        x=x*y1+y2\n",
    "        x=self.dropout_layer(x)\n",
    "        x=self.activation_layer(x)\n",
    "\n",
    "        for n in range(2,len(self.architecture[0])-1):\n",
    "            linear=self.variables.get(f'linear_{n}')\n",
    "            x=linear(x)\n",
    "            affine_scale=self.variables.get(f'affine_scale_{n}')\n",
    "            y1=affine_scale(y)\n",
    "            affine_bias=self.variables.get(f'affine_bias_{n}')\n",
    "            y2=affine_bias(y)\n",
    "\n",
    "            x=x*y1+y2\n",
    "            x=self.dropout_layer(x)\n",
    "            x=self.activation_layer(x)\n",
    "        \n",
    "        x=self.sigmoid(x)\n",
    "        return x"
   ]
  },
  {
   "cell_type": "code",
   "execution_count": null,
   "metadata": {},
   "outputs": [
    {
     "ename": "NameError",
     "evalue": "name 'X_train' is not defined",
     "output_type": "error",
     "traceback": [
      "\u001b[1;31m---------------------------------------------------------------------------\u001b[0m",
      "\u001b[1;31mNameError\u001b[0m                                 Traceback (most recent call last)",
      "Cell \u001b[1;32mIn[14], line 1\u001b[0m\n\u001b[1;32m----> 1\u001b[0m X_train\n",
      "\u001b[1;31mNameError\u001b[0m: name 'X_train' is not defined"
     ]
    }
   ],
   "source": [
    "X_train"
   ]
  },
  {
   "cell_type": "code",
   "execution_count": null,
   "metadata": {},
   "outputs": [
    {
     "ename": "NameError",
     "evalue": "name 'X_test' is not defined",
     "output_type": "error",
     "traceback": [
      "\u001b[1;31m---------------------------------------------------------------------------\u001b[0m",
      "\u001b[1;31mNameError\u001b[0m                                 Traceback (most recent call last)",
      "Cell \u001b[1;32mIn[17], line 3\u001b[0m\n\u001b[0;32m      1\u001b[0m model \u001b[38;5;241m=\u001b[39m affinePNN(feature_list,nodes)\n\u001b[1;32m----> 3\u001b[0m model\u001b[38;5;241m.\u001b[39mforward(X_test)\n",
      "\u001b[1;31mNameError\u001b[0m: name 'X_test' is not defined"
     ]
    }
   ],
   "source": [
    "model = affinePNN(feature_list,nodes)\n",
    "\n",
    "model.forward(X_test)"
   ]
  },
  {
   "cell_type": "code",
   "execution_count": null,
   "metadata": {},
   "outputs": [],
   "source": []
  }
 ],
 "metadata": {
  "kernel_info": {
   "name": "python38-azureml"
  },
  "kernelspec": {
   "display_name": "Python 3 (ipykernel)",
   "language": "python",
   "name": "python3"
  },
  "language_info": {
   "codemirror_mode": {
    "name": "ipython",
    "version": 3
   },
   "file_extension": ".py",
   "mimetype": "text/x-python",
   "name": "python",
   "nbconvert_exporter": "python",
   "pygments_lexer": "ipython3",
   "version": "3.11.5"
  },
  "microsoft": {
   "host": {
    "AzureML": {
     "notebookHasBeenCompleted": true
    }
   },
   "ms_spell_check": {
    "ms_spell_check_language": "en"
   }
  },
  "nteract": {
   "version": "nteract-front-end@1.0.0"
  }
 },
 "nbformat": 4,
 "nbformat_minor": 4
}
